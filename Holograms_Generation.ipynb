{
  "cells": [
    {
      "cell_type": "markdown",
      "metadata": {
        "id": "view-in-github",
        "colab_type": "text"
      },
      "source": [
        "<a href=\"https://colab.research.google.com/github/irinagetman1973/Super-Resolution/blob/Holograms/Holograms_Generation.ipynb\" target=\"_parent\"><img src=\"https://colab.research.google.com/assets/colab-badge.svg\" alt=\"Open In Colab\"/></a>"
      ]
    },
    {
      "cell_type": "code",
      "execution_count": null,
      "metadata": {
        "colab": {
          "base_uri": "https://localhost:8080/"
        },
        "id": "enGpQhwBWXfa",
        "outputId": "0a4f8599-0646-456f-cad8-9adf015593ed"
      },
      "outputs": [
        {
          "output_type": "stream",
          "name": "stdout",
          "text": [
            "Mounted at /content/drive\n"
          ]
        }
      ],
      "source": [
        "# Run this block to mount google drive\n",
        "from google.colab import drive\n",
        "drive.mount('/content/drive')"
      ]
    },
    {
      "cell_type": "code",
      "execution_count": null,
      "metadata": {
        "id": "jObZsa9m7lMB"
      },
      "outputs": [],
      "source": [
        "# Importing libraries\n",
        "import numpy as np\n",
        "import math\n",
        "from PIL import Image    \n",
        "import cv2\n",
        "import os\n",
        "import random \n",
        "import glob\n",
        "import sys\n",
        "import tensorflow as tf\n"
      ]
    },
    {
      "cell_type": "markdown",
      "metadata": {
        "id": "6w5kVPD_w9Aw"
      },
      "source": [
        "# Generating High Resolution Holograms"
      ]
    },
    {
      "cell_type": "code",
      "execution_count": null,
      "metadata": {
        "id": "E_Sq25-d8XBB"
      },
      "outputs": [],
      "source": [
        "filepath='/content/drive/MyDrive/Testing/train_HR'\n",
        "\n",
        "samples=100\n",
        "for n in range(1,samples+1):\n",
        "    # Number of pixels\n",
        "    S=1024;\n",
        "    I=np.zeros((S,S),dtype=np.float64)\n",
        "\n",
        "    # Implement a function that randomises the size , rotation and relative position of the object of the centre by +- 10%\n",
        "    # we need more objects later\n",
        "    for row in range(510,510+random.randrange(1,5)): # Randomize width between 1 and 5 pixels \n",
        "        for col in range(510,510+random.randrange(1,5)): # Randomize length between 1 and 5 pixels \n",
        "            I[row, col]=1\n",
        "\n",
        "    # Parameter setup\n",
        "    M = len(I)\n",
        "    deltax=1.1*10**(-6) #pixel pitch 0.001 cm (10 um)\n",
        "    w=405*10**(-9); # wavelength 405 nm\n",
        "    k0 = 2*math.pi/w\n",
        "\n",
        "    # implement a function that adjust this value by +- 10%\n",
        "    z=0.0015/1000*random.choice([random.randrange(-1100,-1001,1),random.randrange(1000,1101,1)])  ; #25 cm, propagation distance\n",
        "\n",
        "    # Step 1: simulation of propagation using the ASM\n",
        "    deltaf=1/M/deltax\n",
        "\n",
        "    x = list(range(1, M+1))\n",
        "    C, R= np.meshgrid(x, x)\n",
        "\n",
        "    # FORWARD PROPAGATION USING ASM\n",
        "    Ref = 1*math.sqrt(np.mean(I))*np.exp(-1j*k0*z) #Reference wave / 50 -> 1\n",
        "    A01=np.fft.fftshift(np.fft.ifft2(np.fft.fftshift(I))); #Spectrum first object\n",
        "\n",
        "    p1=np.exp(-2j*math.pi*z*np.sqrt((1/w)**2-((R-M/2-1)*deltaf)**2-((C-M/2-1)*deltaf)**2))\n",
        "\n",
        "    Az1=A01*p1#Propagating\n",
        "\n",
        "    H1 = np.fft.fftshift(np.fft.fft2(np.fft.fftshift(Az1)))\n",
        "\n",
        "    # H1 = np.dot((abs(H1 + Ref)),(abs(H1 + Ref)))\n",
        "    H1 = (abs(H1 + Ref))**2\n",
        "\n",
        "    H1_=abs(H1)-np.amin(abs(H1))\n",
        "    img1 = Image.fromarray(np.uint8((abs(H1_)/np.amax(abs(H1_))) * 255),'L')\n",
        "    # img1.save(f\"{filepath}/H1_{n}.png\")\n",
        "    filename = str(n).zfill(5)\n",
        "    img1.save(f\"{filepath}/{filename}.png\")\n",
        "    print('progressing, image',n,'/',samples)\n",
        "    # width,height=H1.shape\n",
        "    # img1.thumbnail((width/2,height/2), Image.ANTIALIAS)\n",
        "    # img1.show()\n",
        "    # img1.save(f\"{filepath}/H2.png\")"
      ]
    },
    {
      "cell_type": "markdown",
      "metadata": {
        "id": "G-Zpfa2iw1c2"
      },
      "source": [
        "# Generating low resolution images"
      ]
    },
    {
      "cell_type": "code",
      "execution_count": null,
      "metadata": {
        "colab": {
          "base_uri": "https://localhost:8080/"
        },
        "id": "Z2reS6oKLFB5",
        "outputId": "ee75a6a9-f173-4943-e874-aad8cd91308c"
      },
      "outputs": [
        {
          "output_type": "stream",
          "name": "stdout",
          "text": [
            "progressing, image 1 / 100\n",
            "progressing, image 2 / 100\n",
            "progressing, image 3 / 100\n",
            "progressing, image 4 / 100\n",
            "progressing, image 5 / 100\n",
            "progressing, image 6 / 100\n",
            "progressing, image 7 / 100\n",
            "progressing, image 8 / 100\n",
            "progressing, image 9 / 100\n",
            "progressing, image 10 / 100\n",
            "progressing, image 11 / 100\n",
            "progressing, image 12 / 100\n",
            "progressing, image 13 / 100\n",
            "progressing, image 14 / 100\n",
            "progressing, image 15 / 100\n",
            "progressing, image 16 / 100\n",
            "progressing, image 17 / 100\n",
            "progressing, image 18 / 100\n",
            "progressing, image 19 / 100\n",
            "progressing, image 20 / 100\n",
            "progressing, image 21 / 100\n",
            "progressing, image 22 / 100\n",
            "progressing, image 23 / 100\n",
            "progressing, image 24 / 100\n",
            "progressing, image 25 / 100\n",
            "progressing, image 26 / 100\n",
            "progressing, image 27 / 100\n",
            "progressing, image 28 / 100\n",
            "progressing, image 29 / 100\n",
            "progressing, image 30 / 100\n",
            "progressing, image 31 / 100\n",
            "progressing, image 32 / 100\n",
            "progressing, image 33 / 100\n",
            "progressing, image 34 / 100\n",
            "progressing, image 35 / 100\n",
            "progressing, image 36 / 100\n",
            "progressing, image 37 / 100\n",
            "progressing, image 38 / 100\n",
            "progressing, image 39 / 100\n",
            "progressing, image 40 / 100\n",
            "progressing, image 41 / 100\n",
            "progressing, image 42 / 100\n",
            "progressing, image 43 / 100\n",
            "progressing, image 44 / 100\n",
            "progressing, image 45 / 100\n",
            "progressing, image 46 / 100\n",
            "progressing, image 47 / 100\n",
            "progressing, image 48 / 100\n",
            "progressing, image 49 / 100\n",
            "progressing, image 50 / 100\n",
            "progressing, image 51 / 100\n",
            "progressing, image 52 / 100\n",
            "progressing, image 53 / 100\n",
            "progressing, image 54 / 100\n",
            "progressing, image 55 / 100\n",
            "progressing, image 56 / 100\n",
            "progressing, image 59 / 100\n",
            "progressing, image 60 / 100\n",
            "progressing, image 61 / 100\n",
            "progressing, image 62 / 100\n",
            "progressing, image 63 / 100\n",
            "progressing, image 64 / 100\n",
            "progressing, image 65 / 100\n",
            "progressing, image 66 / 100\n",
            "progressing, image 67 / 100\n",
            "progressing, image 68 / 100\n",
            "progressing, image 69 / 100\n",
            "progressing, image 70 / 100\n",
            "progressing, image 71 / 100\n",
            "progressing, image 72 / 100\n",
            "progressing, image 73 / 100\n",
            "progressing, image 74 / 100\n",
            "progressing, image 75 / 100\n",
            "progressing, image 76 / 100\n",
            "progressing, image 77 / 100\n",
            "progressing, image 78 / 100\n",
            "progressing, image 79 / 100\n",
            "progressing, image 80 / 100\n",
            "progressing, image 81 / 100\n",
            "progressing, image 82 / 100\n",
            "progressing, image 83 / 100\n",
            "progressing, image 84 / 100\n",
            "progressing, image 85 / 100\n",
            "progressing, image 86 / 100\n",
            "progressing, image 87 / 100\n",
            "progressing, image 88 / 100\n",
            "progressing, image 89 / 100\n",
            "progressing, image 90 / 100\n",
            "progressing, image 91 / 100\n",
            "progressing, image 92 / 100\n",
            "progressing, image 93 / 100\n",
            "progressing, image 94 / 100\n",
            "progressing, image 95 / 100\n",
            "progressing, image 96 / 100\n",
            "progressing, image 97 / 100\n",
            "progressing, image 98 / 100\n",
            "progressing, image 99 / 100\n",
            "progressing, image 100 / 100\n"
          ]
        }
      ],
      "source": [
        "from PIL import Image\n",
        "import math\n",
        "folder='/content/drive/MyDrive/Testing/train_HR'\n",
        "filepath='/content/drive/MyDrive/Testing/train_LR/X4'\n",
        "filenames=os.listdir(folder)\n",
        "filenames.sort(key=lambda f: int(''.join(filter(str.isdigit, f)))) # Sort files in ascending order\n",
        "\n",
        "samples=100\n",
        "n=0\n",
        "\n",
        "for filename in filenames:\n",
        "  im = Image.open(os.path.join(folder,filename))\n",
        "  im=im.resize((512, 512), Image.ANTIALIAS)\n",
        "\n",
        "  new_filename=os.path.splitext(filename)[0]\n",
        "  im.save(f\"{filepath}/{new_filename}.png\", format='PNG')\n",
        "  n=n+1\n",
        "\n",
        "  # if (n%500==0):\n",
        "  print('progressing, image',n,'/',samples)\n",
        "\n",
        "  if (n==samples):\n",
        "    break"
      ]
    },
    {
      "cell_type": "markdown",
      "metadata": {
        "id": "5gOMqnuVwwAf"
      },
      "source": [
        "# Comparing HR and LR side to side"
      ]
    },
    {
      "cell_type": "code",
      "execution_count": null,
      "metadata": {
        "colab": {
          "base_uri": "https://localhost:8080/"
        },
        "id": "UgV5p39IriCK",
        "outputId": "4106973d-7c92-4e80-b3c4-8dae4a0f7ecc"
      },
      "outputs": [
        {
          "output_type": "stream",
          "name": "stdout",
          "text": [
            "progressing, image 1 / 10\n",
            "progressing, image 2 / 10\n",
            "progressing, image 3 / 10\n",
            "progressing, image 4 / 10\n",
            "progressing, image 5 / 10\n",
            "progressing, image 6 / 10\n",
            "progressing, image 7 / 10\n",
            "progressing, image 8 / 10\n",
            "progressing, image 9 / 10\n",
            "progressing, image 10 / 10\n"
          ]
        }
      ],
      "source": [
        "# Merging images together\n",
        "from PIL import Image\n",
        "\n",
        "def merge_images(file1, file2):\n",
        "    \"\"\"Merge two images into one, displayed side by side\n",
        "    :param file1: path to first image file\n",
        "    :param file2: path to second image file\n",
        "    :return: the merged Image object\n",
        "    \"\"\"\n",
        "    image1 = Image.open(file1)\n",
        "    image2 = Image.open(file2)\n",
        "\n",
        "    (width1, height1) = image1.size\n",
        "    (width2, height2) = image2.size\n",
        "\n",
        "    result_width = width1 + width2\n",
        "    result_height = max(height1, height2)\n",
        "\n",
        "    result = Image.new('RGB', (result_width, result_height))\n",
        "    result.paste(im=image1, box=(0, 0))\n",
        "    result.paste(im=image2, box=(width1, 0))\n",
        "    return result\n",
        "\n",
        "hr_filepath='/content/drive/MyDrive/Testing/train_HR'\n",
        "lp_filepath='/content/drive/MyDrive/Testing/train_LR/X4'\n",
        "hr_filenames=os.listdir(hr_filepath)\n",
        "hr_filenames.sort(key=lambda f: int(''.join(filter(str.isdigit, f)))) # Sort files in ascending order\n",
        "lp_filenames=os.listdir(lp_filepath)\n",
        "lp_filenames.sort(key=lambda f: int(''.join(filter(str.isdigit, f)))) # Sort files in ascending order\n",
        "\n",
        "\n",
        "samples=10\n",
        "\n",
        "for n in range(0,samples):\n",
        "  pic=merge_images(hr_filepath+'/'+hr_filenames[n], lp_filepath+'/'+lp_filenames[n])\n",
        "  pic.save(f'/content/drive/MyDrive/Holograms/Compare/{n}.png')\n",
        "  n=n+1\n",
        "  print('progressing, image',n,'/',samples)\n",
        "\n",
        "  if (n==samples):\n",
        "    break\n"
      ]
    }
  ],
  "metadata": {
    "colab": {
      "provenance": [],
      "include_colab_link": true
    },
    "gpuClass": "standard",
    "kernelspec": {
      "display_name": "Python 3",
      "name": "python3"
    },
    "language_info": {
      "name": "python"
    }
  },
  "nbformat": 4,
  "nbformat_minor": 0
}