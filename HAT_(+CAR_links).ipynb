{
  "nbformat": 4,
  "nbformat_minor": 0,
  "metadata": {
    "colab": {
      "provenance": [],
      "gpuType": "T4",
      "toc_visible": true,
      "include_colab_link": true
    },
    "kernelspec": {
      "name": "python3",
      "display_name": "Python 3"
    },
    "language_info": {
      "name": "python"
    },
    "gpuClass": "standard",
    "accelerator": "GPU"
  },
  "cells": [
    {
      "cell_type": "markdown",
      "metadata": {
        "id": "view-in-github",
        "colab_type": "text"
      },
      "source": [
        "<a href=\"https://colab.research.google.com/github/irinagetman1973/Super-Resolution/blob/Colab-Updates/HAT_(%2BCAR_links).ipynb\" target=\"_parent\"><img src=\"https://colab.research.google.com/assets/colab-badge.svg\" alt=\"Open In Colab\"/></a>"
      ]
    },
    {
      "cell_type": "markdown",
      "source": [
        "# HAT ( Hybrid Attention Transformer)\n",
        "\n",
        "\n",
        " A novel Hybrid Attention Transformer (HAT) for image super-resolution,combines both channel attention and window-based self-attention schemes to utilize global statistics and strong local fitting capability. Creators, XPixelGroup ( Xiangyu Chen, Xintao Wang, Jiantao Zhou, Yu Qiao, and Chao Dong) also introduced an overlapping cross-attention module to enhance the interaction between neighboring window features.\n",
        "\n",
        "The paper titled [“Activating More Pixels in Image Super-Resolution Transformer”](https://arxiv.org/pdf/2205.04437v3.pdf)  was submitted on May 9th, 2022 and last revised on March 19th, 2023.\n",
        "The paper reports that their method significantly outperforms state-of-the-art methods by more than 1dB."
      ],
      "metadata": {
        "id": "hSDx1E8KWyXL"
      }
    },
    {
      "cell_type": "markdown",
      "source": [
        "## How to run HAT model in your Google Colab\n",
        "1. Clone the HAT repository from GitHub using the command \n",
        "\n",
        "```\n",
        "    !git clone https://github.com/XPixelGroup/HAT.git.\n",
        "  \n",
        "```\n",
        "2. Upload HAT model into your Google Drive\n",
        "\n"
      ],
      "metadata": {
        "id": "Z8jh01Cs8q4K"
      }
    },
    {
      "cell_type": "code",
      "execution_count": null,
      "metadata": {
        "colab": {
          "base_uri": "https://localhost:8080/"
        },
        "id": "tYXxjY2F8Zcc",
        "outputId": "62763a44-1d3c-4eb2-d4a9-e4643c6f3430"
      },
      "outputs": [
        {
          "output_type": "stream",
          "name": "stdout",
          "text": [
            "Mounted at /content/drive\n"
          ]
        }
      ],
      "source": [
        "# Run this block to mount google drive\n",
        "from google.colab import drive\n",
        "drive.mount('/content/drive')"
      ]
    },
    {
      "cell_type": "code",
      "source": [
        "#install dependencies\n",
        "!pip install basicsr==1.3.4.9"
      ],
      "metadata": {
        "id": "QFpWTFT79F2P"
      },
      "execution_count": null,
      "outputs": []
    },
    {
      "cell_type": "code",
      "source": [
        "!pip install -U torch torchvision "
      ],
      "metadata": {
        "id": "CjyPGS0ocp3l",
        "colab": {
          "base_uri": "https://localhost:8080/"
        },
        "outputId": "2a121eb9-04d9-4c4e-a7b1-bd189ef58d97"
      },
      "execution_count": null,
      "outputs": [
        {
          "output_type": "stream",
          "name": "stdout",
          "text": [
            "Looking in indexes: https://pypi.org/simple, https://us-python.pkg.dev/colab-wheels/public/simple/\n",
            "Requirement already satisfied: torch in /usr/local/lib/python3.10/dist-packages (2.0.0+cu118)\n",
            "Collecting torch\n",
            "  Downloading torch-2.0.1-cp310-cp310-manylinux1_x86_64.whl (619.9 MB)\n",
            "\u001b[2K     \u001b[90m━━━━━━━━━━━━━━━━━━━━━━━━━━━━━━━━━━━━━━━\u001b[0m \u001b[32m619.9/619.9 MB\u001b[0m \u001b[31m2.7 MB/s\u001b[0m eta \u001b[36m0:00:00\u001b[0m\n",
            "\u001b[?25hRequirement already satisfied: torchvision in /usr/local/lib/python3.10/dist-packages (0.15.1+cu118)\n",
            "Collecting torchvision\n",
            "  Downloading torchvision-0.15.2-cp310-cp310-manylinux1_x86_64.whl (6.0 MB)\n",
            "\u001b[2K     \u001b[90m━━━━━━━━━━━━━━━━━━━━━━━━━━━━━━━━━━━━━━━━\u001b[0m \u001b[32m6.0/6.0 MB\u001b[0m \u001b[31m71.5 MB/s\u001b[0m eta \u001b[36m0:00:00\u001b[0m\n",
            "\u001b[?25hRequirement already satisfied: filelock in /usr/local/lib/python3.10/dist-packages (from torch) (3.12.0)\n",
            "Requirement already satisfied: typing-extensions in /usr/local/lib/python3.10/dist-packages (from torch) (4.5.0)\n",
            "Requirement already satisfied: sympy in /usr/local/lib/python3.10/dist-packages (from torch) (1.11.1)\n",
            "Requirement already satisfied: networkx in /usr/local/lib/python3.10/dist-packages (from torch) (3.1)\n",
            "Requirement already satisfied: jinja2 in /usr/local/lib/python3.10/dist-packages (from torch) (3.1.2)\n",
            "Collecting nvidia-cuda-nvrtc-cu11==11.7.99 (from torch)\n",
            "  Downloading nvidia_cuda_nvrtc_cu11-11.7.99-2-py3-none-manylinux1_x86_64.whl (21.0 MB)\n",
            "\u001b[2K     \u001b[90m━━━━━━━━━━━━━━━━━━━━━━━━━━━━━━━━━━━━━━━━\u001b[0m \u001b[32m21.0/21.0 MB\u001b[0m \u001b[31m50.9 MB/s\u001b[0m eta \u001b[36m0:00:00\u001b[0m\n",
            "\u001b[?25hCollecting nvidia-cuda-runtime-cu11==11.7.99 (from torch)\n",
            "  Downloading nvidia_cuda_runtime_cu11-11.7.99-py3-none-manylinux1_x86_64.whl (849 kB)\n",
            "\u001b[2K     \u001b[90m━━━━━━━━━━━━━━━━━━━━━━━━━━━━━━━━━━━━━━\u001b[0m \u001b[32m849.3/849.3 kB\u001b[0m \u001b[31m57.6 MB/s\u001b[0m eta \u001b[36m0:00:00\u001b[0m\n",
            "\u001b[?25hCollecting nvidia-cuda-cupti-cu11==11.7.101 (from torch)\n",
            "  Downloading nvidia_cuda_cupti_cu11-11.7.101-py3-none-manylinux1_x86_64.whl (11.8 MB)\n",
            "\u001b[2K     \u001b[90m━━━━━━━━━━━━━━━━━━━━━━━━━━━━━━━━━━━━━━━━\u001b[0m \u001b[32m11.8/11.8 MB\u001b[0m \u001b[31m56.0 MB/s\u001b[0m eta \u001b[36m0:00:00\u001b[0m\n",
            "\u001b[?25hCollecting nvidia-cudnn-cu11==8.5.0.96 (from torch)\n",
            "  Downloading nvidia_cudnn_cu11-8.5.0.96-2-py3-none-manylinux1_x86_64.whl (557.1 MB)\n",
            "\u001b[2K     \u001b[90m━━━━━━━━━━━━━━━━━━━━━━━━━━━━━━━━━━━━━━━\u001b[0m \u001b[32m557.1/557.1 MB\u001b[0m \u001b[31m2.8 MB/s\u001b[0m eta \u001b[36m0:00:00\u001b[0m\n",
            "\u001b[?25hCollecting nvidia-cublas-cu11==11.10.3.66 (from torch)\n",
            "  Downloading nvidia_cublas_cu11-11.10.3.66-py3-none-manylinux1_x86_64.whl (317.1 MB)\n",
            "\u001b[2K     \u001b[90m━━━━━━━━━━━━━━━━━━━━━━━━━━━━━━━━━━━━━━━\u001b[0m \u001b[32m317.1/317.1 MB\u001b[0m \u001b[31m4.6 MB/s\u001b[0m eta \u001b[36m0:00:00\u001b[0m\n",
            "\u001b[?25hCollecting nvidia-cufft-cu11==10.9.0.58 (from torch)\n",
            "  Downloading nvidia_cufft_cu11-10.9.0.58-py3-none-manylinux1_x86_64.whl (168.4 MB)\n",
            "\u001b[2K     \u001b[90m━━━━━━━━━━━━━━━━━━━━━━━━━━━━━━━━━━━━━━━\u001b[0m \u001b[32m168.4/168.4 MB\u001b[0m \u001b[31m7.6 MB/s\u001b[0m eta \u001b[36m0:00:00\u001b[0m\n",
            "\u001b[?25hCollecting nvidia-curand-cu11==10.2.10.91 (from torch)\n",
            "  Downloading nvidia_curand_cu11-10.2.10.91-py3-none-manylinux1_x86_64.whl (54.6 MB)\n",
            "\u001b[2K     \u001b[90m━━━━━━━━━━━━━━━━━━━━━━━━━━━━━━━━━━━━━━━━\u001b[0m \u001b[32m54.6/54.6 MB\u001b[0m \u001b[31m11.3 MB/s\u001b[0m eta \u001b[36m0:00:00\u001b[0m\n",
            "\u001b[?25hCollecting nvidia-cusolver-cu11==11.4.0.1 (from torch)\n",
            "  Downloading nvidia_cusolver_cu11-11.4.0.1-2-py3-none-manylinux1_x86_64.whl (102.6 MB)\n",
            "\u001b[2K     \u001b[90m━━━━━━━━━━━━━━━━━━━━━━━━━━━━━━━━━━━━━━\u001b[0m \u001b[32m102.6/102.6 MB\u001b[0m \u001b[31m10.5 MB/s\u001b[0m eta \u001b[36m0:00:00\u001b[0m\n",
            "\u001b[?25hCollecting nvidia-cusparse-cu11==11.7.4.91 (from torch)\n",
            "  Downloading nvidia_cusparse_cu11-11.7.4.91-py3-none-manylinux1_x86_64.whl (173.2 MB)\n",
            "\u001b[2K     \u001b[90m━━━━━━━━━━━━━━━━━━━━━━━━━━━━━━━━━━━━━━━\u001b[0m \u001b[32m173.2/173.2 MB\u001b[0m \u001b[31m7.3 MB/s\u001b[0m eta \u001b[36m0:00:00\u001b[0m\n",
            "\u001b[?25hCollecting nvidia-nccl-cu11==2.14.3 (from torch)\n",
            "  Downloading nvidia_nccl_cu11-2.14.3-py3-none-manylinux1_x86_64.whl (177.1 MB)\n",
            "\u001b[2K     \u001b[90m━━━━━━━━━━━━━━━━━━━━━━━━━━━━━━━━━━━━━━━\u001b[0m \u001b[32m177.1/177.1 MB\u001b[0m \u001b[31m7.6 MB/s\u001b[0m eta \u001b[36m0:00:00\u001b[0m\n",
            "\u001b[?25hCollecting nvidia-nvtx-cu11==11.7.91 (from torch)\n",
            "  Downloading nvidia_nvtx_cu11-11.7.91-py3-none-manylinux1_x86_64.whl (98 kB)\n",
            "\u001b[2K     \u001b[90m━━━━━━━━━━━━━━━━━━━━━━━━━━━━━━━━━━━━━━━━\u001b[0m \u001b[32m98.6/98.6 kB\u001b[0m \u001b[31m14.4 MB/s\u001b[0m eta \u001b[36m0:00:00\u001b[0m\n",
            "\u001b[?25hRequirement already satisfied: triton==2.0.0 in /usr/local/lib/python3.10/dist-packages (from torch) (2.0.0)\n",
            "Requirement already satisfied: setuptools in /usr/local/lib/python3.10/dist-packages (from nvidia-cublas-cu11==11.10.3.66->torch) (67.7.2)\n",
            "Requirement already satisfied: wheel in /usr/local/lib/python3.10/dist-packages (from nvidia-cublas-cu11==11.10.3.66->torch) (0.40.0)\n",
            "Requirement already satisfied: cmake in /usr/local/lib/python3.10/dist-packages (from triton==2.0.0->torch) (3.25.2)\n",
            "Requirement already satisfied: lit in /usr/local/lib/python3.10/dist-packages (from triton==2.0.0->torch) (16.0.3)\n",
            "Requirement already satisfied: numpy in /usr/local/lib/python3.10/dist-packages (from torchvision) (1.22.4)\n",
            "Requirement already satisfied: requests in /usr/local/lib/python3.10/dist-packages (from torchvision) (2.27.1)\n",
            "Requirement already satisfied: pillow!=8.3.*,>=5.3.0 in /usr/local/lib/python3.10/dist-packages (from torchvision) (8.4.0)\n",
            "Requirement already satisfied: MarkupSafe>=2.0 in /usr/local/lib/python3.10/dist-packages (from jinja2->torch) (2.1.2)\n",
            "Requirement already satisfied: urllib3<1.27,>=1.21.1 in /usr/local/lib/python3.10/dist-packages (from requests->torchvision) (1.26.15)\n",
            "Requirement already satisfied: certifi>=2017.4.17 in /usr/local/lib/python3.10/dist-packages (from requests->torchvision) (2022.12.7)\n",
            "Requirement already satisfied: charset-normalizer~=2.0.0 in /usr/local/lib/python3.10/dist-packages (from requests->torchvision) (2.0.12)\n",
            "Requirement already satisfied: idna<4,>=2.5 in /usr/local/lib/python3.10/dist-packages (from requests->torchvision) (3.4)\n",
            "Requirement already satisfied: mpmath>=0.19 in /usr/local/lib/python3.10/dist-packages (from sympy->torch) (1.3.0)\n",
            "Installing collected packages: nvidia-nvtx-cu11, nvidia-nccl-cu11, nvidia-cusparse-cu11, nvidia-curand-cu11, nvidia-cufft-cu11, nvidia-cuda-runtime-cu11, nvidia-cuda-nvrtc-cu11, nvidia-cuda-cupti-cu11, nvidia-cublas-cu11, nvidia-cusolver-cu11, nvidia-cudnn-cu11, torch, torchvision\n",
            "  Attempting uninstall: torch\n",
            "    Found existing installation: torch 2.0.0+cu118\n",
            "    Uninstalling torch-2.0.0+cu118:\n",
            "      Successfully uninstalled torch-2.0.0+cu118\n",
            "  Attempting uninstall: torchvision\n",
            "    Found existing installation: torchvision 0.15.1+cu118\n",
            "    Uninstalling torchvision-0.15.1+cu118:\n",
            "      Successfully uninstalled torchvision-0.15.1+cu118\n",
            "\u001b[31mERROR: pip's dependency resolver does not currently take into account all the packages that are installed. This behaviour is the source of the following dependency conflicts.\n",
            "torchaudio 2.0.1+cu118 requires torch==2.0.0, but you have torch 2.0.1 which is incompatible.\n",
            "torchdata 0.6.0 requires torch==2.0.0, but you have torch 2.0.1 which is incompatible.\n",
            "torchtext 0.15.1 requires torch==2.0.0, but you have torch 2.0.1 which is incompatible.\u001b[0m\u001b[31m\n",
            "\u001b[0mSuccessfully installed nvidia-cublas-cu11-11.10.3.66 nvidia-cuda-cupti-cu11-11.7.101 nvidia-cuda-nvrtc-cu11-11.7.99 nvidia-cuda-runtime-cu11-11.7.99 nvidia-cudnn-cu11-8.5.0.96 nvidia-cufft-cu11-10.9.0.58 nvidia-curand-cu11-10.2.10.91 nvidia-cusolver-cu11-11.4.0.1 nvidia-cusparse-cu11-11.7.4.91 nvidia-nccl-cu11-2.14.3 nvidia-nvtx-cu11-11.7.91 torch-2.0.1 torchvision-0.15.2\n"
          ]
        }
      ]
    },
    {
      "cell_type": "code",
      "source": [
        "import os\n",
        "import shutil\n",
        "import matplotlib.pyplot as plt\n",
        "from PIL import Image\n",
        "import numpy as np\n",
        "from random import shuffle\n",
        "import cv2"
      ],
      "metadata": {
        "id": "GFn0ntb8AGad"
      },
      "execution_count": null,
      "outputs": []
    },
    {
      "cell_type": "code",
      "source": [
        "!python setup.py develop"
      ],
      "metadata": {
        "id": "GOSVPEsnHgKn",
        "colab": {
          "base_uri": "https://localhost:8080/"
        },
        "outputId": "0fe0fa66-3cd6-4a48-a4fb-7603f558da09"
      },
      "execution_count": null,
      "outputs": [
        {
          "output_type": "stream",
          "name": "stdout",
          "text": [
            "/usr/local/lib/python3.10/dist-packages/setuptools/__init__.py:84: _DeprecatedInstaller: setuptools.installer and fetch_build_eggs are deprecated.\n",
            "!!\n",
            "\n",
            "        ********************************************************************************\n",
            "        Requirements should be satisfied by a PEP 517 installer.\n",
            "        If you are using pip, you can try `pip install --use-pep517`.\n",
            "        ********************************************************************************\n",
            "\n",
            "!!\n",
            "  dist.fetch_build_eggs(dist.setup_requires)\n",
            "running develop\n",
            "/usr/local/lib/python3.10/dist-packages/setuptools/command/develop.py:40: EasyInstallDeprecationWarning: easy_install command is deprecated.\n",
            "!!\n",
            "\n",
            "        ********************************************************************************\n",
            "        Please avoid running ``setup.py`` and ``easy_install``.\n",
            "        Instead, use pypa/build, pypa/installer, pypa/build or\n",
            "        other standards-based tools.\n",
            "\n",
            "        See https://github.com/pypa/setuptools/issues/917 for details.\n",
            "        ********************************************************************************\n",
            "\n",
            "!!\n",
            "  easy_install.initialize_options(self)\n",
            "/usr/local/lib/python3.10/dist-packages/setuptools/_distutils/cmd.py:66: SetuptoolsDeprecationWarning: setup.py install is deprecated.\n",
            "!!\n",
            "\n",
            "        ********************************************************************************\n",
            "        Please avoid running ``setup.py`` directly.\n",
            "        Instead, use pypa/build, pypa/installer, pypa/build or\n",
            "        other standards-based tools.\n",
            "\n",
            "        See https://blog.ganssle.io/articles/2021/10/setup-py-deprecated.html for details.\n",
            "        ********************************************************************************\n",
            "\n",
            "!!\n",
            "  self.initialize_options()\n",
            "running egg_info\n",
            "writing hat.egg-info/PKG-INFO\n",
            "writing dependency_links to hat.egg-info/dependency_links.txt\n",
            "writing requirements to hat.egg-info/requires.txt\n",
            "writing top-level names to hat.egg-info/top_level.txt\n",
            "reading manifest file 'hat.egg-info/SOURCES.txt'\n",
            "adding license file 'LICENSE'\n",
            "writing manifest file 'hat.egg-info/SOURCES.txt'\n",
            "running build_ext\n",
            "Creating /usr/local/lib/python3.10/dist-packages/hat.egg-link (link to .)\n",
            "Adding hat 0.1.0 to easy-install.pth file\n",
            "\n",
            "Installed /content/drive/MyDrive/HAT\n",
            "Processing dependencies for hat==0.1.0\n",
            "Searching for einops\n",
            "Reading https://pypi.org/simple/einops/\n",
            "Downloading https://files.pythonhosted.org/packages/68/24/b05452c986e8eff11f47e123a40798ae693f2fa1ed2f9546094997d2f6be/einops-0.6.1-py3-none-any.whl#sha256=99149e46cc808956b174932fe563d920db4d6e5dadb8c6ecdaa7483b7ef7cfc3\n",
            "Best match: einops 0.6.1\n",
            "Processing einops-0.6.1-py3-none-any.whl\n",
            "Installing einops-0.6.1-py3-none-any.whl to /usr/local/lib/python3.10/dist-packages\n",
            "Adding einops 0.6.1 to easy-install.pth file\n",
            "\n",
            "Installed /usr/local/lib/python3.10/dist-packages/einops-0.6.1-py3.10.egg\n",
            "Searching for basicsr==1.3.4.9\n",
            "Best match: basicsr 1.3.4.9\n",
            "Adding basicsr 1.3.4.9 to easy-install.pth file\n",
            "\n",
            "Using /usr/local/lib/python3.10/dist-packages\n",
            "Searching for torch==2.0.1\n",
            "Best match: torch 2.0.1\n",
            "Adding torch 2.0.1 to easy-install.pth file\n",
            "Installing convert-caffe2-to-onnx script to /usr/local/bin\n",
            "Installing convert-onnx-to-caffe2 script to /usr/local/bin\n",
            "Installing torchrun script to /usr/local/bin\n",
            "\n",
            "Using /usr/local/lib/python3.10/dist-packages\n",
            "Searching for yapf==0.33.0\n",
            "Best match: yapf 0.33.0\n",
            "Adding yapf 0.33.0 to easy-install.pth file\n",
            "Installing yapf script to /usr/local/bin\n",
            "Installing yapf-diff script to /usr/local/bin\n",
            "\n",
            "Using /usr/local/lib/python3.10/dist-packages\n",
            "Searching for tqdm==4.65.0\n",
            "Best match: tqdm 4.65.0\n",
            "Adding tqdm 4.65.0 to easy-install.pth file\n",
            "Installing tqdm script to /usr/local/bin\n",
            "\n",
            "Using /usr/local/lib/python3.10/dist-packages\n",
            "Searching for torchvision==0.15.2\n",
            "Best match: torchvision 0.15.2\n",
            "Adding torchvision 0.15.2 to easy-install.pth file\n",
            "\n",
            "Using /usr/local/lib/python3.10/dist-packages\n",
            "Searching for tb-nightly==2.14.0a20230511\n",
            "Best match: tb-nightly 2.14.0a20230511\n",
            "Adding tb-nightly 2.14.0a20230511 to easy-install.pth file\n",
            "Installing tensorboard script to /usr/local/bin\n",
            "\n",
            "Using /usr/local/lib/python3.10/dist-packages\n",
            "Searching for scipy==1.10.1\n",
            "Best match: scipy 1.10.1\n",
            "Adding scipy 1.10.1 to easy-install.pth file\n",
            "\n",
            "Using /usr/local/lib/python3.10/dist-packages\n",
            "Searching for scikit-image==0.19.3\n",
            "Best match: scikit-image 0.19.3\n",
            "Adding scikit-image 0.19.3 to easy-install.pth file\n",
            "Installing skivi script to /usr/local/bin\n",
            "\n",
            "Using /usr/local/lib/python3.10/dist-packages\n",
            "Searching for requests==2.27.1\n",
            "Best match: requests 2.27.1\n",
            "Adding requests 2.27.1 to easy-install.pth file\n",
            "\n",
            "Using /usr/local/lib/python3.10/dist-packages\n",
            "Searching for PyYAML==6.0\n",
            "Best match: PyYAML 6.0\n",
            "Adding PyYAML 6.0 to easy-install.pth file\n",
            "\n",
            "Using /usr/local/lib/python3.10/dist-packages\n",
            "Searching for Pillow==8.4.0\n",
            "Best match: Pillow 8.4.0\n",
            "Adding Pillow 8.4.0 to easy-install.pth file\n",
            "\n",
            "Using /usr/local/lib/python3.10/dist-packages\n",
            "Searching for opencv-python==4.7.0.72\n",
            "Best match: opencv-python 4.7.0.72\n",
            "Adding opencv-python 4.7.0.72 to easy-install.pth file\n",
            "\n",
            "Using /usr/local/lib/python3.10/dist-packages\n",
            "Searching for numpy==1.22.4\n",
            "Best match: numpy 1.22.4\n",
            "Adding numpy 1.22.4 to easy-install.pth file\n",
            "Installing f2py script to /usr/local/bin\n",
            "Installing f2py3 script to /usr/local/bin\n",
            "Installing f2py3.10 script to /usr/local/bin\n",
            "\n",
            "Using /usr/local/lib/python3.10/dist-packages\n",
            "Searching for lmdb==1.4.1\n",
            "Best match: lmdb 1.4.1\n",
            "Adding lmdb 1.4.1 to easy-install.pth file\n",
            "\n",
            "Using /usr/local/lib/python3.10/dist-packages\n",
            "Searching for future==0.18.3\n",
            "Best match: future 0.18.3\n",
            "Adding future 0.18.3 to easy-install.pth file\n",
            "Installing futurize script to /usr/local/bin\n",
            "Installing pasteurize script to /usr/local/bin\n",
            "\n",
            "Using /usr/local/lib/python3.10/dist-packages\n",
            "Searching for addict==2.4.0\n",
            "Best match: addict 2.4.0\n",
            "Adding addict 2.4.0 to easy-install.pth file\n",
            "\n",
            "Using /usr/local/lib/python3.10/dist-packages\n",
            "Searching for triton==2.0.0\n",
            "Best match: triton 2.0.0\n",
            "Adding triton 2.0.0 to easy-install.pth file\n",
            "\n",
            "Using /usr/local/lib/python3.10/dist-packages\n",
            "Searching for nvidia-nvtx-cu11==11.7.91\n",
            "Best match: nvidia-nvtx-cu11 11.7.91\n",
            "Adding nvidia-nvtx-cu11 11.7.91 to easy-install.pth file\n",
            "\n",
            "Using /usr/local/lib/python3.10/dist-packages\n",
            "Searching for nvidia-nccl-cu11==2.14.3\n",
            "Best match: nvidia-nccl-cu11 2.14.3\n",
            "Adding nvidia-nccl-cu11 2.14.3 to easy-install.pth file\n",
            "\n",
            "Using /usr/local/lib/python3.10/dist-packages\n",
            "Searching for nvidia-cusparse-cu11==11.7.4.91\n",
            "Best match: nvidia-cusparse-cu11 11.7.4.91\n",
            "Adding nvidia-cusparse-cu11 11.7.4.91 to easy-install.pth file\n",
            "\n",
            "Using /usr/local/lib/python3.10/dist-packages\n",
            "Searching for nvidia-cusolver-cu11==11.4.0.1\n",
            "Best match: nvidia-cusolver-cu11 11.4.0.1\n",
            "Adding nvidia-cusolver-cu11 11.4.0.1 to easy-install.pth file\n",
            "\n",
            "Using /usr/local/lib/python3.10/dist-packages\n",
            "Searching for nvidia-curand-cu11==10.2.10.91\n",
            "Best match: nvidia-curand-cu11 10.2.10.91\n",
            "Adding nvidia-curand-cu11 10.2.10.91 to easy-install.pth file\n",
            "\n",
            "Using /usr/local/lib/python3.10/dist-packages\n",
            "Searching for nvidia-cufft-cu11==10.9.0.58\n",
            "Best match: nvidia-cufft-cu11 10.9.0.58\n",
            "Adding nvidia-cufft-cu11 10.9.0.58 to easy-install.pth file\n",
            "\n",
            "Using /usr/local/lib/python3.10/dist-packages\n",
            "Searching for nvidia-cublas-cu11==11.10.3.66\n",
            "Best match: nvidia-cublas-cu11 11.10.3.66\n",
            "Adding nvidia-cublas-cu11 11.10.3.66 to easy-install.pth file\n",
            "\n",
            "Using /usr/local/lib/python3.10/dist-packages\n",
            "Searching for nvidia-cudnn-cu11==8.5.0.96\n",
            "Best match: nvidia-cudnn-cu11 8.5.0.96\n",
            "Adding nvidia-cudnn-cu11 8.5.0.96 to easy-install.pth file\n",
            "\n",
            "Using /usr/local/lib/python3.10/dist-packages\n",
            "Searching for nvidia-cuda-cupti-cu11==11.7.101\n",
            "Best match: nvidia-cuda-cupti-cu11 11.7.101\n",
            "Adding nvidia-cuda-cupti-cu11 11.7.101 to easy-install.pth file\n",
            "\n",
            "Using /usr/local/lib/python3.10/dist-packages\n",
            "Searching for nvidia-cuda-runtime-cu11==11.7.99\n",
            "Best match: nvidia-cuda-runtime-cu11 11.7.99\n",
            "Adding nvidia-cuda-runtime-cu11 11.7.99 to easy-install.pth file\n",
            "\n",
            "Using /usr/local/lib/python3.10/dist-packages\n",
            "Searching for nvidia-cuda-nvrtc-cu11==11.7.99\n",
            "Best match: nvidia-cuda-nvrtc-cu11 11.7.99\n",
            "Adding nvidia-cuda-nvrtc-cu11 11.7.99 to easy-install.pth file\n",
            "\n",
            "Using /usr/local/lib/python3.10/dist-packages\n",
            "Searching for Jinja2==3.1.2\n",
            "Best match: Jinja2 3.1.2\n",
            "Adding Jinja2 3.1.2 to easy-install.pth file\n",
            "\n",
            "Using /usr/local/lib/python3.10/dist-packages\n",
            "Searching for networkx==3.1\n",
            "Best match: networkx 3.1\n",
            "Adding networkx 3.1 to easy-install.pth file\n",
            "\n",
            "Using /usr/local/lib/python3.10/dist-packages\n",
            "Searching for sympy==1.11.1\n",
            "Best match: sympy 1.11.1\n",
            "Adding sympy 1.11.1 to easy-install.pth file\n",
            "Installing isympy script to /usr/local/bin\n",
            "\n",
            "Using /usr/local/lib/python3.10/dist-packages\n",
            "Searching for typing-extensions==4.5.0\n",
            "Best match: typing-extensions 4.5.0\n",
            "Adding typing-extensions 4.5.0 to easy-install.pth file\n",
            "\n",
            "Using /usr/local/lib/python3.10/dist-packages\n",
            "Searching for filelock==3.12.0\n",
            "Best match: filelock 3.12.0\n",
            "Adding filelock 3.12.0 to easy-install.pth file\n",
            "\n",
            "Using /usr/local/lib/python3.10/dist-packages\n",
            "Searching for tomli==2.0.1\n",
            "Best match: tomli 2.0.1\n",
            "Adding tomli 2.0.1 to easy-install.pth file\n",
            "\n",
            "Using /usr/local/lib/python3.10/dist-packages\n",
            "Searching for wheel==0.40.0\n",
            "Best match: wheel 0.40.0\n",
            "Adding wheel 0.40.0 to easy-install.pth file\n",
            "Installing wheel script to /usr/local/bin\n",
            "\n",
            "Using /usr/local/lib/python3.10/dist-packages\n",
            "Searching for Werkzeug==2.3.0\n",
            "Best match: Werkzeug 2.3.0\n",
            "Adding Werkzeug 2.3.0 to easy-install.pth file\n",
            "\n",
            "Using /usr/local/lib/python3.10/dist-packages\n",
            "Searching for tensorboard-data-server==0.7.0\n",
            "Best match: tensorboard-data-server 0.7.0\n",
            "Adding tensorboard-data-server 0.7.0 to easy-install.pth file\n",
            "\n",
            "Using /usr/local/lib/python3.10/dist-packages\n",
            "Searching for setuptools==67.7.2\n",
            "Best match: setuptools 67.7.2\n",
            "Adding setuptools 67.7.2 to easy-install.pth file\n",
            "\n",
            "Using /usr/local/lib/python3.10/dist-packages\n",
            "Searching for protobuf==3.20.3\n",
            "Best match: protobuf 3.20.3\n",
            "Adding protobuf 3.20.3 to easy-install.pth file\n",
            "\n",
            "Using /usr/local/lib/python3.10/dist-packages\n",
            "Searching for Markdown==3.4.3\n",
            "Best match: Markdown 3.4.3\n",
            "Adding Markdown 3.4.3 to easy-install.pth file\n",
            "Installing markdown_py script to /usr/local/bin\n",
            "\n",
            "Using /usr/local/lib/python3.10/dist-packages\n",
            "Searching for google-auth-oauthlib==1.0.0\n",
            "Best match: google-auth-oauthlib 1.0.0\n",
            "Adding google-auth-oauthlib 1.0.0 to easy-install.pth file\n",
            "Installing google-oauthlib-tool script to /usr/local/bin\n",
            "\n",
            "Using /usr/local/lib/python3.10/dist-packages\n",
            "Searching for google-auth==2.17.3\n",
            "Best match: google-auth 2.17.3\n",
            "Adding google-auth 2.17.3 to easy-install.pth file\n",
            "\n",
            "Using /usr/local/lib/python3.10/dist-packages\n",
            "Searching for grpcio==1.54.0\n",
            "Best match: grpcio 1.54.0\n",
            "Adding grpcio 1.54.0 to easy-install.pth file\n",
            "\n",
            "Using /usr/local/lib/python3.10/dist-packages\n",
            "Searching for absl-py==1.4.0\n",
            "Best match: absl-py 1.4.0\n",
            "Adding absl-py 1.4.0 to easy-install.pth file\n",
            "\n",
            "Using /usr/local/lib/python3.10/dist-packages\n",
            "Searching for packaging==23.1\n",
            "Best match: packaging 23.1\n",
            "Adding packaging 23.1 to easy-install.pth file\n",
            "\n",
            "Using /usr/local/lib/python3.10/dist-packages\n",
            "Searching for PyWavelets==1.4.1\n",
            "Best match: PyWavelets 1.4.1\n",
            "Adding PyWavelets 1.4.1 to easy-install.pth file\n",
            "\n",
            "Using /usr/local/lib/python3.10/dist-packages\n",
            "Searching for tifffile==2023.4.12\n",
            "Best match: tifffile 2023.4.12\n",
            "Adding tifffile 2023.4.12 to easy-install.pth file\n",
            "Installing lsm2bin script to /usr/local/bin\n",
            "Installing tiff2fsspec script to /usr/local/bin\n",
            "Installing tiffcomment script to /usr/local/bin\n",
            "Installing tifffile script to /usr/local/bin\n",
            "\n",
            "Using /usr/local/lib/python3.10/dist-packages\n",
            "Searching for imageio==2.25.1\n",
            "Best match: imageio 2.25.1\n",
            "Adding imageio 2.25.1 to easy-install.pth file\n",
            "Installing imageio_download_bin script to /usr/local/bin\n",
            "Installing imageio_remove_bin script to /usr/local/bin\n",
            "\n",
            "Using /usr/local/lib/python3.10/dist-packages\n",
            "Searching for idna==3.4\n",
            "Best match: idna 3.4\n",
            "Adding idna 3.4 to easy-install.pth file\n",
            "\n",
            "Using /usr/local/lib/python3.10/dist-packages\n",
            "Searching for charset-normalizer==2.0.12\n",
            "Best match: charset-normalizer 2.0.12\n",
            "Adding charset-normalizer 2.0.12 to easy-install.pth file\n",
            "Installing normalizer script to /usr/local/bin\n",
            "\n",
            "Using /usr/local/lib/python3.10/dist-packages\n",
            "Searching for certifi==2022.12.7\n",
            "Best match: certifi 2022.12.7\n",
            "Adding certifi 2022.12.7 to easy-install.pth file\n",
            "\n",
            "Using /usr/local/lib/python3.10/dist-packages\n",
            "Searching for urllib3==1.26.15\n",
            "Best match: urllib3 1.26.15\n",
            "Adding urllib3 1.26.15 to easy-install.pth file\n",
            "\n",
            "Using /usr/local/lib/python3.10/dist-packages\n",
            "Searching for lit==16.0.3\n",
            "Best match: lit 16.0.3\n",
            "Adding lit 16.0.3 to easy-install.pth file\n",
            "Installing lit script to /usr/local/bin\n",
            "\n",
            "Using /usr/local/lib/python3.10/dist-packages\n",
            "Searching for cmake==3.25.2\n",
            "Best match: cmake 3.25.2\n",
            "Adding cmake 3.25.2 to easy-install.pth file\n",
            "Installing cmake script to /usr/local/bin\n",
            "Installing cpack script to /usr/local/bin\n",
            "Installing ctest script to /usr/local/bin\n",
            "\n",
            "Using /usr/local/lib/python3.10/dist-packages\n",
            "Searching for MarkupSafe==2.1.2\n",
            "Best match: MarkupSafe 2.1.2\n",
            "Adding MarkupSafe 2.1.2 to easy-install.pth file\n",
            "\n",
            "Using /usr/local/lib/python3.10/dist-packages\n",
            "Searching for mpmath==1.3.0\n",
            "Best match: mpmath 1.3.0\n",
            "Adding mpmath 1.3.0 to easy-install.pth file\n",
            "\n",
            "Using /usr/local/lib/python3.10/dist-packages\n",
            "Searching for requests-oauthlib==1.3.1\n",
            "Best match: requests-oauthlib 1.3.1\n",
            "Adding requests-oauthlib 1.3.1 to easy-install.pth file\n",
            "\n",
            "Using /usr/local/lib/python3.10/dist-packages\n",
            "Searching for rsa==4.9\n",
            "Best match: rsa 4.9\n",
            "Adding rsa 4.9 to easy-install.pth file\n",
            "Installing pyrsa-decrypt script to /usr/local/bin\n",
            "Installing pyrsa-encrypt script to /usr/local/bin\n",
            "Installing pyrsa-keygen script to /usr/local/bin\n",
            "Installing pyrsa-priv2pub script to /usr/local/bin\n",
            "Installing pyrsa-sign script to /usr/local/bin\n",
            "Installing pyrsa-verify script to /usr/local/bin\n",
            "\n",
            "Using /usr/local/lib/python3.10/dist-packages\n",
            "Searching for six==1.16.0\n",
            "Best match: six 1.16.0\n",
            "Adding six 1.16.0 to easy-install.pth file\n",
            "\n",
            "Using /usr/local/lib/python3.10/dist-packages\n",
            "Searching for pyasn1-modules==0.3.0\n",
            "Best match: pyasn1-modules 0.3.0\n",
            "Adding pyasn1-modules 0.3.0 to easy-install.pth file\n",
            "\n",
            "Using /usr/local/lib/python3.10/dist-packages\n",
            "Searching for cachetools==5.3.0\n",
            "Best match: cachetools 5.3.0\n",
            "Adding cachetools 5.3.0 to easy-install.pth file\n",
            "\n",
            "Using /usr/local/lib/python3.10/dist-packages\n",
            "Searching for oauthlib==3.2.2\n",
            "Best match: oauthlib 3.2.2\n",
            "Adding oauthlib 3.2.2 to easy-install.pth file\n",
            "\n",
            "Using /usr/local/lib/python3.10/dist-packages\n",
            "Searching for pyasn1==0.5.0\n",
            "Best match: pyasn1 0.5.0\n",
            "Adding pyasn1 0.5.0 to easy-install.pth file\n",
            "\n",
            "Using /usr/local/lib/python3.10/dist-packages\n",
            "Finished processing dependencies for hat==0.1.0\n"
          ]
        }
      ]
    },
    {
      "cell_type": "markdown",
      "source": [
        "We have created a dataset for training, validating, and testing. You can find the details in another Colab Notebook titled \"Holograms Generation.\" In that notebook, we generated high-resolution and low-resolution holograms for image paired training and testing. The dataset consists of 100 images.\n",
        "\n",
        "The next step is to copy the generated images and store them in the respective folders we created in the HAT directory. Follow these instructions:\n",
        "\n",
        "\n",
        "1.   Navigate to the datasets folder.\n",
        "2.   Within the datasets folder, create two subfolders named LR and HR. These folders will be used to store the low-resolution and high-resolution hologram images, respectively.\n",
        "\n",
        "Please ensure that the generated images are appropriately placed in their corresponding folders for further processing and analysis.\n",
        "\n",
        "**Note ⚓** This steps need to be done if you have no GTmod2 and LRbicx2 folders in datasets directory."
      ],
      "metadata": {
        "id": "wRPpVzmQ_E7i"
      }
    },
    {
      "cell_type": "code",
      "source": [
        "#change working directory\n",
        "os.chdir('/content/drive/MyDrive/HAT')\n",
        "os.getcwd()"
      ],
      "metadata": {
        "colab": {
          "base_uri": "https://localhost:8080/",
          "height": 36
        },
        "id": "H0zs2yei_KG_",
        "outputId": "3565e3c2-48b3-4159-ca6a-36a7aa8b77de"
      },
      "execution_count": null,
      "outputs": [
        {
          "output_type": "execute_result",
          "data": {
            "text/plain": [
              "'/content/drive/MyDrive/HAT'"
            ],
            "application/vnd.google.colaboratory.intrinsic+json": {
              "type": "string"
            }
          },
          "metadata": {},
          "execution_count": 5
        }
      ]
    },
    {
      "cell_type": "code",
      "source": [
        "cd datasets"
      ],
      "metadata": {
        "colab": {
          "base_uri": "https://localhost:8080/"
        },
        "id": "4ZnaClGNDnH6",
        "outputId": "12b673fe-19dc-4d60-9ad1-80ad819a615c"
      },
      "execution_count": null,
      "outputs": [
        {
          "output_type": "stream",
          "name": "stdout",
          "text": [
            "/content/drive/MyDrive/HAT/datasets\n"
          ]
        }
      ]
    },
    {
      "cell_type": "code",
      "source": [
        "\"\"\"\n",
        "GTmod2 folder for Ground Truth/High Resolution images\n",
        "    and LR is for Low Resolution images\n",
        "    for x2 resolution, GT images must be two times bigger in size\n",
        "    compare to LR ones. Filenames must be identical \n",
        "    as well as number of images in both folders\n",
        "\"\"\"\n",
        "os.makedirs('GTmod2', exist_ok=True)\n",
        "os.makedirs('LRbicx2', exist_ok=True)"
      ],
      "metadata": {
        "id": "Sns7BlpDDGQV"
      },
      "execution_count": null,
      "outputs": []
    },
    {
      "cell_type": "code",
      "source": [
        "# list existing directories \n",
        "os.listdir()"
      ],
      "metadata": {
        "colab": {
          "base_uri": "https://localhost:8080/"
        },
        "id": "76CAAPg_GJ3S",
        "outputId": "495271f1-25a9-4c29-bfdc-a8a87dcb8354"
      },
      "execution_count": null,
      "outputs": [
        {
          "output_type": "execute_result",
          "data": {
            "text/plain": [
              "['README.md', 'GTmod2', 'LRbicx2', '.ipynb_checkpoints']"
            ]
          },
          "metadata": {},
          "execution_count": 9
        }
      ]
    },
    {
      "cell_type": "code",
      "source": [
        "# go back to HAT\n",
        "os.chdir('/content/drive/MyDrive/HAT')"
      ],
      "metadata": {
        "id": "k-yn011fHSc5"
      },
      "execution_count": null,
      "outputs": []
    },
    {
      "cell_type": "markdown",
      "source": [
        "## Testing first images in Testing/train_HR and Testing/train_LR folders in MyDrive"
      ],
      "metadata": {
        "id": "RgFOoh-DLdnn"
      }
    },
    {
      "cell_type": "code",
      "source": [
        "#moving  images  to GT and LR directories\n",
        "\n",
        "#set the path to the source dir and destination dir for GT/HR images\n",
        "src_dir_GT='/content/drive/MyDrive/Testing/train_HR/'\n",
        "dst_dir_GT='/content/drive/MyDrive/HAT/datasets/GTmod2'\n",
        "\n",
        "\n",
        "# get a list of all the files in the source directory\n",
        "files = sorted(os.listdir(src_dir_GT))\n",
        "\n",
        "# use the first file in the list as the source file to copy\n",
        "src_file = os.path.join(src_dir_GT, files[0])\n",
        "\n",
        "# copy first image\n",
        "shutil.copy(src_file, dst_dir_GT)"
      ],
      "metadata": {
        "id": "e1CTb8GnIZIF"
      },
      "execution_count": null,
      "outputs": []
    },
    {
      "cell_type": "code",
      "source": [
        "#moving  images  to LR directories\n",
        "\n",
        "#set the path to the source dir and destination dir for GT/HR images\n",
        "src_dir_GT='/content/drive/MyDrive/Testing/train_LR/X4/'\n",
        "dst_dir_GT='/content/drive/MyDrive/HAT/datasets/LRbicx2'\n",
        "\n",
        "\n",
        "# get a list of all the files in the source directory\n",
        "files = sorted(os.listdir(src_dir_GT))\n",
        "\n",
        "# use the first file in the list as the source file to copy\n",
        "src_file = os.path.join(src_dir_GT, files[0])\n",
        "\n",
        "# copy first image\n",
        "shutil.copy(src_file, dst_dir_GT)"
      ],
      "metadata": {
        "id": "3VwrY3G6XVzL"
      },
      "execution_count": null,
      "outputs": []
    },
    {
      "cell_type": "code",
      "source": [
        "#test\n",
        "\n",
        "!python /content/drive/MyDrive/HAT/hat/test.py -opt options/test/HAT-L_SRx2_ImageNet-pretrain.yml"
      ],
      "metadata": {
        "id": "P8nYspw2Yhm3"
      },
      "execution_count": null,
      "outputs": []
    },
    {
      "cell_type": "code",
      "source": [
        "# display HAT SR image\n",
        "\n",
        "# Open the image\n",
        "img = Image.open(\"/content/drive/MyDrive/HAT/results/HAT-L_SRx2_ImageNet-pretrain/visualization/Set5/00001_HAT-L_SRx2_ImageNet-pretrain.png\")\n",
        "\n",
        "# Display the image using matplotlib\n",
        "plt.imshow(img)\n",
        "plt.show()"
      ],
      "metadata": {
        "colab": {
          "base_uri": "https://localhost:8080/",
          "height": 435
        },
        "id": "v4Ed5dD2dre7",
        "outputId": "3b0b32dc-4cee-458e-d1e6-a181ab9ec021"
      },
      "execution_count": null,
      "outputs": [
        {
          "output_type": "display_data",
          "data": {
            "text/plain": [
              "<Figure size 640x480 with 1 Axes>"
            ],
            "image/png": "[encoded data removed]"
          },
          "metadata": {}
        }
      ]
    },
    {
      "cell_type": "markdown",
      "source": [
        "## Comparing HAT image and LR image side by side"
      ],
      "metadata": {
        "id": "_eGvRl5keKRe"
      }
    },
    {
      "cell_type": "code",
      "source": [
        "# Merging images together\n",
        "\n",
        "# Open the first image\n",
        "img1 = Image.open(\"/content/drive/MyDrive/HAT/results/HAT-L_SRx2_ImageNet-pretrain/visualization/Set5/00001_HAT-L_SRx2_ImageNet-pretrain.png\")\n",
        "\n",
        "# Open the second image\n",
        "img2 = Image.open(\"/content/drive/MyDrive/HAT/datasets/LRbicx2/00001.png\")\n",
        "\n",
        "# Get the dimensions of the images\n",
        "width1, height1 = img1.size\n",
        "width2, height2 = img2.size\n",
        "\n",
        "# Create a new image with double the width of the original images\n",
        "new_img = Image.new('RGB', (width1 + width2, max(height1, height2)))\n",
        "\n",
        "# Paste the first image onto the left half of the new image\n",
        "new_img.paste(img1, (0, 0))\n",
        "\n",
        "# Paste the second image onto the right half of the new image\n",
        "new_img.paste(img2, (width1, 0))\n",
        "\n",
        "# Convert the PIL image to a numpy array\n",
        "new_img_arr = np.array(new_img)\n",
        "\n",
        "# Display the new image using matplotlib\n",
        "\n",
        "plt.imshow(new_img_arr)\n",
        "\n",
        "plt.show()\n",
        "\n"
      ],
      "metadata": {
        "colab": {
          "base_uri": "https://localhost:8080/",
          "height": 396
        },
        "id": "yqn6QZCTeJGo",
        "outputId": "8293ac2d-73f6-42dc-e191-160311221adf"
      },
      "execution_count": null,
      "outputs": [
        {
          "output_type": "display_data",
          "data": {
            "text/plain": [
              "<Figure size 640x480 with 1 Axes>"
            ],
            "image/png": "[encoded data removed]"
          },
          "metadata": {}
        }
      ]
    },
    {
      "cell_type": "markdown",
      "source": [
        "## Comparing GT image and HAT image"
      ],
      "metadata": {
        "id": "YIbKGIUifJYr"
      }
    },
    {
      "cell_type": "code",
      "source": [
        "\n",
        "# Open the first image\n",
        "img1 = Image.open(\"/content/drive/MyDrive/HAT/results/HAT-L_SRx2_ImageNet-pretrain/visualization/Set5/00001_HAT-L_SRx2_ImageNet-pretrain.png\")\n",
        "\n",
        "# Open the second image\n",
        "img2 = Image.open(\"/content/drive/MyDrive/HAT/datasets/GTmod2/00001.png\")\n",
        "\n",
        "# Get the dimensions of the images\n",
        "width1, height1 = img1.size\n",
        "width2, height2 = img2.size\n",
        "\n",
        "# Create a new image with double the width of the original images\n",
        "new_img = Image.new('RGB', (width1 + width2, max(height1, height2)))\n",
        "\n",
        "# Paste the first image onto the left half of the new image\n",
        "new_img.paste(img1, (0, 0))\n",
        "\n",
        "# Paste the second image onto the right half of the new image\n",
        "new_img.paste(img2, (width1, 0))\n",
        "\n",
        "# Convert the PIL image to a numpy array\n",
        "new_img_arr = np.array(new_img)\n",
        "\n",
        "# Display the new image using matplotlib\n",
        "\n",
        "plt.imshow(new_img_arr)\n",
        "plt.show()\n"
      ],
      "metadata": {
        "colab": {
          "base_uri": "https://localhost:8080/",
          "height": 314
        },
        "id": "-TVYxiDUfI8n",
        "outputId": "4065f82f-a109-428d-89c4-fd50146713f9"
      },
      "execution_count": null,
      "outputs": [
        {
          "output_type": "display_data",
          "data": {
            "text/plain": [
              "<Figure size 640x480 with 1 Axes>"
            ],
            "image/png": "[encoded data removed]"
          },
          "metadata": {}
        }
      ]
    },
    {
      "cell_type": "markdown",
      "source": [
        "## 12/05/2023\n",
        "To test an image using a model trained from scratch, follow these steps:\n",
        "\n",
        "1. Locate the image you wish to test and place it into the \"LRbicx2\" directory. This directory is specifically designated for low-resolution images.\n",
        "\n",
        "2. In order to upscale the image by a factor of 2, apply the appropriate scaling technique to increase its resolution. Save the upscaled image in the \"GTmod2\" folder. \n",
        "\n",
        "The technique I used for upsizing is called \"image resizing using bilinear interpolation.\" Specifically, the resize() function from the Python Imaging Library (PIL) is used to resize the original_image using the given size factor. The ANTIALIAS method is used for interpolation, which provides a smoother and higher-quality output compared to other interpolation methods.\n",
        "\n",
        "The resize() function takes two arguments:\n",
        "\n",
        "The first argument specifies the target size of the resized image. In this case, it is calculated by multiplying the original image's width and height by the size_factor.\n",
        "The second argument (Image.ANTIALIAS) specifies the method of interpolation to be used."
      ],
      "metadata": {
        "id": "-YR7U1rdo4Ao"
      }
    },
    {
      "cell_type": "code",
      "source": [
        "#set the path to the source dir and destination dir for GT/HR images\n",
        "src_dir_GT='/content/drive/MyDrive/'\n",
        "dst_dir_GT='/content/drive/MyDrive/HAT/datasets/LRbicx2/test1'\n",
        "\n",
        "\n",
        "# copy first image\n",
        "shutil.copy(src_dir_GT + \"09009small.png\", dst_dir_GT)"
      ],
      "metadata": {
        "colab": {
          "base_uri": "https://localhost:8080/",
          "height": 36
        },
        "id": "NyaORsenIVAV",
        "outputId": "f0d730fc-383c-492b-ce87-4ab2aa3a40a6"
      },
      "execution_count": null,
      "outputs": [
        {
          "output_type": "execute_result",
          "data": {
            "text/plain": [
              "'/content/drive/MyDrive/HAT/datasets/LRbicx2/test1/09009small.png'"
            ],
            "application/vnd.google.colaboratory.intrinsic+json": {
              "type": "string"
            }
          },
          "metadata": {},
          "execution_count": 12
        }
      ]
    },
    {
      "cell_type": "code",
      "source": [
        "#Resizing a testing image for LR folder\n",
        "\n",
        "def resize_image(input_image_path, output_image_path, size_factor=2): \n",
        "    # Open the image file\n",
        "    original_image = Image.open('/content/drive/MyDrive/09009small.png')\n",
        "    output_image_path = '/content/drive/MyDrive/HAT/datasets/GTmod2/test1/09009small.png'\n",
        "\n",
        "    # Print the original image size\n",
        "    print(f'The original image size is {original_image.size}')\n",
        "    \n",
        "    # Resize the image\n",
        "    resized_image = original_image.resize(\n",
        "        (round(original_image.size[0]*size_factor), round(original_image.size[1]*size_factor)),\n",
        "        Image.ANTIALIAS\n",
        "    )\n",
        "    \n",
        "    \n",
        "    cv2.imwrite(output_image_path, np.array(resized_image))\n",
        "    # # Save the resized image to the output path\n",
        "    # resized_image.save(output_image_path)\n",
        "\n",
        "    print(f'The resized image size is {resized_image.size} and it is saved to {output_image_path}')\n",
        "\n",
        "# Call the function immediately after defining it\n",
        "resize_image('/content/drive/MyDrive/09009small.png', '/content/drive/MyDrive/HAT/datasets/GTmod2/test1/09009small.png')\n"
      ],
      "metadata": {
        "colab": {
          "base_uri": "https://localhost:8080/"
        },
        "id": "noHkCzUtKAN4",
        "outputId": "670aa123-3f4d-4e86-9285-d8cb9a35ec6b"
      },
      "execution_count": null,
      "outputs": [
        {
          "output_type": "stream",
          "name": "stdout",
          "text": [
            "The original image size is (256, 256)\n",
            "The resized image size is (512, 512) and it is saved to /content/drive/MyDrive/HAT/datasets/GTmod2/test1/09009small.png\n"
          ]
        }
      ]
    },
    {
      "cell_type": "code",
      "source": [
        "# custom trained model path \n",
        "#/content/drive/MyDrive/HAT/experiments/train_HAT-L_SRx2_ImageNet_from_scratch/models/net_g_latest.pth"
      ],
      "metadata": {
        "id": "eqdlKaPqq51L"
      },
      "execution_count": null,
      "outputs": []
    },
    {
      "cell_type": "markdown",
      "source": [
        "To test an assigned image with our custom trained model, I have modified HAT-L_SRx2_ImageNet-pretrain.yml file to read weights from training.\n",
        "![Screenshot 2023-05-12 145434.png](data:image/png;base64,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)"
      ],
      "metadata": {
        "id": "ImcdttUT4hjk"
      }
    },
    {
      "cell_type": "code",
      "source": [
        "# test\n",
        "!python /content/drive/MyDrive/HAT/hat/test.py -opt /content/drive/MyDrive/HAT/options/test/HAT-L_SRx2_ImageNet-pretrain.yml"
      ],
      "metadata": {
        "colab": {
          "base_uri": "https://localhost:8080/"
        },
        "id": "oETUMRHjs3Do",
        "outputId": "7da91293-8e8e-4ee9-d16b-6a1dd72b62cb"
      },
      "execution_count": null,
      "outputs": [
        {
          "output_type": "stream",
          "name": "stdout",
          "text": [
            "Disable distributed.\n",
            "Path already exists. Rename it to /content/drive/MyDrive/HAT/results/HAT-L_SRx2_ImageNet-pretrain_archived_20230512_040804\n",
            "2023-05-12 04:08:04,468 INFO: \n",
            "                ____                _       _____  ____\n",
            "               / __ ) ____ _ _____ (_)_____/ ___/ / __ \\\n",
            "              / __  |/ __ `// ___// // ___/\\__ \\ / /_/ /\n",
            "             / /_/ // /_/ /(__  )/ // /__ ___/ // _, _/\n",
            "            /_____/ \\__,_//____//_/ \\___//____//_/ |_|\n",
            "     ______                   __   __                 __      __\n",
            "    / ____/____   ____   ____/ /  / /   __  __ _____ / /__   / /\n",
            "   / / __ / __ \\ / __ \\ / __  /  / /   / / / // ___// //_/  / /\n",
            "  / /_/ // /_/ // /_/ // /_/ /  / /___/ /_/ // /__ / /<    /_/\n",
            "  \\____/ \\____/ \\____/ \\____/  /_____/\\____/ \\___//_/|_|  (_)\n",
            "    \n",
            "Version Information: \n",
            "\tBasicSR: 1.3.4.9\n",
            "\tPyTorch: 2.0.1+cu117\n",
            "\tTorchVision: 0.15.2+cu117\n",
            "2023-05-12 04:08:04,469 INFO: \n",
            "  name: HAT-L_SRx2_ImageNet-pretrain\n",
            "  model_type: HATModel\n",
            "  scale: 2\n",
            "  num_gpu: 1\n",
            "  manual_seed: 0\n",
            "  datasets:[\n",
            "    test_1:[\n",
            "      name: Set5\n",
            "      type: PairedImageDataset\n",
            "      dataroot_gt: ./datasets/GTmod2/test1\n",
            "      dataroot_lq: ./datasets/LRbicx2/test1\n",
            "      io_backend:[\n",
            "        type: disk\n",
            "      ]\n",
            "      phase: test\n",
            "      scale: 2\n",
            "    ]\n",
            "  ]\n",
            "  network_g:[\n",
            "    type: HAT\n",
            "    upscale: 2\n",
            "    in_chans: 3\n",
            "    img_size: 64\n",
            "    window_size: 16\n",
            "    compress_ratio: 3\n",
            "    squeeze_factor: 30\n",
            "    conv_scale: 0.01\n",
            "    overlap_ratio: 0.5\n",
            "    img_range: 1.0\n",
            "    depths: [6, 6, 6, 6, 6, 6, 6, 6, 6, 6, 6, 6]\n",
            "    embed_dim: 180\n",
            "    num_heads: [6, 6, 6, 6, 6, 6, 6, 6, 6, 6, 6, 6]\n",
            "    mlp_ratio: 2\n",
            "    upsampler: pixelshuffle\n",
            "    resi_connection: 1conv\n",
            "  ]\n",
            "  path:[\n",
            "    pretrain_network_g: /content/drive/MyDrive/HAT/experiments/train_HAT-L_SRx2_ImageNet_from_scratch/models/net_g_latest.pth\n",
            "    strict_load_g: True\n",
            "    param_key_g: params_ema\n",
            "    results_root: /content/drive/MyDrive/HAT/results/HAT-L_SRx2_ImageNet-pretrain\n",
            "    log: /content/drive/MyDrive/HAT/results/HAT-L_SRx2_ImageNet-pretrain\n",
            "    visualization: /content/drive/MyDrive/HAT/results/HAT-L_SRx2_ImageNet-pretrain/visualization\n",
            "  ]\n",
            "  val:[\n",
            "    save_img: True\n",
            "    suffix: None\n",
            "    metrics:[\n",
            "      psnr:[\n",
            "        type: calculate_psnr\n",
            "        crop_border: 2\n",
            "        test_y_channel: True\n",
            "      ]\n",
            "      ssim:[\n",
            "        type: calculate_ssim\n",
            "        crop_border: 2\n",
            "        test_y_channel: True\n",
            "      ]\n",
            "    ]\n",
            "  ]\n",
            "  dist: False\n",
            "  rank: 0\n",
            "  world_size: 1\n",
            "  auto_resume: False\n",
            "  is_train: False\n",
            "\n",
            "2023-05-12 04:08:04,471 INFO: Dataset [PairedImageDataset] - Set5 is built.\n",
            "2023-05-12 04:08:04,471 INFO: Number of test images in Set5: 1\n",
            "/usr/local/lib/python3.10/dist-packages/torch/functional.py:504: UserWarning: torch.meshgrid: in an upcoming release, it will be required to pass the indexing argument. (Triggered internally at ../aten/src/ATen/native/TensorShape.cpp:3483.)\n",
            "  return _VF.meshgrid(tensors, **kwargs)  # type: ignore[attr-defined]\n",
            "2023-05-12 04:08:05,211 INFO: Network [HAT] is created.\n",
            "2023-05-12 04:08:06,074 INFO: Network: HAT, with parameters: 40,698,863\n",
            "2023-05-12 04:08:06,074 INFO: HAT(\n",
            "  (conv_first): Conv2d(3, 180, kernel_size=(3, 3), stride=(1, 1), padding=(1, 1))\n",
            "  (patch_embed): PatchEmbed(\n",
            "    (norm): LayerNorm((180,), eps=1e-05, elementwise_affine=True)\n",
            "  )\n",
            "  (patch_unembed): PatchUnEmbed()\n",
            "  (pos_drop): Dropout(p=0.0, inplace=False)\n",
            "  (layers): ModuleList(\n",
            "    (0): RHAG(\n",
            "      (residual_group): AttenBlocks(\n",
            "        (blocks): ModuleList(\n",
            "          (0): HAB(\n",
            "            (norm1): LayerNorm((180,), eps=1e-05, elementwise_affine=True)\n",
            "            (attn): WindowAttention(\n",
            "              (qkv): Linear(in_features=180, out_features=540, bias=True)\n",
            "              (attn_drop): Dropout(p=0.0, inplace=False)\n",
            "              (proj): Linear(in_features=180, out_features=180, bias=True)\n",
            "              (proj_drop): Dropout(p=0.0, inplace=False)\n",
            "              (softmax): Softmax(dim=-1)\n",
            "            )\n",
            "            (conv_block): CAB(\n",
            "              (cab): Sequential(\n",
            "                (0): Conv2d(180, 60, kernel_size=(3, 3), stride=(1, 1), padding=(1, 1))\n",
            "                (1): GELU(approximate='none')\n",
            "                (2): Conv2d(60, 180, kernel_size=(3, 3), stride=(1, 1), padding=(1, 1))\n",
            "                (3): ChannelAttention(\n",
            "                  (attention): Sequential(\n",
            "                    (0): AdaptiveAvgPool2d(output_size=1)\n",
            "                    (1): Conv2d(180, 6, kernel_size=(1, 1), stride=(1, 1))\n",
            "                    (2): ReLU(inplace=True)\n",
            "                    (3): Conv2d(6, 180, kernel_size=(1, 1), stride=(1, 1))\n",
            "                    (4): Sigmoid()\n",
            "                  )\n",
            "                )\n",
            "              )\n",
            "            )\n",
            "            (drop_path): Identity()\n",
            "            (norm2): LayerNorm((180,), eps=1e-05, elementwise_affine=True)\n",
            "            (mlp): Mlp(\n",
            "              (fc1): Linear(in_features=180, out_features=360, bias=True)\n",
            "              (act): GELU(approximate='none')\n",
            "              (fc2): Linear(in_features=360, out_features=180, bias=True)\n",
            "              (drop): Dropout(p=0.0, inplace=False)\n",
            "            )\n",
            "          )\n",
            "          (1-5): 5 x HAB(\n",
            "            (norm1): LayerNorm((180,), eps=1e-05, elementwise_affine=True)\n",
            "            (attn): WindowAttention(\n",
            "              (qkv): Linear(in_features=180, out_features=540, bias=True)\n",
            "              (attn_drop): Dropout(p=0.0, inplace=False)\n",
            "              (proj): Linear(in_features=180, out_features=180, bias=True)\n",
            "              (proj_drop): Dropout(p=0.0, inplace=False)\n",
            "              (softmax): Softmax(dim=-1)\n",
            "            )\n",
            "            (conv_block): CAB(\n",
            "              (cab): Sequential(\n",
            "                (0): Conv2d(180, 60, kernel_size=(3, 3), stride=(1, 1), padding=(1, 1))\n",
            "                (1): GELU(approximate='none')\n",
            "                (2): Conv2d(60, 180, kernel_size=(3, 3), stride=(1, 1), padding=(1, 1))\n",
            "                (3): ChannelAttention(\n",
            "                  (attention): Sequential(\n",
            "                    (0): AdaptiveAvgPool2d(output_size=1)\n",
            "                    (1): Conv2d(180, 6, kernel_size=(1, 1), stride=(1, 1))\n",
            "                    (2): ReLU(inplace=True)\n",
            "                    (3): Conv2d(6, 180, kernel_size=(1, 1), stride=(1, 1))\n",
            "                    (4): Sigmoid()\n",
            "                  )\n",
            "                )\n",
            "              )\n",
            "            )\n",
            "            (drop_path): DropPath()\n",
            "            (norm2): LayerNorm((180,), eps=1e-05, elementwise_affine=True)\n",
            "            (mlp): Mlp(\n",
            "              (fc1): Linear(in_features=180, out_features=360, bias=True)\n",
            "              (act): GELU(approximate='none')\n",
            "              (fc2): Linear(in_features=360, out_features=180, bias=True)\n",
            "              (drop): Dropout(p=0.0, inplace=False)\n",
            "            )\n",
            "          )\n",
            "        )\n",
            "        (overlap_attn): OCAB(\n",
            "          (norm1): LayerNorm((180,), eps=1e-05, elementwise_affine=True)\n",
            "          (qkv): Linear(in_features=180, out_features=540, bias=True)\n",
            "          (unfold): Unfold(kernel_size=(24, 24), dilation=1, padding=4, stride=16)\n",
            "          (softmax): Softmax(dim=-1)\n",
            "          (proj): Linear(in_features=180, out_features=180, bias=True)\n",
            "          (norm2): LayerNorm((180,), eps=1e-05, elementwise_affine=True)\n",
            "          (mlp): Mlp(\n",
            "            (fc1): Linear(in_features=180, out_features=360, bias=True)\n",
            "            (act): GELU(approximate='none')\n",
            "            (fc2): Linear(in_features=360, out_features=180, bias=True)\n",
            "            (drop): Dropout(p=0.0, inplace=False)\n",
            "          )\n",
            "        )\n",
            "      )\n",
            "      (conv): Conv2d(180, 180, kernel_size=(3, 3), stride=(1, 1), padding=(1, 1))\n",
            "      (patch_embed): PatchEmbed()\n",
            "      (patch_unembed): PatchUnEmbed()\n",
            "    )\n",
            "    (1-11): 11 x RHAG(\n",
            "      (residual_group): AttenBlocks(\n",
            "        (blocks): ModuleList(\n",
            "          (0-5): 6 x HAB(\n",
            "            (norm1): LayerNorm((180,), eps=1e-05, elementwise_affine=True)\n",
            "            (attn): WindowAttention(\n",
            "              (qkv): Linear(in_features=180, out_features=540, bias=True)\n",
            "              (attn_drop): Dropout(p=0.0, inplace=False)\n",
            "              (proj): Linear(in_features=180, out_features=180, bias=True)\n",
            "              (proj_drop): Dropout(p=0.0, inplace=False)\n",
            "              (softmax): Softmax(dim=-1)\n",
            "            )\n",
            "            (conv_block): CAB(\n",
            "              (cab): Sequential(\n",
            "                (0): Conv2d(180, 60, kernel_size=(3, 3), stride=(1, 1), padding=(1, 1))\n",
            "                (1): GELU(approximate='none')\n",
            "                (2): Conv2d(60, 180, kernel_size=(3, 3), stride=(1, 1), padding=(1, 1))\n",
            "                (3): ChannelAttention(\n",
            "                  (attention): Sequential(\n",
            "                    (0): AdaptiveAvgPool2d(output_size=1)\n",
            "                    (1): Conv2d(180, 6, kernel_size=(1, 1), stride=(1, 1))\n",
            "                    (2): ReLU(inplace=True)\n",
            "                    (3): Conv2d(6, 180, kernel_size=(1, 1), stride=(1, 1))\n",
            "                    (4): Sigmoid()\n",
            "                  )\n",
            "                )\n",
            "              )\n",
            "            )\n",
            "            (drop_path): DropPath()\n",
            "            (norm2): LayerNorm((180,), eps=1e-05, elementwise_affine=True)\n",
            "            (mlp): Mlp(\n",
            "              (fc1): Linear(in_features=180, out_features=360, bias=True)\n",
            "              (act): GELU(approximate='none')\n",
            "              (fc2): Linear(in_features=360, out_features=180, bias=True)\n",
            "              (drop): Dropout(p=0.0, inplace=False)\n",
            "            )\n",
            "          )\n",
            "        )\n",
            "        (overlap_attn): OCAB(\n",
            "          (norm1): LayerNorm((180,), eps=1e-05, elementwise_affine=True)\n",
            "          (qkv): Linear(in_features=180, out_features=540, bias=True)\n",
            "          (unfold): Unfold(kernel_size=(24, 24), dilation=1, padding=4, stride=16)\n",
            "          (softmax): Softmax(dim=-1)\n",
            "          (proj): Linear(in_features=180, out_features=180, bias=True)\n",
            "          (norm2): LayerNorm((180,), eps=1e-05, elementwise_affine=True)\n",
            "          (mlp): Mlp(\n",
            "            (fc1): Linear(in_features=180, out_features=360, bias=True)\n",
            "            (act): GELU(approximate='none')\n",
            "            (fc2): Linear(in_features=360, out_features=180, bias=True)\n",
            "            (drop): Dropout(p=0.0, inplace=False)\n",
            "          )\n",
            "        )\n",
            "      )\n",
            "      (conv): Conv2d(180, 180, kernel_size=(3, 3), stride=(1, 1), padding=(1, 1))\n",
            "      (patch_embed): PatchEmbed()\n",
            "      (patch_unembed): PatchUnEmbed()\n",
            "    )\n",
            "  )\n",
            "  (norm): LayerNorm((180,), eps=1e-05, elementwise_affine=True)\n",
            "  (conv_after_body): Conv2d(180, 180, kernel_size=(3, 3), stride=(1, 1), padding=(1, 1))\n",
            "  (conv_before_upsample): Sequential(\n",
            "    (0): Conv2d(180, 64, kernel_size=(3, 3), stride=(1, 1), padding=(1, 1))\n",
            "    (1): LeakyReLU(negative_slope=0.01, inplace=True)\n",
            "  )\n",
            "  (upsample): Upsample(\n",
            "    (0): Conv2d(64, 256, kernel_size=(3, 3), stride=(1, 1), padding=(1, 1))\n",
            "    (1): PixelShuffle(upscale_factor=2)\n",
            "  )\n",
            "  (conv_last): Conv2d(64, 3, kernel_size=(3, 3), stride=(1, 1), padding=(1, 1))\n",
            ")\n",
            "2023-05-12 04:08:06,869 INFO: Loading HAT model from /content/drive/MyDrive/HAT/experiments/train_HAT-L_SRx2_ImageNet_from_scratch/models/net_g_latest.pth, with param key: [params_ema].\n",
            "2023-05-12 04:08:07,102 INFO: Model [HATModel] is created.\n",
            "2023-05-12 04:08:07,102 INFO: Testing Set5...\n",
            "2023-05-12 04:08:13,910 INFO: Validation Set5\n",
            "\t # psnr: 31.7279\tBest: 31.7279 @ HAT-L_SRx2_ImageNet-pretrain iter\n",
            "\t # ssim: 0.9748\tBest: 0.9748 @ HAT-L_SRx2_ImageNet-pretrain iter\n",
            "\n"
          ]
        }
      ]
    },
    {
      "cell_type": "markdown",
      "source": [
        "For comparison I will test pretrain HAT model of x2 upscaling. In order to do so, I have to modify .yml file again and keep the same  Python code command."
      ],
      "metadata": {
        "id": "wVAzuoEK5v_7"
      }
    },
    {
      "cell_type": "code",
      "source": [
        "# testing with our pretrained model\n",
        "!python /content/drive/MyDrive/HAT/hat/test.py -opt /content/drive/MyDrive/HAT/options/test/HAT-L_SRx2_ImageNet-pretrain.yml"
      ],
      "metadata": {
        "colab": {
          "base_uri": "https://localhost:8080/"
        },
        "id": "_PlbBO8PwDQj",
        "outputId": "990f199e-f913-4e8d-e472-3b1d54d1b1d1"
      },
      "execution_count": null,
      "outputs": [
        {
          "output_type": "stream",
          "name": "stdout",
          "text": [
            "Disable distributed.\n",
            "Path already exists. Rename it to /content/drive/MyDrive/HAT/results/HAT-L_SRx2_ImageNet-pretrain_archived_20230512_042350\n",
            "2023-05-12 04:23:50,923 INFO: \n",
            "                ____                _       _____  ____\n",
            "               / __ ) ____ _ _____ (_)_____/ ___/ / __ \\\n",
            "              / __  |/ __ `// ___// // ___/\\__ \\ / /_/ /\n",
            "             / /_/ // /_/ /(__  )/ // /__ ___/ // _, _/\n",
            "            /_____/ \\__,_//____//_/ \\___//____//_/ |_|\n",
            "     ______                   __   __                 __      __\n",
            "    / ____/____   ____   ____/ /  / /   __  __ _____ / /__   / /\n",
            "   / / __ / __ \\ / __ \\ / __  /  / /   / / / // ___// //_/  / /\n",
            "  / /_/ // /_/ // /_/ // /_/ /  / /___/ /_/ // /__ / /<    /_/\n",
            "  \\____/ \\____/ \\____/ \\____/  /_____/\\____/ \\___//_/|_|  (_)\n",
            "    \n",
            "Version Information: \n",
            "\tBasicSR: 1.3.4.9\n",
            "\tPyTorch: 2.0.1+cu117\n",
            "\tTorchVision: 0.15.2+cu117\n",
            "2023-05-12 04:23:50,924 INFO: \n",
            "  name: HAT-L_SRx2_ImageNet-pretrain\n",
            "  model_type: HATModel\n",
            "  scale: 2\n",
            "  num_gpu: 1\n",
            "  manual_seed: 0\n",
            "  datasets:[\n",
            "    test_1:[\n",
            "      name: Set5\n",
            "      type: PairedImageDataset\n",
            "      dataroot_gt: ./datasets/GTmod2/test1\n",
            "      dataroot_lq: ./datasets/LRbicx2/test1\n",
            "      io_backend:[\n",
            "        type: disk\n",
            "      ]\n",
            "      phase: test\n",
            "      scale: 2\n",
            "    ]\n",
            "  ]\n",
            "  network_g:[\n",
            "    type: HAT\n",
            "    upscale: 2\n",
            "    in_chans: 3\n",
            "    img_size: 64\n",
            "    window_size: 16\n",
            "    compress_ratio: 3\n",
            "    squeeze_factor: 30\n",
            "    conv_scale: 0.01\n",
            "    overlap_ratio: 0.5\n",
            "    img_range: 1.0\n",
            "    depths: [6, 6, 6, 6, 6, 6, 6, 6, 6, 6, 6, 6]\n",
            "    embed_dim: 180\n",
            "    num_heads: [6, 6, 6, 6, 6, 6, 6, 6, 6, 6, 6, 6]\n",
            "    mlp_ratio: 2\n",
            "    upsampler: pixelshuffle\n",
            "    resi_connection: 1conv\n",
            "  ]\n",
            "  path:[\n",
            "    pretrain_network_g: /content/drive/MyDrive/HAT/experiments/pretrained_models/HAT-L_SRx2_ImageNet-pretrain.pth\n",
            "    strict_load_g: True\n",
            "    param_key_g: params_ema\n",
            "    results_root: /content/drive/MyDrive/HAT/results/HAT-L_SRx2_ImageNet-pretrain\n",
            "    log: /content/drive/MyDrive/HAT/results/HAT-L_SRx2_ImageNet-pretrain\n",
            "    visualization: /content/drive/MyDrive/HAT/results/HAT-L_SRx2_ImageNet-pretrain/visualization\n",
            "  ]\n",
            "  val:[\n",
            "    save_img: True\n",
            "    suffix: None\n",
            "    metrics:[\n",
            "      psnr:[\n",
            "        type: calculate_psnr\n",
            "        crop_border: 2\n",
            "        test_y_channel: True\n",
            "      ]\n",
            "      ssim:[\n",
            "        type: calculate_ssim\n",
            "        crop_border: 2\n",
            "        test_y_channel: True\n",
            "      ]\n",
            "    ]\n",
            "  ]\n",
            "  dist: False\n",
            "  rank: 0\n",
            "  world_size: 1\n",
            "  auto_resume: False\n",
            "  is_train: False\n",
            "\n",
            "2023-05-12 04:23:50,926 INFO: Dataset [PairedImageDataset] - Set5 is built.\n",
            "2023-05-12 04:23:50,926 INFO: Number of test images in Set5: 1\n",
            "/usr/local/lib/python3.10/dist-packages/torch/functional.py:504: UserWarning: torch.meshgrid: in an upcoming release, it will be required to pass the indexing argument. (Triggered internally at ../aten/src/ATen/native/TensorShape.cpp:3483.)\n",
            "  return _VF.meshgrid(tensors, **kwargs)  # type: ignore[attr-defined]\n",
            "2023-05-12 04:23:51,675 INFO: Network [HAT] is created.\n",
            "2023-05-12 04:23:52,563 INFO: Network: HAT, with parameters: 40,698,863\n",
            "2023-05-12 04:23:52,564 INFO: HAT(\n",
            "  (conv_first): Conv2d(3, 180, kernel_size=(3, 3), stride=(1, 1), padding=(1, 1))\n",
            "  (patch_embed): PatchEmbed(\n",
            "    (norm): LayerNorm((180,), eps=1e-05, elementwise_affine=True)\n",
            "  )\n",
            "  (patch_unembed): PatchUnEmbed()\n",
            "  (pos_drop): Dropout(p=0.0, inplace=False)\n",
            "  (layers): ModuleList(\n",
            "    (0): RHAG(\n",
            "      (residual_group): AttenBlocks(\n",
            "        (blocks): ModuleList(\n",
            "          (0): HAB(\n",
            "            (norm1): LayerNorm((180,), eps=1e-05, elementwise_affine=True)\n",
            "            (attn): WindowAttention(\n",
            "              (qkv): Linear(in_features=180, out_features=540, bias=True)\n",
            "              (attn_drop): Dropout(p=0.0, inplace=False)\n",
            "              (proj): Linear(in_features=180, out_features=180, bias=True)\n",
            "              (proj_drop): Dropout(p=0.0, inplace=False)\n",
            "              (softmax): Softmax(dim=-1)\n",
            "            )\n",
            "            (conv_block): CAB(\n",
            "              (cab): Sequential(\n",
            "                (0): Conv2d(180, 60, kernel_size=(3, 3), stride=(1, 1), padding=(1, 1))\n",
            "                (1): GELU(approximate='none')\n",
            "                (2): Conv2d(60, 180, kernel_size=(3, 3), stride=(1, 1), padding=(1, 1))\n",
            "                (3): ChannelAttention(\n",
            "                  (attention): Sequential(\n",
            "                    (0): AdaptiveAvgPool2d(output_size=1)\n",
            "                    (1): Conv2d(180, 6, kernel_size=(1, 1), stride=(1, 1))\n",
            "                    (2): ReLU(inplace=True)\n",
            "                    (3): Conv2d(6, 180, kernel_size=(1, 1), stride=(1, 1))\n",
            "                    (4): Sigmoid()\n",
            "                  )\n",
            "                )\n",
            "              )\n",
            "            )\n",
            "            (drop_path): Identity()\n",
            "            (norm2): LayerNorm((180,), eps=1e-05, elementwise_affine=True)\n",
            "            (mlp): Mlp(\n",
            "              (fc1): Linear(in_features=180, out_features=360, bias=True)\n",
            "              (act): GELU(approximate='none')\n",
            "              (fc2): Linear(in_features=360, out_features=180, bias=True)\n",
            "              (drop): Dropout(p=0.0, inplace=False)\n",
            "            )\n",
            "          )\n",
            "          (1-5): 5 x HAB(\n",
            "            (norm1): LayerNorm((180,), eps=1e-05, elementwise_affine=True)\n",
            "            (attn): WindowAttention(\n",
            "              (qkv): Linear(in_features=180, out_features=540, bias=True)\n",
            "              (attn_drop): Dropout(p=0.0, inplace=False)\n",
            "              (proj): Linear(in_features=180, out_features=180, bias=True)\n",
            "              (proj_drop): Dropout(p=0.0, inplace=False)\n",
            "              (softmax): Softmax(dim=-1)\n",
            "            )\n",
            "            (conv_block): CAB(\n",
            "              (cab): Sequential(\n",
            "                (0): Conv2d(180, 60, kernel_size=(3, 3), stride=(1, 1), padding=(1, 1))\n",
            "                (1): GELU(approximate='none')\n",
            "                (2): Conv2d(60, 180, kernel_size=(3, 3), stride=(1, 1), padding=(1, 1))\n",
            "                (3): ChannelAttention(\n",
            "                  (attention): Sequential(\n",
            "                    (0): AdaptiveAvgPool2d(output_size=1)\n",
            "                    (1): Conv2d(180, 6, kernel_size=(1, 1), stride=(1, 1))\n",
            "                    (2): ReLU(inplace=True)\n",
            "                    (3): Conv2d(6, 180, kernel_size=(1, 1), stride=(1, 1))\n",
            "                    (4): Sigmoid()\n",
            "                  )\n",
            "                )\n",
            "              )\n",
            "            )\n",
            "            (drop_path): DropPath()\n",
            "            (norm2): LayerNorm((180,), eps=1e-05, elementwise_affine=True)\n",
            "            (mlp): Mlp(\n",
            "              (fc1): Linear(in_features=180, out_features=360, bias=True)\n",
            "              (act): GELU(approximate='none')\n",
            "              (fc2): Linear(in_features=360, out_features=180, bias=True)\n",
            "              (drop): Dropout(p=0.0, inplace=False)\n",
            "            )\n",
            "          )\n",
            "        )\n",
            "        (overlap_attn): OCAB(\n",
            "          (norm1): LayerNorm((180,), eps=1e-05, elementwise_affine=True)\n",
            "          (qkv): Linear(in_features=180, out_features=540, bias=True)\n",
            "          (unfold): Unfold(kernel_size=(24, 24), dilation=1, padding=4, stride=16)\n",
            "          (softmax): Softmax(dim=-1)\n",
            "          (proj): Linear(in_features=180, out_features=180, bias=True)\n",
            "          (norm2): LayerNorm((180,), eps=1e-05, elementwise_affine=True)\n",
            "          (mlp): Mlp(\n",
            "            (fc1): Linear(in_features=180, out_features=360, bias=True)\n",
            "            (act): GELU(approximate='none')\n",
            "            (fc2): Linear(in_features=360, out_features=180, bias=True)\n",
            "            (drop): Dropout(p=0.0, inplace=False)\n",
            "          )\n",
            "        )\n",
            "      )\n",
            "      (conv): Conv2d(180, 180, kernel_size=(3, 3), stride=(1, 1), padding=(1, 1))\n",
            "      (patch_embed): PatchEmbed()\n",
            "      (patch_unembed): PatchUnEmbed()\n",
            "    )\n",
            "    (1-11): 11 x RHAG(\n",
            "      (residual_group): AttenBlocks(\n",
            "        (blocks): ModuleList(\n",
            "          (0-5): 6 x HAB(\n",
            "            (norm1): LayerNorm((180,), eps=1e-05, elementwise_affine=True)\n",
            "            (attn): WindowAttention(\n",
            "              (qkv): Linear(in_features=180, out_features=540, bias=True)\n",
            "              (attn_drop): Dropout(p=0.0, inplace=False)\n",
            "              (proj): Linear(in_features=180, out_features=180, bias=True)\n",
            "              (proj_drop): Dropout(p=0.0, inplace=False)\n",
            "              (softmax): Softmax(dim=-1)\n",
            "            )\n",
            "            (conv_block): CAB(\n",
            "              (cab): Sequential(\n",
            "                (0): Conv2d(180, 60, kernel_size=(3, 3), stride=(1, 1), padding=(1, 1))\n",
            "                (1): GELU(approximate='none')\n",
            "                (2): Conv2d(60, 180, kernel_size=(3, 3), stride=(1, 1), padding=(1, 1))\n",
            "                (3): ChannelAttention(\n",
            "                  (attention): Sequential(\n",
            "                    (0): AdaptiveAvgPool2d(output_size=1)\n",
            "                    (1): Conv2d(180, 6, kernel_size=(1, 1), stride=(1, 1))\n",
            "                    (2): ReLU(inplace=True)\n",
            "                    (3): Conv2d(6, 180, kernel_size=(1, 1), stride=(1, 1))\n",
            "                    (4): Sigmoid()\n",
            "                  )\n",
            "                )\n",
            "              )\n",
            "            )\n",
            "            (drop_path): DropPath()\n",
            "            (norm2): LayerNorm((180,), eps=1e-05, elementwise_affine=True)\n",
            "            (mlp): Mlp(\n",
            "              (fc1): Linear(in_features=180, out_features=360, bias=True)\n",
            "              (act): GELU(approximate='none')\n",
            "              (fc2): Linear(in_features=360, out_features=180, bias=True)\n",
            "              (drop): Dropout(p=0.0, inplace=False)\n",
            "            )\n",
            "          )\n",
            "        )\n",
            "        (overlap_attn): OCAB(\n",
            "          (norm1): LayerNorm((180,), eps=1e-05, elementwise_affine=True)\n",
            "          (qkv): Linear(in_features=180, out_features=540, bias=True)\n",
            "          (unfold): Unfold(kernel_size=(24, 24), dilation=1, padding=4, stride=16)\n",
            "          (softmax): Softmax(dim=-1)\n",
            "          (proj): Linear(in_features=180, out_features=180, bias=True)\n",
            "          (norm2): LayerNorm((180,), eps=1e-05, elementwise_affine=True)\n",
            "          (mlp): Mlp(\n",
            "            (fc1): Linear(in_features=180, out_features=360, bias=True)\n",
            "            (act): GELU(approximate='none')\n",
            "            (fc2): Linear(in_features=360, out_features=180, bias=True)\n",
            "            (drop): Dropout(p=0.0, inplace=False)\n",
            "          )\n",
            "        )\n",
            "      )\n",
            "      (conv): Conv2d(180, 180, kernel_size=(3, 3), stride=(1, 1), padding=(1, 1))\n",
            "      (patch_embed): PatchEmbed()\n",
            "      (patch_unembed): PatchUnEmbed()\n",
            "    )\n",
            "  )\n",
            "  (norm): LayerNorm((180,), eps=1e-05, elementwise_affine=True)\n",
            "  (conv_after_body): Conv2d(180, 180, kernel_size=(3, 3), stride=(1, 1), padding=(1, 1))\n",
            "  (conv_before_upsample): Sequential(\n",
            "    (0): Conv2d(180, 64, kernel_size=(3, 3), stride=(1, 1), padding=(1, 1))\n",
            "    (1): LeakyReLU(negative_slope=0.01, inplace=True)\n",
            "  )\n",
            "  (upsample): Upsample(\n",
            "    (0): Conv2d(64, 256, kernel_size=(3, 3), stride=(1, 1), padding=(1, 1))\n",
            "    (1): PixelShuffle(upscale_factor=2)\n",
            "  )\n",
            "  (conv_last): Conv2d(64, 3, kernel_size=(3, 3), stride=(1, 1), padding=(1, 1))\n",
            ")\n",
            "2023-05-12 04:23:56,936 INFO: Loading HAT model from /content/drive/MyDrive/HAT/experiments/pretrained_models/HAT-L_SRx2_ImageNet-pretrain.pth, with param key: [params_ema].\n",
            "2023-05-12 04:23:57,221 INFO: Model [HATModel] is created.\n",
            "2023-05-12 04:23:57,222 INFO: Testing Set5...\n",
            "2023-05-12 04:24:04,092 INFO: Validation Set5\n",
            "\t # psnr: 25.4805\tBest: 25.4805 @ HAT-L_SRx2_ImageNet-pretrain iter\n",
            "\t # ssim: 0.9174\tBest: 0.9174 @ HAT-L_SRx2_ImageNet-pretrain iter\n",
            "\n"
          ]
        }
      ]
    },
    {
      "cell_type": "markdown",
      "source": [
        "## Models evaluation \n",
        "1. At first,our trained from sctratch model showed slightly worse results that  HAT-L_SRx2_ImageNet-pretrain model\n",
        "\n",
        "| Model | PSNR | SSIM \n",
        "| --------------- | --------------- |------------|\n",
        "| Custom Trained Model | 24.8149 |  0.8911|\n",
        "| HAT-L_SRx2_ImageNet-pretrain | 26.7777 |  0.9091|\n",
        "\n",
        "\n",
        "2. After running another test, results from custom trained model were significantly better, and the opposite, pretrained model performed worse than the first time:\n",
        "\n",
        "\n",
        "| Model | PSNR |SSIM\n",
        "|-------|-----------|--------------|\n",
        "Custom trained HAT model x2 upscaling | 31.7279 | 0.9748|\n",
        "HAT-L_SRx2_ImageNet-pretrain |25.4805|0.9174|"
      ],
      "metadata": {
        "id": "ml3kmVmrw0lE"
      }
    },
    {
      "cell_type": "markdown",
      "source": [
        "## Displaying Images for comparison"
      ],
      "metadata": {
        "id": "ICCgGx3cB-XT"
      }
    },
    {
      "cell_type": "code",
      "source": [
        "# Open the first image\n",
        "img1 = Image.open(\"/content/drive/MyDrive/HAT/results/HAT-L_SRx2_ImageNet-pretrain/visualization/Set5/09009small_HAT-L_SRx2_ImageNet-pretrain.png\")\n",
        "\n",
        "# Open the second image\n",
        "img2 = Image.open(\"/content/drive/MyDrive/HAT/results/HAT-L_SRx2_ImageNet-pretrain_archived_20230512_042350/visualization/Set5/09009small_HAT-L_SRx2_ImageNet-pretrain.png\")\n",
        "\n",
        "# Get the dimensions of the images\n",
        "width1, height1 = img1.size\n",
        "width2, height2 = img2.size\n",
        "\n",
        "# Create a new image with double the width of the original images\n",
        "new_img = Image.new('RGB', (width1 + width2, max(height1, height2)))\n",
        "\n",
        "# Paste the first image onto the left half of the new image\n",
        "new_img.paste(img1, (0, 0))\n",
        "\n",
        "# Paste the second image onto the right half of the new image\n",
        "new_img.paste(img2, (width1, 0))\n",
        "\n",
        "# Convert the PIL image to a numpy array\n",
        "new_img_arr = np.array(new_img)\n",
        "\n",
        "# Display the new image using matplotlib\n",
        "plt.title('HAT retraied model image | Custom-traied model')\n",
        "plt.imshow(new_img_arr)\n",
        "plt.show()"
      ],
      "metadata": {
        "colab": {
          "base_uri": "https://localhost:8080/",
          "height": 331
        },
        "id": "C2C-DS5Z9fwe",
        "outputId": "09836f0c-b699-4b0d-fe56-17579295ca3c"
      },
      "execution_count": null,
      "outputs": [
        {
          "output_type": "display_data",
          "data": {
            "text/plain": [
              "<Figure size 640x480 with 1 Axes>"
            ],
            "image/png": "[encoded data removed]"
          },
          "metadata": {}
        }
      ]
    },
    {
      "cell_type": "markdown",
      "source": [
        "# Custom Training"
      ],
      "metadata": {
        "id": "xLnrTIyP2V2W"
      }
    },
    {
      "cell_type": "markdown",
      "source": [
        "\n",
        "To train your model on custom images, you should follow the steps outlined below:\n",
        "\n",
        "1. Begin by emptying the \"GT\" (ground truth) and \"LR\" (low resolution) folders. This will ensure that only the desired images are present during the training process.\n",
        "\n",
        "2. Modify the \"train.yml\" file by providing correct paths to the daytasets to be processed.\n",
        "\n",
        "3. Prepare your dataset by organizing it into separate directories for HR and LR images. Additionally, divide these directories into training, validation, and test sets. This organization allows for proper evaluation and monitoring during the training process.\n",
        "\n",
        "4. Copy the images from the Google Drive.\n",
        "5. Apply data augmentation techniques  by applying random transformations such as rotations, flips, or color variations. This process helps to improve the generalization and robustness of your model.\n",
        "\n",
        "6. Run the following command to extract subimages from your dataset:\n",
        "\n",
        "```\n",
        "      python scripts/data_preparation/extract_subimages.py\n",
        "\n",
        "```\n",
        "7.  Test the dataloader with the script\n",
        "\n",
        "```\n",
        "      tests/test_paired_image_dataset.py # to be modified\n",
        "```\n",
        "\n",
        "\n",
        "\n",
        "\n",
        "\n",
        "\n",
        "\n",
        "\n",
        "\n"
      ],
      "metadata": {
        "id": "j8SEwX7gBLr5"
      }
    },
    {
      "cell_type": "code",
      "source": [
        "# remove images\n",
        "image_to_remove =\"/content/drive/MyDrive/HAT/datasets/LRbicx2/00001.png\"\n",
        "#image_to_remove =\"/content/drive/MyDrive/HAT/datasets/GTmod2/00001.png\"\n",
        "\n",
        "os.remove(image_to_remove)\n",
        "\n"
      ],
      "metadata": {
        "id": "cBPNGHrYNMnp"
      },
      "execution_count": null,
      "outputs": []
    },
    {
      "cell_type": "code",
      "source": [
        "\n",
        "def copy_file(src, dst):\n",
        "    if os.path.exists(src):\n",
        "        if src != dst:\n",
        "            print(f\"Copying from {src} to {dst}\")\n",
        "            shutil.copy(src, dst)\n",
        "        else:\n",
        "            print(f\"Skipping {src} as it is the same as the destination.\")\n",
        "    else:\n",
        "        print(f\"File not found: {src}. Skipping.\")\n",
        "\n",
        "# Define source directories and directories for the split dataset\n",
        "source_gt_dir = '/content/drive/MyDrive/Testing/train_HR'\n",
        "source_lr_dir = '/content/drive/MyDrive/Testing/train_LR/X4'\n",
        "train_gt_dir = '/content/drive/MyDrive/HAT/datasets/GTmod2/train'\n",
        "train_lr_dir = '/content/drive/MyDrive/HAT/datasets/LRbicx2/train'\n",
        "val_gt_dir = '/content/drive/MyDrive/HAT/datasets/GTmod2/val'\n",
        "val_lr_dir = '/content/drive/MyDrive/HAT/datasets/LRbicx2/val'\n",
        "test_gt_dir = '/content/drive/MyDrive/HAT/datasets/GTmod2/test'\n",
        "test_lr_dir = '/content/drive/MyDrive/HAT/datasets/LRbicx2/test'\n",
        "\n",
        "# List all GT image files\n",
        "gt_files = [f for f in os.listdir(source_gt_dir) if os.path.isfile(os.path.join(source_gt_dir, f))]\n",
        "\n",
        "# Shuffle the list of GT image files\n",
        "random.shuffle(gt_files)\n",
        "\n",
        "# Calculate the number of files for train, validation, and test sets\n",
        "num_files = len(gt_files)\n",
        "num_train_files = int(0.8 * num_files)\n",
        "num_val_files = int(0.1 * num_files)\n",
        "num_test_files = num_files - num_train_files - num_val_files\n",
        "\n",
        "# Split the GT image files into train, validation, and test sets\n",
        "train_gt_files = gt_files[:num_train_files]\n",
        "val_gt_files = gt_files[num_train_files:num_train_files + num_val_files]\n",
        "test_gt_files = gt_files[num_train_files + num_val_files:]\n",
        "\n",
        "# Copy GT and LR image files to their respective directories\n",
        "for f in train_gt_files:\n",
        "    copy_file(os.path.join(source_gt_dir, f), os.path.join(train_gt_dir, f))\n",
        "    copy_file(os.path.join(source_lr_dir, f), os.path.join(train_lr_dir, f))\n",
        "\n",
        "for f in val_gt_files:\n",
        "    copy_file(os.path.join(source_gt_dir, f), os.path.join(val_gt_dir, f))\n",
        "    copy_file(os.path.join(source_lr_dir, f), os.path.join(val_lr_dir, f))\n",
        "\n",
        "for f in test_gt_files:\n",
        "    copy_file(os.path.join(source_gt_dir, f), os.path.join(test_gt_dir, f))\n",
        "    copy_file(os.path.join(source_lr_dir, f), os.path.join(test_lr_dir, f))\n"
      ],
      "metadata": {
        "id": "BF6dd-OBNg4d"
      },
      "execution_count": null,
      "outputs": []
    },
    {
      "cell_type": "code",
      "source": [
        "dirs_to_clean = [train_gt_dir, val_gt_dir, test_gt_dir]\n",
        "\n",
        "# Remove all files in the directories\n",
        "for directory in dirs_to_clean:\n",
        "    for filename in os.listdir(directory):\n",
        "        file_path = os.path.join(directory, filename)\n",
        "        try:\n",
        "            if os.path.isfile(file_path):\n",
        "                os.unlink(file_path)\n",
        "        except Exception as e:\n",
        "            print(f'Failed to delete {file_path}. Reason: {e}')"
      ],
      "metadata": {
        "id": "LzJ8KKXGUUHv"
      },
      "execution_count": null,
      "outputs": []
    },
    {
      "cell_type": "markdown",
      "source": [
        "## Dataset preprocessing/ Data Augmentation \n",
        "**Note** :We are going to apply data augmenation technique for both **train sets only** "
      ],
      "metadata": {
        "id": "ggMzYQw1VQl6"
      }
    },
    {
      "cell_type": "code",
      "source": [
        "! pip install albumentations"
      ],
      "metadata": {
        "id": "3s3AZw_3Ve0U"
      },
      "execution_count": null,
      "outputs": []
    },
    {
      "cell_type": "code",
      "source": [
        "\n",
        "from albumentations import (\n",
        "    Compose, HorizontalFlip, VerticalFlip, RandomRotate90, Normalize\n",
        ")\n",
        "\n",
        "# Update these paths to match your dataset directories\n",
        "train_gt_dir = '/content/drive/MyDrive/HAT/datasets/GTmod2/train'\n",
        "train_lr_dir = '/content/drive/MyDrive/HAT/datasets/LRbicx2/train'\n",
        "\n",
        "# Define the augmentation pipeline\n",
        "augmentation = Compose([\n",
        "    HorizontalFlip(p=0.5),\n",
        "    VerticalFlip(p=0.5),\n",
        "    RandomRotate90(p=0.5),\n",
        "    Normalize(mean=(0.485, 0.456, 0.406), std=(0.229, 0.224, 0.225), max_pixel_value=255.0, p=1.0)\n",
        "], additional_targets={'lr_img': 'image'})\n",
        "\n",
        "# Apply data augmentation to the GT and LR training images\n",
        "for img_name in os.listdir(train_gt_dir):\n",
        "    gt_img_path = os.path.join(train_gt_dir, img_name)\n",
        "    lr_img_path = os.path.join(train_lr_dir, img_name)\n",
        "\n",
        "    gt_img = cv2.imread(gt_img_path)\n",
        "    lr_img = cv2.imread(lr_img_path)\n",
        "\n",
        "    # Apply augmentation to both GT and LR images\n",
        "    augmented = augmentation(image=gt_img, lr_img=lr_img)\n",
        "    gt_img_augmented = augmented['image']\n",
        "    lr_img_augmented = augmented['lr_img']\n",
        "\n",
        "    # Multiply pixel values by 255 to bring them back to their original range\n",
        "    gt_img_augmented = (gt_img_augmented * 255).astype('uint8')\n",
        "    lr_img_augmented = (lr_img_augmented * 255).astype('uint8')\n",
        "\n",
        "    # Save the augmented images to the same directories as the original images\n",
        "    gt_img_augmented_path = os.path.join(train_gt_dir, 'aug_' + img_name)\n",
        "    lr_img_augmented_path = os.path.join(train_lr_dir, 'aug_' + img_name)\n",
        "\n",
        "    cv2.imwrite(gt_img_augmented_path, gt_img_augmented)\n",
        "    cv2.imwrite(lr_img_augmented_path, lr_img_augmented)\n"
      ],
      "metadata": {
        "id": "ue2XFnXTWkNR"
      },
      "execution_count": null,
      "outputs": []
    },
    {
      "cell_type": "code",
      "source": [
        "train_gt_dir = '/content/drive/MyDrive/HAT/datasets/GTmod2/train'\n",
        "train_lr_dir = '/content/drive/MyDrive/HAT/datasets/LRbicx2/train'\n",
        "\n",
        "# Remove the augmented images from GT and LR directories\n",
        "for img_name in os.listdir(train_gt_dir):\n",
        "    if img_name.startswith('aug_'):\n",
        "        os.remove(os.path.join(train_gt_dir, img_name))\n",
        "\n",
        "for img_name in os.listdir(train_lr_dir):\n",
        "    if img_name.startswith('aug_'):\n",
        "        os.remove(os.path.join(train_lr_dir, img_name))\n"
      ],
      "metadata": {
        "id": "9R3yJhmNbvnv"
      },
      "execution_count": null,
      "outputs": []
    },
    {
      "cell_type": "markdown",
      "source": [
        "## BasicSR data preparation\n",
        "**First things first** Make sure you have BasicSR directory in your Google Drive.\n",
        "\n",
        "\n",
        "\n",
        "```\n",
        "    !git clone  https://github.com/XPixelGroup/BasicSR\n",
        "```\n",
        "Then upload BasicSR to your Google Drive\n",
        "\n",
        "\n",
        "According to HAT documenatation :  \" Crop to sub-images: DIV2K has 2K resolution (e.g., 2048 × 1080) images but the training patches are usually small (e.g., 128x128 or 192x192). So there is a waste if reading the whole image but only using a very small part of it. In order to accelerate the IO speed during training, we crop the 2K resolution images to sub-images (here, we crop to 480x480 sub-images).\n",
        "Note that the size of sub-images is different from the training patch size (gt_size) defined in the config file. Specifically, the cropped sub-images with 480x480 are stored. The dataloader will further randomly crop the sub-images to GT_size x GT_size patches for training.\"\n",
        "\n",
        " 🔽   So after modifying a python script I will run command to create sub-images of 480x480 size that will be stored in train_sub directory. \n",
        "\n",
        "```\n",
        "        python scripts/data_preparation/extract_subimages.py\n"
      ],
      "metadata": {
        "id": "6PvnL9FbmX6i"
      }
    },
    {
      "cell_type": "code",
      "source": [
        "# Change directory to BasicSR to run extract_subimages.py\n",
        "os.chdir('/content/drive/MyDrive/BasicSR')\n"
      ],
      "metadata": {
        "id": "-gX-dfhLiPlB"
      },
      "execution_count": null,
      "outputs": []
    },
    {
      "cell_type": "code",
      "source": [
        "! pip install -r requirements.txt"
      ],
      "metadata": {
        "id": "F0e6mDj6jNJT"
      },
      "execution_count": null,
      "outputs": []
    },
    {
      "cell_type": "code",
      "source": [
        "\"\"\" \n",
        "  Run the script. It will crop train images for future HAT training.\n",
        "  Modify extract_subimages.py script to provide path to images.\n",
        "  No need to create _sub folders for the output images. Script will do it.\n",
        "\"\"\"\n",
        "!python scripts/data_preparation/extract_subimages.py"
      ],
      "metadata": {
        "colab": {
          "base_uri": "https://localhost:8080/"
        },
        "id": "vO_kMIjtib4q",
        "outputId": "b0581303-e091-4937-90b4-a8c74a389e7d"
      },
      "execution_count": null,
      "outputs": [
        {
          "output_type": "stream",
          "name": "stdout",
          "text": [
            "/usr/local/lib/python3.10/dist-packages/torchvision/transforms/functional_tensor.py:5: UserWarning: The torchvision.transforms.functional_tensor module is deprecated in 0.15 and will be **removed in 0.17**. Please don't rely on it. You probably just need to use APIs in torchvision.transforms.functional or in torchvision.transforms.v2.functional.\n",
            "  warnings.warn(\n",
            "mkdir /content/drive/MyDrive/HAT/datasets/GTmod2/train_sub ...\n",
            "Extract: 100% 160/160 [01:07<00:00,  2.38image/s]\n",
            "All processes done.\n",
            "mkdir /content/drive/MyDrive/HAT/datasets/LRbicx2/train_sub ...\n",
            "Extract: 100% 160/160 [00:31<00:00,  5.05image/s]\n",
            "All processes done.\n"
          ]
        }
      ]
    },
    {
      "cell_type": "code",
      "source": [
        "import shutil\n",
        "\n",
        "folder_path = '/content/drive/MyDrive/HAT/datasets/LRbicx2/train_sub'\n",
        "shutil.rmtree(folder_path)\n"
      ],
      "metadata": {
        "id": "Cvf1o8egkSEz"
      },
      "execution_count": null,
      "outputs": []
    },
    {
      "cell_type": "code",
      "source": [
        "! python tests/test_data/test_paired_image_dataset.py"
      ],
      "metadata": {
        "id": "GbYo8lVhnkF9"
      },
      "execution_count": null,
      "outputs": []
    },
    {
      "cell_type": "code",
      "source": [
        "! python scripts/data_preparation/generate_meta_info.py"
      ],
      "metadata": {
        "id": "tMRJ6Dz9ptfY"
      },
      "execution_count": null,
      "outputs": []
    },
    {
      "cell_type": "markdown",
      "source": [
        "## Training command\n",
        "\n",
        "Since I am using Google Colab and have only one GPU available, I will need to modify the command to run the training provided by XPixelGroup team to a one that will work on a single GPU 🤞.\n",
        "\n",
        "\n",
        "Original XPixelGroup code for training\n",
        "\n",
        "\n",
        "```\n",
        "CUDA_VISIBLE_DEVICES=0,1,2,3,4,5,6,7 python -m torch.distributed.launch --nproc_per_node=8 --master_port=4321 hat/train.py -opt options/train/train_HAT_SRx2_from_scratch.yml --launcher pytorch\n",
        "```\n",
        "I removed the **CUDA_VISIBLE_DEVICES** part as it's not needed in Colab.\n",
        "\n",
        "Here's the modified command to run the training on a single GPU in Google Colab:\n",
        "\n",
        "\n",
        "```\n",
        "!python /content/drive/MyDrive/HAT/hat/train.py -opt /content/drive/MyDrive/HAT/options/train/train_HAT-L_SRx2_ImageNet_from_scratch.yml\n",
        "\n",
        "```\n",
        "\n"
      ],
      "metadata": {
        "id": "jAT9oCIJMUGd"
      }
    },
    {
      "cell_type": "code",
      "source": [
        "os.chdir('/content/drive/MyDrive/HAT')"
      ],
      "metadata": {
        "id": "A1OP8JNGxwA2"
      },
      "execution_count": null,
      "outputs": []
    },
    {
      "cell_type": "code",
      "source": [
        "!python /content/drive/MyDrive/HAT/hat/train.py -opt /content/drive/MyDrive/HAT/options/train/train_HAT-L_SRx2_ImageNet_from_scratch.yml\n"
      ],
      "metadata": {
        "id": "E8THO6eEE2hG"
      },
      "execution_count": null,
      "outputs": []
    },
    {
      "cell_type": "markdown",
      "source": [
        "###  Trying to fix issues occured while model was being trained, I accidentially found out that number of training samples in GT and LR folders are different 😕. See codes below "
      ],
      "metadata": {
        "id": "hxZoS0uVtJTF"
      }
    },
    {
      "cell_type": "code",
      "source": [
        "import os\n",
        "\n",
        "dataset_path = '/content/drive/MyDrive/HAT/datasets/GTmod2/train_sub'\n",
        "num_samples = len([f for f in os.listdir(dataset_path) if os.path.isfile(os.path.join(dataset_path, f))])\n",
        "\n",
        "print(f'Number of training samples: {num_samples}')\n"
      ],
      "metadata": {
        "colab": {
          "base_uri": "https://localhost:8080/"
        },
        "id": "81HThCnqr4Uq",
        "outputId": "2830eabf-98c7-475f-abaf-62520efad768"
      },
      "execution_count": null,
      "outputs": [
        {
          "output_type": "stream",
          "name": "stdout",
          "text": [
            "Number of training samples: 2518\n"
          ]
        }
      ]
    },
    {
      "cell_type": "code",
      "source": [
        "dataset_path = '/content/drive/MyDrive/HAT/datasets/LRbicx2/train_sub'\n",
        "num_samples = len([f for f in os.listdir(dataset_path) if os.path.isfile(os.path.join(dataset_path, f))])\n",
        "\n",
        "print(f'Number of training samples: {num_samples}')"
      ],
      "metadata": {
        "colab": {
          "base_uri": "https://localhost:8080/"
        },
        "id": "wN0icpDFsEZA",
        "outputId": "233b4a7c-0613-4fd1-c834-ef8af33ab1e5"
      },
      "execution_count": null,
      "outputs": [
        {
          "output_type": "stream",
          "name": "stdout",
          "text": [
            "Number of training samples: 2560\n"
          ]
        }
      ]
    },
    {
      "cell_type": "markdown",
      "source": [
        "### The following code will help to find out missing files in both folders and resolve the issue."
      ],
      "metadata": {
        "id": "Bifh5wCXuAgJ"
      }
    },
    {
      "cell_type": "code",
      "source": [
        "import os\n",
        "\n",
        "gt_dir = '/content/drive/MyDrive/HAT/datasets/GTmod2/train_sub'\n",
        "lr_dir = '/content/drive/MyDrive/HAT/datasets/LRbicx2/train_sub'\n",
        "\n",
        "gt_files = set(os.listdir(gt_dir))\n",
        "lr_files = set(os.listdir(lr_dir))\n",
        "\n",
        "missing_in_gt = lr_files - gt_files\n",
        "missing_in_lr = gt_files - lr_files\n",
        "\n",
        "print(f'Missing in GT: {missing_in_gt}')\n",
        "print(f'Missing in LR: {missing_in_lr}')\n"
      ],
      "metadata": {
        "colab": {
          "base_uri": "https://localhost:8080/"
        },
        "id": "8d_nydtTuMDI",
        "outputId": "9eef847f-90ad-4663-82e6-a7bdd8774c12"
      },
      "execution_count": null,
      "outputs": [
        {
          "output_type": "stream",
          "name": "stdout",
          "text": [
            "Missing in GT: {'aug_00015_s008.png', '00040_s016.png', '00052_s015.png', 'aug_00073_s009.png', 'aug_00044_s015.png', 'aug_00079_s015.png', 'aug_00016_s007.png', 'aug_00068_s008.png', 'aug_00057_s010.png', 'aug_00014_s003.png', '00079_s016.png', 'aug_00074_s014.png', 'aug_00080_s008.png', '00041_s015.png', '00067_s013.png', 'aug_00098_s007.png', 'aug_00043_s010.png', '00080_s014.png', 'aug_00084_s012.png', '00058_s015.png', '00078_s013.png', '00033_s014.png', 'aug_00040_s015.png', 'aug_00028_s009.png', 'aug_00010_s002.png', '00098_s014.png', 'aug_00041_s009.png', 'aug_00025_s003.png', 'aug_00033_s011.png', 'aug_00078_s009.png', 'aug_00052_s010.png', 'aug_00010_s016.png', 'aug_00009_s010.png', '00068_s014.png', '00041_s014.png', 'aug_00062_s015.png', '00057_s015.png', 'aug_00067_s005.png', '00074_s016.png', 'aug_00026_s016.png', 'aug_00053_s008.png', 'aug_00008_s011.png'}\n",
            "Missing in LR: set()\n"
          ]
        }
      ]
    },
    {
      "cell_type": "code",
      "source": [
        "# Remove mismatched files \n",
        "for file in missing_in_gt:\n",
        "    os.remove(os.path.join(lr_dir, file))"
      ],
      "metadata": {
        "id": "dTzcTiuEuihg"
      },
      "execution_count": null,
      "outputs": []
    },
    {
      "cell_type": "code",
      "source": [
        "dataset_path = '/content/drive/MyDrive/HAT/datasets/GTmod2/train_sub'\n",
        "num_samples = len([f for f in os.listdir(dataset_path) if os.path.isfile(os.path.join(dataset_path, f))])\n",
        "\n",
        "print(f'Number of training samples: {num_samples}')"
      ],
      "metadata": {
        "colab": {
          "base_uri": "https://localhost:8080/"
        },
        "id": "N6sbUOoVu5kK",
        "outputId": "b0e9f657-8131-435c-fd62-456139867efb"
      },
      "execution_count": null,
      "outputs": [
        {
          "output_type": "stream",
          "name": "stdout",
          "text": [
            "Number of training samples: 2518\n"
          ]
        }
      ]
    },
    {
      "cell_type": "code",
      "source": [
        "dataset_path = '/content/drive/MyDrive/HAT/datasets/LRbicx2/train_sub'\n",
        "num_samples = len([f for f in os.listdir(dataset_path) if os.path.isfile(os.path.join(dataset_path, f))])\n",
        "\n",
        "print(f'Number of training samples: {num_samples}')"
      ],
      "metadata": {
        "colab": {
          "base_uri": "https://localhost:8080/"
        },
        "id": "X-809T5Xu-Gx",
        "outputId": "73c4fd16-a954-4c34-ee8b-107105b33823"
      },
      "execution_count": null,
      "outputs": [
        {
          "output_type": "stream",
          "name": "stdout",
          "text": [
            "Number of training samples: 2518\n"
          ]
        }
      ]
    },
    {
      "cell_type": "markdown",
      "source": [
        "### Now number of files and their names are identical in both datasets. 🙌"
      ],
      "metadata": {
        "id": "Kq_x_QYTvGw7"
      }
    },
    {
      "cell_type": "markdown",
      "source": [
        "Since the **total_iter: 800000** parameter in the configuration file controls the total number of iterations, which is related to the number of epochs. \n",
        "\n",
        "I have been asked to downsize number of the epochs to 3. In order to do so,  I will convert the total number of iterations to epochs, using the following formula:\n",
        "\n",
        "number_of_epochs = total_iterations / (number_of_training_samples / batch_size)\n",
        "\n",
        "total_iter = 3 * (2518 / 2) = 3777\n",
        "\n",
        "\n",
        "\n",
        "Then, I can update the total_iter parameter in the configuration file."
      ],
      "metadata": {
        "id": "lGKc8m6zv3wr"
      }
    },
    {
      "cell_type": "code",
      "source": [
        "#before running the following command, make sure you run !python setup.py develop\n",
        "\n",
        "!python /content/drive/MyDrive/HAT/hat/train.py -opt /content/drive/MyDrive/HAT/options/train/train_HAT-L_SRx2_ImageNet_from_scratch.yml\n"
      ],
      "metadata": {
        "colab": {
          "base_uri": "https://localhost:8080/"
        },
        "outputId": "134ff886-2565-42b9-bde1-bdda363d6e0f",
        "id": "Q5l_cZ2VjfZw"
      },
      "execution_count": null,
      "outputs": [
        {
          "output_type": "stream",
          "name": "stdout",
          "text": [
            "Disable distributed.\n",
            "Path already exists. Rename it to /content/drive/MyDrive/HAT/experiments/train_HAT-L_SRx2_ImageNet_from_scratch_archived_20230505_014303\n",
            "Path already exists. Rename it to /content/drive/MyDrive/HAT/tb_logger/train_HAT-L_SRx2_ImageNet_from_scratch_archived_20230505_014303\n",
            "2023-05-05 01:43:03,992 INFO: \n",
            "                ____                _       _____  ____\n",
            "               / __ ) ____ _ _____ (_)_____/ ___/ / __ \\\n",
            "              / __  |/ __ `// ___// // ___/\\__ \\ / /_/ /\n",
            "             / /_/ // /_/ /(__  )/ // /__ ___/ // _, _/\n",
            "            /_____/ \\__,_//____//_/ \\___//____//_/ |_|\n",
            "     ______                   __   __                 __      __\n",
            "    / ____/____   ____   ____/ /  / /   __  __ _____ / /__   / /\n",
            "   / / __ / __ \\ / __ \\ / __  /  / /   / / / // ___// //_/  / /\n",
            "  / /_/ // /_/ // /_/ // /_/ /  / /___/ /_/ // /__ / /<    /_/\n",
            "  \\____/ \\____/ \\____/ \\____/  /_____/\\____/ \\___//_/|_|  (_)\n",
            "    \n",
            "Version Information: \n",
            "\tBasicSR: 1.3.4.9\n",
            "\tPyTorch: 2.0.0+cu118\n",
            "\tTorchVision: 0.15.1+cu118\n",
            "2023-05-05 01:43:03,993 INFO: \n",
            "  name: train_HAT-L_SRx2_ImageNet_from_scratch\n",
            "  model_type: HATModel\n",
            "  scale: 2\n",
            "  num_gpu: 1\n",
            "  manual_seed: 0\n",
            "  datasets:[\n",
            "    train:[\n",
            "      name: ImageNet\n",
            "      type: ImageNetPairedDataset\n",
            "      dataroot_gt: /content/drive/MyDrive/HAT/datasets/GTmod2/train_sub\n",
            "      meta_info_file: /content/drive/MyDrive/BasicSR/basicsr/data/meta_info/meta_info_train_sub_GT.txt\n",
            "      io_backend:[\n",
            "        type: disk\n",
            "      ]\n",
            "      gt_size: 128\n",
            "      use_hflip: True\n",
            "      use_rot: True\n",
            "      use_shuffle: True\n",
            "      num_worker_per_gpu: 6\n",
            "      batch_size_per_gpu: 2\n",
            "      dataset_enlarge_ratio: 1\n",
            "      prefetch_mode: None\n",
            "      phase: train\n",
            "      scale: 2\n",
            "    ]\n",
            "    val_1:[\n",
            "      name: Set5\n",
            "      type: PairedImageDataset\n",
            "      dataroot_gt: /content/drive/MyDrive/HAT/datasets/GTmod2/val\n",
            "      dataroot_lq: /content/drive/MyDrive/HAT/datasets/LRbicx2/val\n",
            "      io_backend:[\n",
            "        type: disk\n",
            "      ]\n",
            "      phase: val\n",
            "      scale: 2\n",
            "    ]\n",
            "  ]\n",
            "  network_g:[\n",
            "    type: HAT\n",
            "    upscale: 2\n",
            "    in_chans: 3\n",
            "    img_size: 64\n",
            "    window_size: 16\n",
            "    compress_ratio: 3\n",
            "    squeeze_factor: 30\n",
            "    conv_scale: 0.01\n",
            "    overlap_ratio: 0.5\n",
            "    img_range: 1.0\n",
            "    depths: [6, 6, 6, 6, 6, 6, 6, 6, 6, 6, 6, 6]\n",
            "    embed_dim: 180\n",
            "    num_heads: [6, 6, 6, 6, 6, 6, 6, 6, 6, 6, 6, 6]\n",
            "    mlp_ratio: 2\n",
            "    upsampler: pixelshuffle\n",
            "    resi_connection: 1conv\n",
            "  ]\n",
            "  path:[\n",
            "    pretrain_network_g: None\n",
            "    strict_load_g: True\n",
            "    resume_state: None\n",
            "    experiments_root: /content/drive/MyDrive/HAT/experiments/train_HAT-L_SRx2_ImageNet_from_scratch\n",
            "    models: /content/drive/MyDrive/HAT/experiments/train_HAT-L_SRx2_ImageNet_from_scratch/models\n",
            "    training_states: /content/drive/MyDrive/HAT/experiments/train_HAT-L_SRx2_ImageNet_from_scratch/training_states\n",
            "    log: /content/drive/MyDrive/HAT/experiments/train_HAT-L_SRx2_ImageNet_from_scratch\n",
            "    visualization: /content/drive/MyDrive/HAT/experiments/train_HAT-L_SRx2_ImageNet_from_scratch/visualization\n",
            "  ]\n",
            "  train:[\n",
            "    ema_decay: 0.999\n",
            "    optim_g:[\n",
            "      type: Adam\n",
            "      lr: 0.0002\n",
            "      weight_decay: 0\n",
            "      betas: [0.9, 0.99]\n",
            "    ]\n",
            "    scheduler:[\n",
            "      type: MultiStepLR\n",
            "      milestones: [300000, 500000, 650000, 700000, 750000]\n",
            "      gamma: 0.5\n",
            "    ]\n",
            "    total_iter: 3777\n",
            "    warmup_iter: -1\n",
            "    pixel_opt:[\n",
            "      type: L1Loss\n",
            "      loss_weight: 1.0\n",
            "      reduction: mean\n",
            "    ]\n",
            "  ]\n",
            "  val:[\n",
            "    val_freq: 10000.0\n",
            "    save_img: False\n",
            "    pbar: False\n",
            "    metrics:[\n",
            "      psnr:[\n",
            "        type: calculate_psnr\n",
            "        crop_border: 2\n",
            "        test_y_channel: True\n",
            "        better: higher\n",
            "      ]\n",
            "      ssim:[\n",
            "        type: calculate_ssim\n",
            "        crop_border: 2\n",
            "        test_y_channel: True\n",
            "        better: higher\n",
            "      ]\n",
            "    ]\n",
            "  ]\n",
            "  logger:[\n",
            "    print_freq: 100\n",
            "    save_checkpoint_freq: 10000.0\n",
            "    use_tb_logger: True\n",
            "    wandb:[\n",
            "      project: None\n",
            "      resume_id: None\n",
            "    ]\n",
            "  ]\n",
            "  dist_params:[\n",
            "    backend: nccl\n",
            "    port: 29500\n",
            "  ]\n",
            "  dist: False\n",
            "  rank: 0\n",
            "  world_size: 1\n",
            "  auto_resume: False\n",
            "  is_train: True\n",
            "  root_path: /content/drive/MyDrive/HAT\n",
            "\n",
            "2023-05-05 01:43:04.451860: I tensorflow/core/platform/cpu_feature_guard.cc:182] This TensorFlow binary is optimized to use available CPU instructions in performance-critical operations.\n",
            "To enable the following instructions: AVX2 FMA, in other operations, rebuild TensorFlow with the appropriate compiler flags.\n",
            "2023-05-05 01:43:05.848286: W tensorflow/compiler/tf2tensorrt/utils/py_utils.cc:38] TF-TRT Warning: Could not find TensorRT\n",
            "2023-05-05 01:43:07,617 INFO: Dataset [ImageNetPairedDataset] - ImageNet is built.\n",
            "/usr/local/lib/python3.10/dist-packages/torch/utils/data/dataloader.py:561: UserWarning: This DataLoader will create 6 worker processes in total. Our suggested max number of worker in current system is 2, which is smaller than what this DataLoader is going to create. Please be aware that excessive worker creation might get DataLoader running slow or even freeze, lower the worker number to avoid potential slowness/freeze if necessary.\n",
            "  warnings.warn(_create_warning_msg(\n",
            "2023-05-05 01:43:07,619 INFO: Training statistics:\n",
            "\tNumber of train images: 2518\n",
            "\tDataset enlarge ratio: 1\n",
            "\tBatch size per gpu: 2\n",
            "\tWorld size (gpu number): 1\n",
            "\tRequire iter number per epoch: 1259\n",
            "\tTotal epochs: 3; iters: 3777.\n",
            "2023-05-05 01:43:08,946 INFO: Dataset [PairedImageDataset] - Set5 is built.\n",
            "2023-05-05 01:43:08,947 INFO: Number of val images/folders in Set5: 10\n",
            "/usr/local/lib/python3.10/dist-packages/torch/functional.py:504: UserWarning: torch.meshgrid: in an upcoming release, it will be required to pass the indexing argument. (Triggered internally at ../aten/src/ATen/native/TensorShape.cpp:3483.)\n",
            "  return _VF.meshgrid(tensors, **kwargs)  # type: ignore[attr-defined]\n",
            "2023-05-05 01:43:09,741 INFO: Network [HAT] is created.\n",
            "2023-05-05 01:43:10,130 INFO: Network: HAT, with parameters: 40,698,863\n",
            "2023-05-05 01:43:10,131 INFO: HAT(\n",
            "  (conv_first): Conv2d(3, 180, kernel_size=(3, 3), stride=(1, 1), padding=(1, 1))\n",
            "  (patch_embed): PatchEmbed(\n",
            "    (norm): LayerNorm((180,), eps=1e-05, elementwise_affine=True)\n",
            "  )\n",
            "  (patch_unembed): PatchUnEmbed()\n",
            "  (pos_drop): Dropout(p=0.0, inplace=False)\n",
            "  (layers): ModuleList(\n",
            "    (0): RHAG(\n",
            "      (residual_group): AttenBlocks(\n",
            "        (blocks): ModuleList(\n",
            "          (0): HAB(\n",
            "            (norm1): LayerNorm((180,), eps=1e-05, elementwise_affine=True)\n",
            "            (attn): WindowAttention(\n",
            "              (qkv): Linear(in_features=180, out_features=540, bias=True)\n",
            "              (attn_drop): Dropout(p=0.0, inplace=False)\n",
            "              (proj): Linear(in_features=180, out_features=180, bias=True)\n",
            "              (proj_drop): Dropout(p=0.0, inplace=False)\n",
            "              (softmax): Softmax(dim=-1)\n",
            "            )\n",
            "            (conv_block): CAB(\n",
            "              (cab): Sequential(\n",
            "                (0): Conv2d(180, 60, kernel_size=(3, 3), stride=(1, 1), padding=(1, 1))\n",
            "                (1): GELU(approximate='none')\n",
            "                (2): Conv2d(60, 180, kernel_size=(3, 3), stride=(1, 1), padding=(1, 1))\n",
            "                (3): ChannelAttention(\n",
            "                  (attention): Sequential(\n",
            "                    (0): AdaptiveAvgPool2d(output_size=1)\n",
            "                    (1): Conv2d(180, 6, kernel_size=(1, 1), stride=(1, 1))\n",
            "                    (2): ReLU(inplace=True)\n",
            "                    (3): Conv2d(6, 180, kernel_size=(1, 1), stride=(1, 1))\n",
            "                    (4): Sigmoid()\n",
            "                  )\n",
            "                )\n",
            "              )\n",
            "            )\n",
            "            (drop_path): Identity()\n",
            "            (norm2): LayerNorm((180,), eps=1e-05, elementwise_affine=True)\n",
            "            (mlp): Mlp(\n",
            "              (fc1): Linear(in_features=180, out_features=360, bias=True)\n",
            "              (act): GELU(approximate='none')\n",
            "              (fc2): Linear(in_features=360, out_features=180, bias=True)\n",
            "              (drop): Dropout(p=0.0, inplace=False)\n",
            "            )\n",
            "          )\n",
            "          (1-5): 5 x HAB(\n",
            "            (norm1): LayerNorm((180,), eps=1e-05, elementwise_affine=True)\n",
            "            (attn): WindowAttention(\n",
            "              (qkv): Linear(in_features=180, out_features=540, bias=True)\n",
            "              (attn_drop): Dropout(p=0.0, inplace=False)\n",
            "              (proj): Linear(in_features=180, out_features=180, bias=True)\n",
            "              (proj_drop): Dropout(p=0.0, inplace=False)\n",
            "              (softmax): Softmax(dim=-1)\n",
            "            )\n",
            "            (conv_block): CAB(\n",
            "              (cab): Sequential(\n",
            "                (0): Conv2d(180, 60, kernel_size=(3, 3), stride=(1, 1), padding=(1, 1))\n",
            "                (1): GELU(approximate='none')\n",
            "                (2): Conv2d(60, 180, kernel_size=(3, 3), stride=(1, 1), padding=(1, 1))\n",
            "                (3): ChannelAttention(\n",
            "                  (attention): Sequential(\n",
            "                    (0): AdaptiveAvgPool2d(output_size=1)\n",
            "                    (1): Conv2d(180, 6, kernel_size=(1, 1), stride=(1, 1))\n",
            "                    (2): ReLU(inplace=True)\n",
            "                    (3): Conv2d(6, 180, kernel_size=(1, 1), stride=(1, 1))\n",
            "                    (4): Sigmoid()\n",
            "                  )\n",
            "                )\n",
            "              )\n",
            "            )\n",
            "            (drop_path): DropPath()\n",
            "            (norm2): LayerNorm((180,), eps=1e-05, elementwise_affine=True)\n",
            "            (mlp): Mlp(\n",
            "              (fc1): Linear(in_features=180, out_features=360, bias=True)\n",
            "              (act): GELU(approximate='none')\n",
            "              (fc2): Linear(in_features=360, out_features=180, bias=True)\n",
            "              (drop): Dropout(p=0.0, inplace=False)\n",
            "            )\n",
            "          )\n",
            "        )\n",
            "        (overlap_attn): OCAB(\n",
            "          (norm1): LayerNorm((180,), eps=1e-05, elementwise_affine=True)\n",
            "          (qkv): Linear(in_features=180, out_features=540, bias=True)\n",
            "          (unfold): Unfold(kernel_size=(24, 24), dilation=1, padding=4, stride=16)\n",
            "          (softmax): Softmax(dim=-1)\n",
            "          (proj): Linear(in_features=180, out_features=180, bias=True)\n",
            "          (norm2): LayerNorm((180,), eps=1e-05, elementwise_affine=True)\n",
            "          (mlp): Mlp(\n",
            "            (fc1): Linear(in_features=180, out_features=360, bias=True)\n",
            "            (act): GELU(approximate='none')\n",
            "            (fc2): Linear(in_features=360, out_features=180, bias=True)\n",
            "            (drop): Dropout(p=0.0, inplace=False)\n",
            "          )\n",
            "        )\n",
            "      )\n",
            "      (conv): Conv2d(180, 180, kernel_size=(3, 3), stride=(1, 1), padding=(1, 1))\n",
            "      (patch_embed): PatchEmbed()\n",
            "      (patch_unembed): PatchUnEmbed()\n",
            "    )\n",
            "    (1-11): 11 x RHAG(\n",
            "      (residual_group): AttenBlocks(\n",
            "        (blocks): ModuleList(\n",
            "          (0-5): 6 x HAB(\n",
            "            (norm1): LayerNorm((180,), eps=1e-05, elementwise_affine=True)\n",
            "            (attn): WindowAttention(\n",
            "              (qkv): Linear(in_features=180, out_features=540, bias=True)\n",
            "              (attn_drop): Dropout(p=0.0, inplace=False)\n",
            "              (proj): Linear(in_features=180, out_features=180, bias=True)\n",
            "              (proj_drop): Dropout(p=0.0, inplace=False)\n",
            "              (softmax): Softmax(dim=-1)\n",
            "            )\n",
            "            (conv_block): CAB(\n",
            "              (cab): Sequential(\n",
            "                (0): Conv2d(180, 60, kernel_size=(3, 3), stride=(1, 1), padding=(1, 1))\n",
            "                (1): GELU(approximate='none')\n",
            "                (2): Conv2d(60, 180, kernel_size=(3, 3), stride=(1, 1), padding=(1, 1))\n",
            "                (3): ChannelAttention(\n",
            "                  (attention): Sequential(\n",
            "                    (0): AdaptiveAvgPool2d(output_size=1)\n",
            "                    (1): Conv2d(180, 6, kernel_size=(1, 1), stride=(1, 1))\n",
            "                    (2): ReLU(inplace=True)\n",
            "                    (3): Conv2d(6, 180, kernel_size=(1, 1), stride=(1, 1))\n",
            "                    (4): Sigmoid()\n",
            "                  )\n",
            "                )\n",
            "              )\n",
            "            )\n",
            "            (drop_path): DropPath()\n",
            "            (norm2): LayerNorm((180,), eps=1e-05, elementwise_affine=True)\n",
            "            (mlp): Mlp(\n",
            "              (fc1): Linear(in_features=180, out_features=360, bias=True)\n",
            "              (act): GELU(approximate='none')\n",
            "              (fc2): Linear(in_features=360, out_features=180, bias=True)\n",
            "              (drop): Dropout(p=0.0, inplace=False)\n",
            "            )\n",
            "          )\n",
            "        )\n",
            "        (overlap_attn): OCAB(\n",
            "          (norm1): LayerNorm((180,), eps=1e-05, elementwise_affine=True)\n",
            "          (qkv): Linear(in_features=180, out_features=540, bias=True)\n",
            "          (unfold): Unfold(kernel_size=(24, 24), dilation=1, padding=4, stride=16)\n",
            "          (softmax): Softmax(dim=-1)\n",
            "          (proj): Linear(in_features=180, out_features=180, bias=True)\n",
            "          (norm2): LayerNorm((180,), eps=1e-05, elementwise_affine=True)\n",
            "          (mlp): Mlp(\n",
            "            (fc1): Linear(in_features=180, out_features=360, bias=True)\n",
            "            (act): GELU(approximate='none')\n",
            "            (fc2): Linear(in_features=360, out_features=180, bias=True)\n",
            "            (drop): Dropout(p=0.0, inplace=False)\n",
            "          )\n",
            "        )\n",
            "      )\n",
            "      (conv): Conv2d(180, 180, kernel_size=(3, 3), stride=(1, 1), padding=(1, 1))\n",
            "      (patch_embed): PatchEmbed()\n",
            "      (patch_unembed): PatchUnEmbed()\n",
            "    )\n",
            "  )\n",
            "  (norm): LayerNorm((180,), eps=1e-05, elementwise_affine=True)\n",
            "  (conv_after_body): Conv2d(180, 180, kernel_size=(3, 3), stride=(1, 1), padding=(1, 1))\n",
            "  (conv_before_upsample): Sequential(\n",
            "    (0): Conv2d(180, 64, kernel_size=(3, 3), stride=(1, 1), padding=(1, 1))\n",
            "    (1): LeakyReLU(negative_slope=0.01, inplace=True)\n",
            "  )\n",
            "  (upsample): Upsample(\n",
            "    (0): Conv2d(64, 256, kernel_size=(3, 3), stride=(1, 1), padding=(1, 1))\n",
            "    (1): PixelShuffle(upscale_factor=2)\n",
            "  )\n",
            "  (conv_last): Conv2d(64, 3, kernel_size=(3, 3), stride=(1, 1), padding=(1, 1))\n",
            ")\n",
            "2023-05-05 01:43:10,137 INFO: Use Exponential Moving Average with decay: 0.999\n",
            "2023-05-05 01:43:10,954 INFO: Network [HAT] is created.\n",
            "2023-05-05 01:43:11,158 INFO: Loss [L1Loss] is created.\n",
            "2023-05-05 01:43:11,165 INFO: Model [HATModel] is created.\n",
            "2023-05-05 01:43:11,263 INFO: Start training from epoch: 0, iter: 0\n",
            "2023-05-05 01:46:09,476 INFO: [train..][epoch:  0, iter:     100, lr:(2.000e-04,)] [eta: 1:38:50, time (data): 1.782 (0.104)] l_pix: 2.5064e-01 \n",
            "2023-05-05 01:49:00,419 INFO: [train..][epoch:  0, iter:     200, lr:(2.000e-04,)] [eta: 1:39:00, time (data): 1.746 (0.053)] l_pix: 2.4500e-01 \n",
            "2023-05-05 01:51:51,525 INFO: [train..][epoch:  0, iter:     300, lr:(2.000e-04,)] [eta: 1:37:11, time (data): 1.711 (0.003)] l_pix: 1.0936e-01 \n",
            "2023-05-05 01:54:42,335 INFO: [train..][epoch:  0, iter:     400, lr:(2.000e-04,)] [eta: 1:34:49, time (data): 1.710 (0.003)] l_pix: 1.6500e-01 \n",
            "2023-05-05 01:57:32,896 INFO: [train..][epoch:  0, iter:     500, lr:(2.000e-04,)] [eta: 1:32:14, time (data): 1.706 (0.002)] l_pix: 6.5682e-02 \n",
            "2023-05-05 02:00:23,592 INFO: [train..][epoch:  0, iter:     600, lr:(2.000e-04,)] [eta: 1:29:34, time (data): 1.706 (0.002)] l_pix: 1.3529e-01 \n",
            "2023-05-05 02:03:14,254 INFO: [train..][epoch:  0, iter:     700, lr:(2.000e-04,)] [eta: 1:26:51, time (data): 1.706 (0.003)] l_pix: 6.9178e-02 \n",
            "2023-05-05 02:06:06,842 INFO: [train..][epoch:  0, iter:     800, lr:(2.000e-04,)] [eta: 1:24:14, time (data): 1.716 (0.003)] l_pix: 2.1711e-02 \n",
            "2023-05-05 02:08:55,682 INFO: [train..][epoch:  0, iter:     900, lr:(2.000e-04,)] [eta: 1:21:21, time (data): 1.689 (0.003)] l_pix: 1.8083e-01 \n",
            "2023-05-05 02:11:44,715 INFO: [train..][epoch:  0, iter:   1,000, lr:(2.000e-04,)] [eta: 1:18:29, time (data): 1.690 (0.003)] l_pix: 1.3905e-01 \n",
            "2023-05-05 02:14:34,238 INFO: [train..][epoch:  0, iter:   1,100, lr:(2.000e-04,)] [eta: 1:15:39, time (data): 1.695 (0.003)] l_pix: 9.5625e-02 \n",
            "2023-05-05 02:17:22,089 INFO: [train..][epoch:  0, iter:   1,200, lr:(2.000e-04,)] [eta: 1:12:46, time (data): 1.687 (0.003)] l_pix: 1.0485e-01 \n",
            "2023-05-05 02:20:10,886 INFO: [train..][epoch:  1, iter:   1,300, lr:(2.000e-04,)] [eta: 1:09:55, time (data): 1.689 (0.011)] l_pix: 3.7752e-02 \n",
            "2023-05-05 02:22:59,116 INFO: [train..][epoch:  1, iter:   1,400, lr:(2.000e-04,)] [eta: 1:07:03, time (data): 1.685 (0.007)] l_pix: 3.8684e-02 \n",
            "2023-05-05 02:25:47,380 INFO: [train..][epoch:  1, iter:   1,500, lr:(2.000e-04,)] [eta: 1:04:12, time (data): 1.683 (0.004)] l_pix: 2.9876e-02 \n",
            "2023-05-05 02:28:36,000 INFO: [train..][epoch:  1, iter:   1,600, lr:(2.000e-04,)] [eta: 1:01:22, time (data): 1.685 (0.004)] l_pix: 1.0836e-01 \n",
            "2023-05-05 02:31:24,208 INFO: [train..][epoch:  1, iter:   1,700, lr:(2.000e-04,)] [eta: 0:58:32, time (data): 1.682 (0.004)] l_pix: 9.4463e-02 \n",
            "2023-05-05 02:34:12,424 INFO: [train..][epoch:  1, iter:   1,800, lr:(2.000e-04,)] [eta: 0:55:41, time (data): 1.682 (0.003)] l_pix: 1.1722e-01 \n",
            "2023-05-05 02:37:00,663 INFO: [train..][epoch:  1, iter:   1,900, lr:(2.000e-04,)] [eta: 0:52:51, time (data): 1.682 (0.003)] l_pix: 9.6053e-03 \n",
            "2023-05-05 02:39:49,396 INFO: [train..][epoch:  1, iter:   2,000, lr:(2.000e-04,)] [eta: 0:50:02, time (data): 1.685 (0.003)] l_pix: 1.9614e-01 \n",
            "2023-05-05 02:42:38,098 INFO: [train..][epoch:  1, iter:   2,100, lr:(2.000e-04,)] [eta: 0:47:13, time (data): 1.687 (0.003)] l_pix: 1.4972e-02 \n",
            "2023-05-05 02:45:28,088 INFO: [train..][epoch:  1, iter:   2,200, lr:(2.000e-04,)] [eta: 0:44:24, time (data): 1.694 (0.003)] l_pix: 1.6837e-01 \n",
            "2023-05-05 02:48:19,342 INFO: [train..][epoch:  1, iter:   2,300, lr:(2.000e-04,)] [eta: 0:41:37, time (data): 1.713 (0.003)] l_pix: 3.0128e-02 \n",
            "2023-05-05 02:51:10,860 INFO: [train..][epoch:  1, iter:   2,400, lr:(2.000e-04,)] [eta: 0:38:49, time (data): 1.714 (0.003)] l_pix: 2.2650e-02 \n",
            "2023-05-05 02:54:02,206 INFO: [train..][epoch:  1, iter:   2,500, lr:(2.000e-04,)] [eta: 0:36:01, time (data): 1.714 (0.003)] l_pix: 9.4973e-02 \n",
            "2023-05-05 02:56:54,881 INFO: [train..][epoch:  2, iter:   2,600, lr:(2.000e-04,)] [eta: 0:33:13, time (data): 1.721 (0.008)] l_pix: 3.9660e-03 \n",
            "2023-05-05 02:59:45,933 INFO: [train..][epoch:  2, iter:   2,700, lr:(2.000e-04,)] [eta: 0:30:24, time (data): 1.711 (0.003)] l_pix: 1.0006e-01 \n",
            "2023-05-05 03:02:37,215 INFO: [train..][epoch:  2, iter:   2,800, lr:(2.000e-04,)] [eta: 0:27:35, time (data): 1.712 (0.003)] l_pix: 8.0859e-02 \n",
            "2023-05-05 03:05:28,243 INFO: [train..][epoch:  2, iter:   2,900, lr:(2.000e-04,)] [eta: 0:24:46, time (data): 1.710 (0.003)] l_pix: 1.7680e-02 \n",
            "2023-05-05 03:08:17,914 INFO: [train..][epoch:  2, iter:   3,000, lr:(2.000e-04,)] [eta: 0:21:56, time (data): 1.703 (0.004)] l_pix: 5.1510e-02 \n",
            "2023-05-05 03:11:06,454 INFO: [train..][epoch:  2, iter:   3,100, lr:(2.000e-04,)] [eta: 0:19:06, time (data): 1.685 (0.003)] l_pix: 7.4716e-02 \n",
            "2023-05-05 03:13:55,122 INFO: [train..][epoch:  2, iter:   3,200, lr:(2.000e-04,)] [eta: 0:16:16, time (data): 1.686 (0.003)] l_pix: 1.9945e-01 \n",
            "2023-05-05 03:16:43,627 INFO: [train..][epoch:  2, iter:   3,300, lr:(2.000e-04,)] [eta: 0:13:27, time (data): 1.686 (0.003)] l_pix: 1.2652e-01 \n",
            "2023-05-05 03:19:31,989 INFO: [train..][epoch:  2, iter:   3,400, lr:(2.000e-04,)] [eta: 0:10:37, time (data): 1.685 (0.003)] l_pix: 9.1171e-02 \n",
            "2023-05-05 03:25:08,182 INFO: [train..][epoch:  2, iter:   3,600, lr:(2.000e-04,)] [eta: 0:04:58, time (data): 1.681 (0.003)] l_pix: 2.3648e-02 \n",
            "2023-05-05 03:27:56,813 INFO: [train..][epoch:  2, iter:   3,700, lr:(2.000e-04,)] [eta: 0:02:08, time (data): 1.687 (0.003)] l_pix: 1.0915e-01 \n",
            "2023-05-05 03:30:07,144 INFO: End of training. Time consumed: 1:46:55\n",
            "2023-05-05 03:30:07,147 INFO: Save the latest model.\n",
            "2023-05-05 03:34:11,898 INFO: Validation Set5\n",
            "\t # psnr: 28.0175\tBest: 28.0175 @ 3778 iter\n",
            "\t # ssim: 0.8435\tBest: 0.8435 @ 3778 iter\n",
            "\n"
          ]
        }
      ]
    },
    {
      "cell_type": "code",
      "source": [
        "cd GTmod2"
      ],
      "metadata": {
        "colab": {
          "base_uri": "https://localhost:8080/"
        },
        "id": "8LgT9sbgHcdp",
        "outputId": "4c9e9474-e1ca-4624-8106-0ad33b973787"
      },
      "execution_count": null,
      "outputs": [
        {
          "output_type": "stream",
          "name": "stdout",
          "text": [
            "/content/drive/MyDrive/HAT/datasets/GTmod2\n"
          ]
        }
      ]
    },
    {
      "cell_type": "code",
      "source": [
        "#create directories for testing\n",
        "os.makedirs('test1', exist_ok=True)"
      ],
      "metadata": {
        "id": "97onHCfNHK1R"
      },
      "execution_count": null,
      "outputs": []
    },
    {
      "cell_type": "code",
      "source": [
        "os.listdir()"
      ],
      "metadata": {
        "colab": {
          "base_uri": "https://localhost:8080/"
        },
        "id": "U8HeySDfH3db",
        "outputId": "906d9d6c-01d7-4020-8ef0-9784ca68bfa0"
      },
      "execution_count": null,
      "outputs": [
        {
          "output_type": "execute_result",
          "data": {
            "text/plain": [
              "['train', 'val', 'test', 'train_sub', 'test1']"
            ]
          },
          "metadata": {},
          "execution_count": 28
        }
      ]
    },
    {
      "cell_type": "code",
      "source": [
        "os.chdir('/content/drive/MyDrive/HAT/datasets/LRbicx2')"
      ],
      "metadata": {
        "id": "2UWgKmfXIA8D"
      },
      "execution_count": null,
      "outputs": []
    },
    {
      "cell_type": "code",
      "source": [
        "#create directories for testing\n",
        "os.makedirs('test1', exist_ok=True)"
      ],
      "metadata": {
        "id": "0bDcQmTOH-zP"
      },
      "execution_count": null,
      "outputs": []
    },
    {
      "cell_type": "code",
      "source": [
        "os.listdir()"
      ],
      "metadata": {
        "colab": {
          "base_uri": "https://localhost:8080/"
        },
        "id": "zd8UGUoXIUWB",
        "outputId": "06b98012-8550-408f-eb6f-7a3e815d5b3d"
      },
      "execution_count": null,
      "outputs": [
        {
          "output_type": "execute_result",
          "data": {
            "text/plain": [
              "['train', 'val', 'test', 'train_sub', 'test1']"
            ]
          },
          "metadata": {},
          "execution_count": 32
        }
      ]
    },
    {
      "cell_type": "code",
      "source": [
        "# go back to HAT\n",
        "os.chdir('/content/drive/MyDrive/HAT')"
      ],
      "metadata": {
        "id": "AGZ4prFhJC9o"
      },
      "execution_count": null,
      "outputs": []
    },
    {
      "cell_type": "code",
      "source": [
        "#copy GT & LR images into new directories\n",
        "\n",
        "src_img_GT= ('/content/drive/MyDrive/HAT/datasets/GTmod2/test/00007.png')\n",
        "new_dir_GT=('/content/drive/MyDrive/HAT/datasets/GTmod2/test1/')\n"
      ],
      "metadata": {
        "id": "F-QMjr-tIWe3"
      },
      "execution_count": null,
      "outputs": []
    },
    {
      "cell_type": "code",
      "source": [
        "#test\n",
        "\n",
        "!python /content/drive/MyDrive/HAT/hat/test.py -opt /content/drive/MyDrive/HAT/experiments/train_HAT-L_SRx2_ImageNet_from_scratch/train_HAT-L_SRx2_ImageNet_from_scratch.yml"
      ],
      "metadata": {
        "colab": {
          "base_uri": "https://localhost:8080/"
        },
        "id": "OxneeWN6BzNJ",
        "outputId": "95a91e18-758c-4274-e235-d3982760484a"
      },
      "execution_count": null,
      "outputs": [
        {
          "output_type": "stream",
          "name": "stdout",
          "text": [
            "python3: can't open file '/content/drive/MyDrive/HAT/hat/test.py': [Errno 2] No such file or directory\n"
          ]
        }
      ]
    },
    {
      "cell_type": "markdown",
      "source": [
        "## Models evaluation\n",
        "\n",
        "To evaluate the performance of a super-resolution (SR) model, several quantitative and qualitative metrics being used. Here are some common metrics used for evaluating SR models:\n",
        "\n",
        " * Peak Signal-to-Noise Ratio **(PSNR)**: **PSNR** is a widely used metric for image quality assessment. It measures the difference between the original high-resolution (HR) image and the super-resolved image in terms of the mean squared error (MSE). A higher PSNR value indicates better image quality.\n",
        "\n",
        " * Structural Similarity Index Measure (**SSIM**) :  **SSIM** is a perception-based metric that considers image degradation as perceived change in structural information. It measures the similarity between the original HR image and the super-resolved image, taking into account luminance, contrast, and structure. SSIM values range from -1 to 1, with higher values indicating better similarity.\n",
        "\n",
        " * Mean Squared Error (**MSE**): **MSE** measures the average squared difference between the pixel intensities of the original HR image and the super-resolved image. Lower MSE values indicate better performance.\n",
        "\n",
        " * Mean Absolute Error (**MAE**): **MAE** measures the average absolute difference between the pixel intensities of the original HR image and the super-resolved image. Lower MAE values indicate better performance.\n",
        "\n",
        " * Normalized Root Mean Squared Error (**NRMSE**): **NRMSE** is a variant of MSE that normalizes the squared error by dividing it by the range of possible pixel values. Lower NRMSE values indicate better performance.\n",
        "\n",
        "**Note** : [Current leaderboard](https://paperswithcode.com/task/image-super-resolution) 📈 is evaluated on PSNR and SSIM"
      ],
      "metadata": {
        "id": "iw43eThnpumN"
      }
    },
    {
      "cell_type": "markdown",
      "source": [
        "# Other Super Resolution Models\n",
        "\n",
        "[Leaderboard](https://paperswithcode.com/task/image-super-resolution) for Image Super-Resolution on Set5 - 2x upscaling shows the models with the highest PSNR (Peak Signal-to-Noise Ratio) for this task. The current top-ranked model is CAR (Learned Downsampling) with a PSNR of 38.94\n",
        "\n",
        "[CAR Paper](https://arxiv.org/pdf/1907.12904v2.pdf)\n",
        "\n",
        "[CAR Git](https://github.com/sunwj/CAR)"
      ],
      "metadata": {
        "id": "q1PzntagUiYp"
      }
    }
  ]
}