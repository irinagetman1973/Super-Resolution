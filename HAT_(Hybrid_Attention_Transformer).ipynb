{
  "nbformat": 4,
  "nbformat_minor": 0,
  "metadata": {
    "colab": {
      "provenance": [],
      "authorship_tag": "ABX9TyN6UjcKvSRFD+K0x//BtSyf",
      "include_colab_link": true
    },
    "kernelspec": {
      "name": "python3",
      "display_name": "Python 3"
    },
    "language_info": {
      "name": "python"
    },
    "gpuClass": "standard",
    "accelerator": "GPU"
  },
  "cells": [
    {
      "cell_type": "markdown",
      "metadata": {
        "id": "view-in-github",
        "colab_type": "text"
      },
      "source": [
        "<a href=\"https://colab.research.google.com/github/irinagetman1973/Super-Resolution/blob/main/HAT_(Hybrid_Attention_Transformer).ipynb\" target=\"_parent\"><img src=\"https://colab.research.google.com/assets/colab-badge.svg\" alt=\"Open In Colab\"/></a>"
      ]
    },
    {
      "cell_type": "code",
      "execution_count": null,
      "metadata": {
        "colab": {
          "base_uri": "https://localhost:8080/"
        },
        "id": "tYXxjY2F8Zcc",
        "outputId": "b8a85054-3f8c-4f22-eb4a-f74553be99fe"
      },
      "outputs": [
        {
          "output_type": "stream",
          "name": "stdout",
          "text": [
            "Mounted at /content/drive\n"
          ]
        }
      ],
      "source": [
        "# Run this block to mount google drive\n",
        "from google.colab import drive\n",
        "drive.mount('/content/drive')"
      ]
    },
    {
      "cell_type": "code",
      "source": [
        "#install dependencies\n",
        "!pip install basicsr==1.3.4.9"
      ],
      "metadata": {
        "id": "QFpWTFT79F2P"
      },
      "execution_count": null,
      "outputs": []
    },
    {
      "cell_type": "code",
      "source": [
        "!pip install -U torch torchvision "
      ],
      "metadata": {
        "id": "CjyPGS0ocp3l"
      },
      "execution_count": null,
      "outputs": []
    },
    {
      "cell_type": "code",
      "source": [
        "import os\n",
        "import shutil\n",
        "import matplotlib.pyplot as plt\n",
        "from PIL import Image\n",
        "import numpy as np\n",
        "from random import shuffle\n",
        "import cv2"
      ],
      "metadata": {
        "id": "GFn0ntb8AGad"
      },
      "execution_count": null,
      "outputs": []
    },
    {
      "cell_type": "markdown",
      "source": [
        "###Create LR & HR folders in datasets folder "
      ],
      "metadata": {
        "id": "wRPpVzmQ_E7i"
      }
    },
    {
      "cell_type": "code",
      "source": [
        "#change working directory\n",
        "os.chdir('/content/drive/MyDrive/HAT')\n",
        "os.getcwd()"
      ],
      "metadata": {
        "colab": {
          "base_uri": "https://localhost:8080/",
          "height": 36
        },
        "id": "H0zs2yei_KG_",
        "outputId": "361b18cc-a078-4e5a-8cf1-110e34707a60"
      },
      "execution_count": null,
      "outputs": [
        {
          "output_type": "execute_result",
          "data": {
            "text/plain": [
              "'/content/drive/MyDrive/HAT'"
            ],
            "application/vnd.google.colaboratory.intrinsic+json": {
              "type": "string"
            }
          },
          "metadata": {},
          "execution_count": 4
        }
      ]
    },
    {
      "cell_type": "code",
      "source": [
        "cd datasets"
      ],
      "metadata": {
        "colab": {
          "base_uri": "https://localhost:8080/"
        },
        "id": "4ZnaClGNDnH6",
        "outputId": "1d3e1001-d94f-4065-9898-b705a9448011"
      },
      "execution_count": null,
      "outputs": [
        {
          "output_type": "stream",
          "name": "stdout",
          "text": [
            "[Errno 2] No such file or directory: 'datasets'\n",
            "/content/drive/MyDrive/HAT/datasets\n"
          ]
        }
      ]
    },
    {
      "cell_type": "code",
      "source": [
        "\"\"\"\n",
        "GTmod2 folder for Ground Truth/High Resolution images\n",
        "    and LR is for Low Resolution images\n",
        "    for x2 resolution, GT images must be two times bigger in size\n",
        "    compare to LR ones. Filenames must be identical \n",
        "    as well as number of images in both folders\n",
        "\"\"\"\n",
        "os.makedirs('GTmod2', exist_ok=True)\n",
        "os.makedirs('LRbicx2', exist_ok=True)"
      ],
      "metadata": {
        "id": "Sns7BlpDDGQV"
      },
      "execution_count": null,
      "outputs": []
    },
    {
      "cell_type": "code",
      "source": [
        "# list existing directories \n",
        "os.listdir()"
      ],
      "metadata": {
        "colab": {
          "base_uri": "https://localhost:8080/"
        },
        "id": "76CAAPg_GJ3S",
        "outputId": "85921d9f-19fb-41fa-a983-c0f5aed40d92"
      },
      "execution_count": null,
      "outputs": [
        {
          "output_type": "execute_result",
          "data": {
            "text/plain": [
              "['README.md', 'GTmod2', 'LRbicx2']"
            ]
          },
          "metadata": {},
          "execution_count": 26
        }
      ]
    },
    {
      "cell_type": "code",
      "source": [
        "# go back to HAT\n",
        "os.chdir('/content/drive/MyDrive/HAT')"
      ],
      "metadata": {
        "id": "k-yn011fHSc5"
      },
      "execution_count": null,
      "outputs": []
    },
    {
      "cell_type": "code",
      "source": [
        "!python setup.py develop"
      ],
      "metadata": {
        "id": "GOSVPEsnHgKn",
        "colab": {
          "base_uri": "https://localhost:8080/"
        },
        "outputId": "7bb04f1b-ae23-4ea7-d711-fda7fd7fedaf"
      },
      "execution_count": null,
      "outputs": [
        {
          "output_type": "stream",
          "name": "stdout",
          "text": [
            "/usr/local/lib/python3.10/dist-packages/setuptools/__init__.py:84: _DeprecatedInstaller: setuptools.installer and fetch_build_eggs are deprecated.\n",
            "!!\n",
            "\n",
            "        ********************************************************************************\n",
            "        Requirements should be satisfied by a PEP 517 installer.\n",
            "        If you are using pip, you can try `pip install --use-pep517`.\n",
            "        ********************************************************************************\n",
            "\n",
            "!!\n",
            "  dist.fetch_build_eggs(dist.setup_requires)\n",
            "running develop\n",
            "/usr/local/lib/python3.10/dist-packages/setuptools/command/develop.py:40: EasyInstallDeprecationWarning: easy_install command is deprecated.\n",
            "!!\n",
            "\n",
            "        ********************************************************************************\n",
            "        Please avoid running ``setup.py`` and ``easy_install``.\n",
            "        Instead, use pypa/build, pypa/installer, pypa/build or\n",
            "        other standards-based tools.\n",
            "\n",
            "        See https://github.com/pypa/setuptools/issues/917 for details.\n",
            "        ********************************************************************************\n",
            "\n",
            "!!\n",
            "  easy_install.initialize_options(self)\n",
            "/usr/lib/python3.10/distutils/cmd.py:62: SetuptoolsDeprecationWarning: setup.py install is deprecated.\n",
            "!!\n",
            "\n",
            "        ********************************************************************************\n",
            "        Please avoid running ``setup.py`` directly.\n",
            "        Instead, use pypa/build, pypa/installer, pypa/build or\n",
            "        other standards-based tools.\n",
            "\n",
            "        See https://blog.ganssle.io/articles/2021/10/setup-py-deprecated.html for details.\n",
            "        ********************************************************************************\n",
            "\n",
            "!!\n",
            "  self.initialize_options()\n",
            "running egg_info\n",
            "writing hat.egg-info/PKG-INFO\n",
            "writing dependency_links to hat.egg-info/dependency_links.txt\n",
            "writing requirements to hat.egg-info/requires.txt\n",
            "writing top-level names to hat.egg-info/top_level.txt\n",
            "reading manifest file 'hat.egg-info/SOURCES.txt'\n",
            "adding license file 'LICENSE'\n",
            "writing manifest file 'hat.egg-info/SOURCES.txt'\n",
            "running build_ext\n",
            "Creating /usr/local/lib/python3.10/dist-packages/hat.egg-link (link to .)\n",
            "Adding hat 0.1.0 to easy-install.pth file\n",
            "\n",
            "Installed /content/drive/MyDrive/HAT\n",
            "Processing dependencies for hat==0.1.0\n",
            "Searching for einops\n",
            "Reading https://pypi.org/simple/einops/\n",
            "Downloading https://files.pythonhosted.org/packages/68/24/b05452c986e8eff11f47e123a40798ae693f2fa1ed2f9546094997d2f6be/einops-0.6.1-py3-none-any.whl#sha256=99149e46cc808956b174932fe563d920db4d6e5dadb8c6ecdaa7483b7ef7cfc3\n",
            "Best match: einops 0.6.1\n",
            "Processing einops-0.6.1-py3-none-any.whl\n",
            "Installing einops-0.6.1-py3-none-any.whl to /usr/local/lib/python3.10/dist-packages\n",
            "Adding einops 0.6.1 to easy-install.pth file\n",
            "\n",
            "Installed /usr/local/lib/python3.10/dist-packages/einops-0.6.1-py3.10.egg\n",
            "Searching for basicsr==1.3.4.9\n",
            "Best match: basicsr 1.3.4.9\n",
            "Adding basicsr 1.3.4.9 to easy-install.pth file\n",
            "\n",
            "Using /usr/local/lib/python3.10/dist-packages\n",
            "Searching for torch==2.0.0+cu118\n",
            "Best match: torch 2.0.0+cu118\n",
            "Adding torch 2.0.0+cu118 to easy-install.pth file\n",
            "Installing convert-caffe2-to-onnx script to /usr/local/bin\n",
            "Installing convert-onnx-to-caffe2 script to /usr/local/bin\n",
            "Installing torchrun script to /usr/local/bin\n",
            "\n",
            "Using /usr/local/lib/python3.10/dist-packages\n",
            "Searching for yapf==0.33.0\n",
            "Best match: yapf 0.33.0\n",
            "Adding yapf 0.33.0 to easy-install.pth file\n",
            "Installing yapf script to /usr/local/bin\n",
            "Installing yapf-diff script to /usr/local/bin\n",
            "\n",
            "Using /usr/local/lib/python3.10/dist-packages\n",
            "Searching for tqdm==4.65.0\n",
            "Best match: tqdm 4.65.0\n",
            "Adding tqdm 4.65.0 to easy-install.pth file\n",
            "Installing tqdm script to /usr/local/bin\n",
            "\n",
            "Using /usr/local/lib/python3.10/dist-packages\n",
            "Searching for torchvision==0.15.1+cu118\n",
            "Best match: torchvision 0.15.1+cu118\n",
            "Adding torchvision 0.15.1+cu118 to easy-install.pth file\n",
            "\n",
            "Using /usr/local/lib/python3.10/dist-packages\n",
            "Searching for tb-nightly==2.13.0a20230504\n",
            "Best match: tb-nightly 2.13.0a20230504\n",
            "Adding tb-nightly 2.13.0a20230504 to easy-install.pth file\n",
            "Installing tensorboard script to /usr/local/bin\n",
            "\n",
            "Using /usr/local/lib/python3.10/dist-packages\n",
            "Searching for scipy==1.10.1\n",
            "Best match: scipy 1.10.1\n",
            "Adding scipy 1.10.1 to easy-install.pth file\n",
            "\n",
            "Using /usr/local/lib/python3.10/dist-packages\n",
            "Searching for scikit-image==0.19.3\n",
            "Best match: scikit-image 0.19.3\n",
            "Adding scikit-image 0.19.3 to easy-install.pth file\n",
            "Installing skivi script to /usr/local/bin\n",
            "\n",
            "Using /usr/local/lib/python3.10/dist-packages\n",
            "Searching for requests==2.27.1\n",
            "Best match: requests 2.27.1\n",
            "Adding requests 2.27.1 to easy-install.pth file\n",
            "\n",
            "Using /usr/local/lib/python3.10/dist-packages\n",
            "Searching for PyYAML==6.0\n",
            "Best match: PyYAML 6.0\n",
            "Adding PyYAML 6.0 to easy-install.pth file\n",
            "\n",
            "Using /usr/local/lib/python3.10/dist-packages\n",
            "Searching for Pillow==8.4.0\n",
            "Best match: Pillow 8.4.0\n",
            "Adding Pillow 8.4.0 to easy-install.pth file\n",
            "\n",
            "Using /usr/local/lib/python3.10/dist-packages\n",
            "Searching for opencv-python==4.7.0.72\n",
            "Best match: opencv-python 4.7.0.72\n",
            "Adding opencv-python 4.7.0.72 to easy-install.pth file\n",
            "\n",
            "Using /usr/local/lib/python3.10/dist-packages\n",
            "Searching for numpy==1.22.4\n",
            "Best match: numpy 1.22.4\n",
            "Adding numpy 1.22.4 to easy-install.pth file\n",
            "Installing f2py script to /usr/local/bin\n",
            "Installing f2py3 script to /usr/local/bin\n",
            "Installing f2py3.10 script to /usr/local/bin\n",
            "\n",
            "Using /usr/local/lib/python3.10/dist-packages\n",
            "Searching for lmdb==1.4.1\n",
            "Best match: lmdb 1.4.1\n",
            "Adding lmdb 1.4.1 to easy-install.pth file\n",
            "\n",
            "Using /usr/local/lib/python3.10/dist-packages\n",
            "Searching for future==0.18.3\n",
            "Best match: future 0.18.3\n",
            "Adding future 0.18.3 to easy-install.pth file\n",
            "Installing futurize script to /usr/local/bin\n",
            "Installing pasteurize script to /usr/local/bin\n",
            "\n",
            "Using /usr/local/lib/python3.10/dist-packages\n",
            "Searching for addict==2.4.0\n",
            "Best match: addict 2.4.0\n",
            "Adding addict 2.4.0 to easy-install.pth file\n",
            "\n",
            "Using /usr/local/lib/python3.10/dist-packages\n",
            "Searching for triton==2.0.0\n",
            "Best match: triton 2.0.0\n",
            "Adding triton 2.0.0 to easy-install.pth file\n",
            "\n",
            "Using /usr/local/lib/python3.10/dist-packages\n",
            "Searching for Jinja2==3.1.2\n",
            "Best match: Jinja2 3.1.2\n",
            "Adding Jinja2 3.1.2 to easy-install.pth file\n",
            "\n",
            "Using /usr/local/lib/python3.10/dist-packages\n",
            "Searching for networkx==3.1\n",
            "Best match: networkx 3.1\n",
            "Adding networkx 3.1 to easy-install.pth file\n",
            "\n",
            "Using /usr/local/lib/python3.10/dist-packages\n",
            "Searching for sympy==1.11.1\n",
            "Best match: sympy 1.11.1\n",
            "Adding sympy 1.11.1 to easy-install.pth file\n",
            "Installing isympy script to /usr/local/bin\n",
            "\n",
            "Using /usr/local/lib/python3.10/dist-packages\n",
            "Searching for typing-extensions==4.5.0\n",
            "Best match: typing-extensions 4.5.0\n",
            "Adding typing-extensions 4.5.0 to easy-install.pth file\n",
            "\n",
            "Using /usr/local/lib/python3.10/dist-packages\n",
            "Searching for filelock==3.12.0\n",
            "Best match: filelock 3.12.0\n",
            "Adding filelock 3.12.0 to easy-install.pth file\n",
            "\n",
            "Using /usr/local/lib/python3.10/dist-packages\n",
            "Searching for tomli==2.0.1\n",
            "Best match: tomli 2.0.1\n",
            "Adding tomli 2.0.1 to easy-install.pth file\n",
            "\n",
            "Using /usr/local/lib/python3.10/dist-packages\n",
            "Searching for wheel==0.40.0\n",
            "Best match: wheel 0.40.0\n",
            "Adding wheel 0.40.0 to easy-install.pth file\n",
            "Installing wheel script to /usr/local/bin\n",
            "\n",
            "Using /usr/local/lib/python3.10/dist-packages\n",
            "Searching for Werkzeug==2.3.0\n",
            "Best match: Werkzeug 2.3.0\n",
            "Adding Werkzeug 2.3.0 to easy-install.pth file\n",
            "\n",
            "Using /usr/local/lib/python3.10/dist-packages\n",
            "Searching for tensorboard-data-server==0.7.0\n",
            "Best match: tensorboard-data-server 0.7.0\n",
            "Adding tensorboard-data-server 0.7.0 to easy-install.pth file\n",
            "\n",
            "Using /usr/local/lib/python3.10/dist-packages\n",
            "Searching for setuptools==67.7.2\n",
            "Best match: setuptools 67.7.2\n",
            "Adding setuptools 67.7.2 to easy-install.pth file\n",
            "\n",
            "Using /usr/local/lib/python3.10/dist-packages\n",
            "Searching for protobuf==3.20.3\n",
            "Best match: protobuf 3.20.3\n",
            "Adding protobuf 3.20.3 to easy-install.pth file\n",
            "\n",
            "Using /usr/local/lib/python3.10/dist-packages\n",
            "Searching for Markdown==3.4.3\n",
            "Best match: Markdown 3.4.3\n",
            "Adding Markdown 3.4.3 to easy-install.pth file\n",
            "Installing markdown_py script to /usr/local/bin\n",
            "\n",
            "Using /usr/local/lib/python3.10/dist-packages\n",
            "Searching for google-auth-oauthlib==1.0.0\n",
            "Best match: google-auth-oauthlib 1.0.0\n",
            "Adding google-auth-oauthlib 1.0.0 to easy-install.pth file\n",
            "Installing google-oauthlib-tool script to /usr/local/bin\n",
            "\n",
            "Using /usr/local/lib/python3.10/dist-packages\n",
            "Searching for google-auth==2.17.3\n",
            "Best match: google-auth 2.17.3\n",
            "Adding google-auth 2.17.3 to easy-install.pth file\n",
            "\n",
            "Using /usr/local/lib/python3.10/dist-packages\n",
            "Searching for grpcio==1.54.0\n",
            "Best match: grpcio 1.54.0\n",
            "Adding grpcio 1.54.0 to easy-install.pth file\n",
            "\n",
            "Using /usr/local/lib/python3.10/dist-packages\n",
            "Searching for absl-py==1.4.0\n",
            "Best match: absl-py 1.4.0\n",
            "Adding absl-py 1.4.0 to easy-install.pth file\n",
            "\n",
            "Using /usr/local/lib/python3.10/dist-packages\n",
            "Searching for packaging==23.1\n",
            "Best match: packaging 23.1\n",
            "Adding packaging 23.1 to easy-install.pth file\n",
            "\n",
            "Using /usr/local/lib/python3.10/dist-packages\n",
            "Searching for PyWavelets==1.4.1\n",
            "Best match: PyWavelets 1.4.1\n",
            "Adding PyWavelets 1.4.1 to easy-install.pth file\n",
            "\n",
            "Using /usr/local/lib/python3.10/dist-packages\n",
            "Searching for tifffile==2023.4.12\n",
            "Best match: tifffile 2023.4.12\n",
            "Adding tifffile 2023.4.12 to easy-install.pth file\n",
            "Installing lsm2bin script to /usr/local/bin\n",
            "Installing tiff2fsspec script to /usr/local/bin\n",
            "Installing tiffcomment script to /usr/local/bin\n",
            "Installing tifffile script to /usr/local/bin\n",
            "\n",
            "Using /usr/local/lib/python3.10/dist-packages\n",
            "Searching for imageio==2.25.1\n",
            "Best match: imageio 2.25.1\n",
            "Adding imageio 2.25.1 to easy-install.pth file\n",
            "Installing imageio_download_bin script to /usr/local/bin\n",
            "Installing imageio_remove_bin script to /usr/local/bin\n",
            "\n",
            "Using /usr/local/lib/python3.10/dist-packages\n",
            "Searching for idna==3.4\n",
            "Best match: idna 3.4\n",
            "Adding idna 3.4 to easy-install.pth file\n",
            "\n",
            "Using /usr/local/lib/python3.10/dist-packages\n",
            "Searching for charset-normalizer==2.0.12\n",
            "Best match: charset-normalizer 2.0.12\n",
            "Adding charset-normalizer 2.0.12 to easy-install.pth file\n",
            "Installing normalizer script to /usr/local/bin\n",
            "\n",
            "Using /usr/local/lib/python3.10/dist-packages\n",
            "Searching for certifi==2022.12.7\n",
            "Best match: certifi 2022.12.7\n",
            "Adding certifi 2022.12.7 to easy-install.pth file\n",
            "\n",
            "Using /usr/local/lib/python3.10/dist-packages\n",
            "Searching for urllib3==1.26.15\n",
            "Best match: urllib3 1.26.15\n",
            "Adding urllib3 1.26.15 to easy-install.pth file\n",
            "\n",
            "Using /usr/local/lib/python3.10/dist-packages\n",
            "Searching for lit==16.0.2\n",
            "Best match: lit 16.0.2\n",
            "Adding lit 16.0.2 to easy-install.pth file\n",
            "Installing lit script to /usr/local/bin\n",
            "\n",
            "Using /usr/local/lib/python3.10/dist-packages\n",
            "Searching for cmake==3.25.2\n",
            "Best match: cmake 3.25.2\n",
            "Adding cmake 3.25.2 to easy-install.pth file\n",
            "Installing cmake script to /usr/local/bin\n",
            "Installing cpack script to /usr/local/bin\n",
            "Installing ctest script to /usr/local/bin\n",
            "\n",
            "Using /usr/local/lib/python3.10/dist-packages\n",
            "Searching for MarkupSafe==2.1.2\n",
            "Best match: MarkupSafe 2.1.2\n",
            "Adding MarkupSafe 2.1.2 to easy-install.pth file\n",
            "\n",
            "Using /usr/local/lib/python3.10/dist-packages\n",
            "Searching for mpmath==1.3.0\n",
            "Best match: mpmath 1.3.0\n",
            "Adding mpmath 1.3.0 to easy-install.pth file\n",
            "\n",
            "Using /usr/local/lib/python3.10/dist-packages\n",
            "Searching for requests-oauthlib==1.3.1\n",
            "Best match: requests-oauthlib 1.3.1\n",
            "Adding requests-oauthlib 1.3.1 to easy-install.pth file\n",
            "\n",
            "Using /usr/local/lib/python3.10/dist-packages\n",
            "Searching for rsa==4.9\n",
            "Best match: rsa 4.9\n",
            "Adding rsa 4.9 to easy-install.pth file\n",
            "Installing pyrsa-decrypt script to /usr/local/bin\n",
            "Installing pyrsa-encrypt script to /usr/local/bin\n",
            "Installing pyrsa-keygen script to /usr/local/bin\n",
            "Installing pyrsa-priv2pub script to /usr/local/bin\n",
            "Installing pyrsa-sign script to /usr/local/bin\n",
            "Installing pyrsa-verify script to /usr/local/bin\n",
            "\n",
            "Using /usr/local/lib/python3.10/dist-packages\n",
            "Searching for six==1.16.0\n",
            "Best match: six 1.16.0\n",
            "Adding six 1.16.0 to easy-install.pth file\n",
            "\n",
            "Using /usr/local/lib/python3.10/dist-packages\n",
            "Searching for pyasn1-modules==0.3.0\n",
            "Best match: pyasn1-modules 0.3.0\n",
            "Adding pyasn1-modules 0.3.0 to easy-install.pth file\n",
            "\n",
            "Using /usr/local/lib/python3.10/dist-packages\n",
            "Searching for cachetools==5.3.0\n",
            "Best match: cachetools 5.3.0\n",
            "Adding cachetools 5.3.0 to easy-install.pth file\n",
            "\n",
            "Using /usr/local/lib/python3.10/dist-packages\n",
            "Searching for oauthlib==3.2.2\n",
            "Best match: oauthlib 3.2.2\n",
            "Adding oauthlib 3.2.2 to easy-install.pth file\n",
            "\n",
            "Using /usr/local/lib/python3.10/dist-packages\n",
            "Searching for pyasn1==0.5.0\n",
            "Best match: pyasn1 0.5.0\n",
            "Adding pyasn1 0.5.0 to easy-install.pth file\n",
            "\n",
            "Using /usr/local/lib/python3.10/dist-packages\n",
            "Finished processing dependencies for hat==0.1.0\n"
          ]
        }
      ]
    },
    {
      "cell_type": "markdown",
      "source": [
        "## Testing first images in Testing/train_HR and Testing/train_LR folders in MyDrive"
      ],
      "metadata": {
        "id": "RgFOoh-DLdnn"
      }
    },
    {
      "cell_type": "code",
      "source": [
        "#moving  images  to GT and LR directories\n",
        "\n",
        "#set the path to the source dir and destination dir for GT/HR images\n",
        "src_dir_GT='/content/drive/MyDrive/Testing/train_HR/'\n",
        "dst_dir_GT='/content/drive/MyDrive/HAT/datasets/GTmod2'\n",
        "\n",
        "\n",
        "# get a list of all the files in the source directory\n",
        "files = sorted(os.listdir(src_dir_GT))\n",
        "\n",
        "# use the first file in the list as the source file to copy\n",
        "src_file = os.path.join(src_dir_GT, files[0])\n",
        "\n",
        "# copy first image\n",
        "shutil.copy(src_file, dst_dir_GT)"
      ],
      "metadata": {
        "id": "e1CTb8GnIZIF"
      },
      "execution_count": null,
      "outputs": []
    },
    {
      "cell_type": "code",
      "source": [
        "#moving  images  to LR directories\n",
        "\n",
        "#set the path to the source dir and destination dir for GT/HR images\n",
        "src_dir_GT='/content/drive/MyDrive/Testing/train_LR/X4/'\n",
        "dst_dir_GT='/content/drive/MyDrive/HAT/datasets/LRbicx2'\n",
        "\n",
        "\n",
        "# get a list of all the files in the source directory\n",
        "files = sorted(os.listdir(src_dir_GT))\n",
        "\n",
        "# use the first file in the list as the source file to copy\n",
        "src_file = os.path.join(src_dir_GT, files[0])\n",
        "\n",
        "# copy first image\n",
        "shutil.copy(src_file, dst_dir_GT)"
      ],
      "metadata": {
        "id": "3VwrY3G6XVzL"
      },
      "execution_count": null,
      "outputs": []
    },
    {
      "cell_type": "code",
      "source": [
        "#test\n",
        "\n",
        "!python /content/drive/MyDrive/HAT/hat/test.py -opt options/test/HAT-L_SRx2_ImageNet-pretrain.yml"
      ],
      "metadata": {
        "id": "P8nYspw2Yhm3"
      },
      "execution_count": null,
      "outputs": []
    },
    {
      "cell_type": "code",
      "source": [
        "# display HAT SR image\n",
        "\n",
        "# Open the image\n",
        "img = Image.open(\"/content/drive/MyDrive/HAT/results/HAT-L_SRx2_ImageNet-pretrain/visualization/Set5/00001_HAT-L_SRx2_ImageNet-pretrain.png\")\n",
        "\n",
        "# Display the image using matplotlib\n",
        "plt.imshow(img)\n",
        "plt.show()"
      ],
      "metadata": {
        "colab": {
          "base_uri": "https://localhost:8080/",
          "height": 435
        },
        "id": "v4Ed5dD2dre7",
        "outputId": "3b0b32dc-4cee-458e-d1e6-a181ab9ec021"
      },
      "execution_count": null,
      "outputs": [
        {
          "output_type": "display_data",
          "data": {
            "text/plain": [
              "<Figure size 640x480 with 1 Axes>"
            ],
            "image/png": "[encoded data removed]"
          },
          "metadata": {}
        }
      ]
    },
    {
      "cell_type": "markdown",
      "source": [
        "## Comparing HAT image and LR image side by side"
      ],
      "metadata": {
        "id": "_eGvRl5keKRe"
      }
    },
    {
      "cell_type": "code",
      "source": [
        "# Merging images together\n",
        "\n",
        "# Open the first image\n",
        "img1 = Image.open(\"/content/drive/MyDrive/HAT/results/HAT-L_SRx2_ImageNet-pretrain/visualization/Set5/00001_HAT-L_SRx2_ImageNet-pretrain.png\")\n",
        "\n",
        "# Open the second image\n",
        "img2 = Image.open(\"/content/drive/MyDrive/HAT/datasets/LRbicx2/00001.png\")\n",
        "\n",
        "# Get the dimensions of the images\n",
        "width1, height1 = img1.size\n",
        "width2, height2 = img2.size\n",
        "\n",
        "# Create a new image with double the width of the original images\n",
        "new_img = Image.new('RGB', (width1 + width2, max(height1, height2)))\n",
        "\n",
        "# Paste the first image onto the left half of the new image\n",
        "new_img.paste(img1, (0, 0))\n",
        "\n",
        "# Paste the second image onto the right half of the new image\n",
        "new_img.paste(img2, (width1, 0))\n",
        "\n",
        "# Convert the PIL image to a numpy array\n",
        "new_img_arr = np.array(new_img)\n",
        "\n",
        "# Display the new image using matplotlib\n",
        "\n",
        "plt.imshow(new_img_arr)\n",
        "plt.show()\n",
        "\n"
      ],
      "metadata": {
        "colab": {
          "base_uri": "https://localhost:8080/",
          "height": 396
        },
        "id": "yqn6QZCTeJGo",
        "outputId": "8293ac2d-73f6-42dc-e191-160311221adf"
      },
      "execution_count": null,
      "outputs": [
        {
          "output_type": "display_data",
          "data": {
            "text/plain": [
              "<Figure size 640x480 with 1 Axes>"
            ],
            "image/png": "[encoded data removed]"
          },
          "metadata": {}
        }
      ]
    },
    {
      "cell_type": "markdown",
      "source": [
        "## Comparing GT image and HAt image"
      ],
      "metadata": {
        "id": "YIbKGIUifJYr"
      }
    },
    {
      "cell_type": "code",
      "source": [
        "\n",
        "# Open the first image\n",
        "img1 = Image.open(\"/content/drive/MyDrive/HAT/results/HAT-L_SRx2_ImageNet-pretrain/visualization/Set5/00001_HAT-L_SRx2_ImageNet-pretrain.png\")\n",
        "\n",
        "# Open the second image\n",
        "img2 = Image.open(\"/content/drive/MyDrive/HAT/datasets/GTmod2/00001.png\")\n",
        "\n",
        "# Get the dimensions of the images\n",
        "width1, height1 = img1.size\n",
        "width2, height2 = img2.size\n",
        "\n",
        "# Create a new image with double the width of the original images\n",
        "new_img = Image.new('RGB', (width1 + width2, max(height1, height2)))\n",
        "\n",
        "# Paste the first image onto the left half of the new image\n",
        "new_img.paste(img1, (0, 0))\n",
        "\n",
        "# Paste the second image onto the right half of the new image\n",
        "new_img.paste(img2, (width1, 0))\n",
        "\n",
        "# Convert the PIL image to a numpy array\n",
        "new_img_arr = np.array(new_img)\n",
        "\n",
        "# Display the new image using matplotlib\n",
        "\n",
        "plt.imshow(new_img_arr)\n",
        "plt.show()\n"
      ],
      "metadata": {
        "colab": {
          "base_uri": "https://localhost:8080/",
          "height": 314
        },
        "id": "-TVYxiDUfI8n",
        "outputId": "4065f82f-a109-428d-89c4-fd50146713f9"
      },
      "execution_count": null,
      "outputs": [
        {
          "output_type": "display_data",
          "data": {
            "text/plain": [
              "<Figure size 640x480 with 1 Axes>"
            ],
            "image/png": "[encoded data removed]"
          },
          "metadata": {}
        }
      ]
    },
    {
      "cell_type": "markdown",
      "source": [
        "## In order to train my model on custom images, I have to do following steps:\n",
        "\n",
        "\n",
        "\n",
        "\n",
        "\n",
        "1.   Empty GT and LR folders\n",
        "2.   Modify train .yml file\n",
        "\n",
        "1.   Copy images from Google drive testing/train folders into HAT datasets folders\n",
        "\n",
        "\n",
        "4.  According to HAT documenatation :  \" Crop to sub-images: DIV2K has 2K resolution (e.g., 2048 × 1080) images but the training patches are usually small (e.g., 128x128 or 192x192). So there is a waste if reading the whole image but only using a very small part of it. In order to accelerate the IO speed during training, we crop the 2K resolution images to sub-images (here, we crop to 480x480 sub-images).\n",
        "Note that the size of sub-images is different from the training patch size (gt_size) defined in the config file. Specifically, the cropped sub-images with 480x480 are stored. The dataloader will further randomly crop the sub-images to GT_size x GT_size patches for training.\"\n",
        "1.     run command\n",
        "\n",
        "```\n",
        "python scripts/data_preparation/extract_subimages.py\n",
        "\n",
        "```\n",
        "6.  Test the dataloader with the script\n",
        "\n",
        "```\n",
        "tests/test_paired_image_dataset.py # to be modified\n",
        "```\n",
        "\n",
        "\n",
        "\n",
        "\n",
        "\n",
        "\n",
        "\n",
        "\n",
        "\n"
      ],
      "metadata": {
        "id": "j8SEwX7gBLr5"
      }
    },
    {
      "cell_type": "code",
      "source": [
        "# remove images\n",
        "image_to_remove =\"/content/drive/MyDrive/HAT/datasets/LRbicx2/00001.png\"\n",
        "os.remove(image_to_remove)\n",
        "\n"
      ],
      "metadata": {
        "id": "cBPNGHrYNMnp"
      },
      "execution_count": null,
      "outputs": []
    },
    {
      "cell_type": "markdown",
      "source": [
        "## Developing a Super-Resolution Model Using the Hybrid Attention Transformer (HAT) Trained on a Custom Dataset\n",
        "\n",
        "Creating an image super-resolution model using the Hybrid Attention Transformer (HAT) architecture involves several steps, from dataset preparation to model training and evaluation. In this guide, we will walk you through the process of developing a HAT-based model for x2 upscaling tasks, focusing on training the model on a custom dataset.\n",
        "\n",
        "1. **Dataset Preparation**:\n",
        "\n",
        "To train a super-resolution model, you need a dataset containing pairs of high-resolution (HR) and low-resolution (LR) images. You can create your custom dataset by collecting high-quality images and generating their low-resolution counterparts using image processing libraries like OpenCV or PIL. Organize your dataset into separate directories for HR and LR images, further divided into training, validation, and test sets.\n",
        "\n",
        "2.   **Dataset Preprocessing**:\n",
        "\n",
        "Preprocess your dataset by applying data augmentation techniques like random cropping, horizontal flipping, and rotation. This will help improve the model's generalization and robustness. Also, normalize the pixel values to a range of [0, 1] or [-1, 1] to ensure better training convergence.\n",
        "\n",
        "\n",
        "\n",
        "\n",
        "\n",
        "\n",
        "\n",
        "3.  **Implementing the HAT Architecture**\n",
        "\n",
        "\n",
        "\n",
        "\n",
        "To implement the HAT architecture, you can either build it from scratch using deep learning frameworks like TensorFlow or PyTorch or use existing HAT implementations available on GitHub. Define the architecture and configure the model parameters, such as the number of layers, attention heads, and feature dimensions.\n",
        "\n",
        "4. **Loss Function and Optimizer**:\n",
        "\n",
        "Select a suitable loss function for the super-resolution task, such as the Mean Squared Error (MSE) loss or the Perceptual loss (a combination of content and adversarial losses). Choose an optimizer like Adam or RMSprop and set the learning rate and other hyperparameters for optimal training.\n",
        "\n",
        "5. **Training the Model**:\n",
        "\n",
        "Split your dataset into training and validation sets. Train the HAT model on the custom dataset using mini-batch gradient descent, periodically evaluating the model on the validation set to monitor the progress and prevent overfitting. You may also employ learning rate scheduling and early stopping techniques to improve training efficiency.\n",
        "\n",
        "6. **Model Evaluation and Fine-tuning**:\n",
        "\n",
        "After training the model, evaluate its performance on the test set by calculating metrics like PSNR (Peak Signal-to-Noise Ratio), SSIM (Structural Similarity Index), and visual quality assessment. Fine-tune the model by adjusting hyperparameters, loss function components, or training strategies to optimize its performance for x2 upscaling tasks.\n",
        "\n",
        "7. **Model Deployment**:\n",
        "\n",
        "Once you have achieved satisfactory performance, save the trained model and deploy it for real-world applications, such as image upscaling in photo editing software, video streaming platforms, or computer vision systems."
      ],
      "metadata": {
        "id": "iscno47A-8W2"
      }
    },
    {
      "cell_type": "code",
      "source": [
        "\n",
        "def copy_file(src, dst):\n",
        "    if os.path.exists(src):\n",
        "        if src != dst:\n",
        "            print(f\"Copying from {src} to {dst}\")\n",
        "            shutil.copy(src, dst)\n",
        "        else:\n",
        "            print(f\"Skipping {src} as it is the same as the destination.\")\n",
        "    else:\n",
        "        print(f\"File not found: {src}. Skipping.\")\n",
        "\n",
        "# Define source directories and directories for the split dataset\n",
        "source_gt_dir = '/content/drive/MyDrive/Testing/train_HR'\n",
        "source_lr_dir = '/content/drive/MyDrive/Testing/train_LR/X4'\n",
        "train_gt_dir = '/content/drive/MyDrive/HAT/datasets/GTmod2/train'\n",
        "train_lr_dir = '/content/drive/MyDrive/HAT/datasets/LRbicx2/train'\n",
        "val_gt_dir = '/content/drive/MyDrive/HAT/datasets/GTmod2/val'\n",
        "val_lr_dir = '/content/drive/MyDrive/HAT/datasets/LRbicx2/val'\n",
        "test_gt_dir = '/content/drive/MyDrive/HAT/datasets/GTmod2/test'\n",
        "test_lr_dir = '/content/drive/MyDrive/HAT/datasets/LRbicx2/test'\n",
        "\n",
        "# List all GT image files\n",
        "gt_files = [f for f in os.listdir(source_gt_dir) if os.path.isfile(os.path.join(source_gt_dir, f))]\n",
        "\n",
        "# Shuffle the list of GT image files\n",
        "random.shuffle(gt_files)\n",
        "\n",
        "# Calculate the number of files for train, validation, and test sets\n",
        "num_files = len(gt_files)\n",
        "num_train_files = int(0.8 * num_files)\n",
        "num_val_files = int(0.1 * num_files)\n",
        "num_test_files = num_files - num_train_files - num_val_files\n",
        "\n",
        "# Split the GT image files into train, validation, and test sets\n",
        "train_gt_files = gt_files[:num_train_files]\n",
        "val_gt_files = gt_files[num_train_files:num_train_files + num_val_files]\n",
        "test_gt_files = gt_files[num_train_files + num_val_files:]\n",
        "\n",
        "# Copy GT and LR image files to their respective directories\n",
        "for f in train_gt_files:\n",
        "    copy_file(os.path.join(source_gt_dir, f), os.path.join(train_gt_dir, f))\n",
        "    copy_file(os.path.join(source_lr_dir, f), os.path.join(train_lr_dir, f))\n",
        "\n",
        "for f in val_gt_files:\n",
        "    copy_file(os.path.join(source_gt_dir, f), os.path.join(val_gt_dir, f))\n",
        "    copy_file(os.path.join(source_lr_dir, f), os.path.join(val_lr_dir, f))\n",
        "\n",
        "for f in test_gt_files:\n",
        "    copy_file(os.path.join(source_gt_dir, f), os.path.join(test_gt_dir, f))\n",
        "    copy_file(os.path.join(source_lr_dir, f), os.path.join(test_lr_dir, f))\n"
      ],
      "metadata": {
        "id": "BF6dd-OBNg4d"
      },
      "execution_count": null,
      "outputs": []
    },
    {
      "cell_type": "code",
      "source": [
        "dirs_to_clean = [train_gt_dir, val_gt_dir, test_gt_dir]\n",
        "\n",
        "# Remove all files in the directories\n",
        "for directory in dirs_to_clean:\n",
        "    for filename in os.listdir(directory):\n",
        "        file_path = os.path.join(directory, filename)\n",
        "        try:\n",
        "            if os.path.isfile(file_path):\n",
        "                os.unlink(file_path)\n",
        "        except Exception as e:\n",
        "            print(f'Failed to delete {file_path}. Reason: {e}')"
      ],
      "metadata": {
        "id": "LzJ8KKXGUUHv"
      },
      "execution_count": null,
      "outputs": []
    },
    {
      "cell_type": "markdown",
      "source": [
        "## Dataset preprocessing/ Data Augmentation \n",
        "**Note** :We are going to apply data augmenation technique for both train sets only"
      ],
      "metadata": {
        "id": "ggMzYQw1VQl6"
      }
    },
    {
      "cell_type": "code",
      "source": [
        "! pip install albumentations"
      ],
      "metadata": {
        "id": "3s3AZw_3Ve0U"
      },
      "execution_count": null,
      "outputs": []
    },
    {
      "cell_type": "code",
      "source": [
        "\n",
        "from albumentations import (\n",
        "    Compose, HorizontalFlip, VerticalFlip, RandomRotate90, Normalize\n",
        ")\n",
        "\n",
        "# Update these paths to match your dataset directories\n",
        "train_gt_dir = '/content/drive/MyDrive/HAT/datasets/GTmod2/train'\n",
        "train_lr_dir = '/content/drive/MyDrive/HAT/datasets/LRbicx2/train'\n",
        "\n",
        "# Define the augmentation pipeline\n",
        "augmentation = Compose([\n",
        "    HorizontalFlip(p=0.5),\n",
        "    VerticalFlip(p=0.5),\n",
        "    RandomRotate90(p=0.5),\n",
        "    Normalize(mean=(0.485, 0.456, 0.406), std=(0.229, 0.224, 0.225), max_pixel_value=255.0, p=1.0)\n",
        "], additional_targets={'lr_img': 'image'})\n",
        "\n",
        "# Apply data augmentation to the GT and LR training images\n",
        "for img_name in os.listdir(train_gt_dir):\n",
        "    gt_img_path = os.path.join(train_gt_dir, img_name)\n",
        "    lr_img_path = os.path.join(train_lr_dir, img_name)\n",
        "\n",
        "    gt_img = cv2.imread(gt_img_path)\n",
        "    lr_img = cv2.imread(lr_img_path)\n",
        "\n",
        "    # Apply augmentation to both GT and LR images\n",
        "    augmented = augmentation(image=gt_img, lr_img=lr_img)\n",
        "    gt_img_augmented = augmented['image']\n",
        "    lr_img_augmented = augmented['lr_img']\n",
        "\n",
        "    # Multiply pixel values by 255 to bring them back to their original range\n",
        "    gt_img_augmented = (gt_img_augmented * 255).astype('uint8')\n",
        "    lr_img_augmented = (lr_img_augmented * 255).astype('uint8')\n",
        "\n",
        "    # Save the augmented images to the same directories as the original images\n",
        "    gt_img_augmented_path = os.path.join(train_gt_dir, 'aug_' + img_name)\n",
        "    lr_img_augmented_path = os.path.join(train_lr_dir, 'aug_' + img_name)\n",
        "\n",
        "    cv2.imwrite(gt_img_augmented_path, gt_img_augmented)\n",
        "    cv2.imwrite(lr_img_augmented_path, lr_img_augmented)\n"
      ],
      "metadata": {
        "id": "ue2XFnXTWkNR"
      },
      "execution_count": null,
      "outputs": []
    },
    {
      "cell_type": "code",
      "source": [
        "train_gt_dir = '/content/drive/MyDrive/HAT/datasets/GTmod2/train'\n",
        "train_lr_dir = '/content/drive/MyDrive/HAT/datasets/LRbicx2/train'\n",
        "\n",
        "# Remove the augmented images from GT and LR directories\n",
        "for img_name in os.listdir(train_gt_dir):\n",
        "    if img_name.startswith('aug_'):\n",
        "        os.remove(os.path.join(train_gt_dir, img_name))\n",
        "\n",
        "for img_name in os.listdir(train_lr_dir):\n",
        "    if img_name.startswith('aug_'):\n",
        "        os.remove(os.path.join(train_lr_dir, img_name))\n"
      ],
      "metadata": {
        "id": "9R3yJhmNbvnv"
      },
      "execution_count": null,
      "outputs": []
    },
    {
      "cell_type": "markdown",
      "source": [
        "## BasicSR data preparation\n",
        "According to HAT documenatation :  \" Crop to sub-images: DIV2K has 2K resolution (e.g., 2048 × 1080) images but the training patches are usually small (e.g., 128x128 or 192x192). So there is a waste if reading the whole image but only using a very small part of it. In order to accelerate the IO speed during training, we crop the 2K resolution images to sub-images (here, we crop to 480x480 sub-images).\n",
        "Note that the size of sub-images is different from the training patch size (gt_size) defined in the config file. Specifically, the cropped sub-images with 480x480 are stored. The dataloader will further randomly crop the sub-images to GT_size x GT_size patches for training.\"\n",
        "\n",
        " 🔽   So after modifying a python script I will run command to to create sub-images of 480x480 size that will be stored in train_sub directory. \n",
        "\n",
        "```\n",
        "python scripts/data_preparation/extract_subimages.py\n"
      ],
      "metadata": {
        "id": "6PvnL9FbmX6i"
      }
    },
    {
      "cell_type": "code",
      "source": [
        "# Change directory to BasicSR to run extract_subimages.py\n",
        "os.chdir('/content/drive/MyDrive/BasicSR')\n"
      ],
      "metadata": {
        "id": "-gX-dfhLiPlB"
      },
      "execution_count": null,
      "outputs": []
    },
    {
      "cell_type": "code",
      "source": [
        "! pip install -r requirements.txt"
      ],
      "metadata": {
        "id": "F0e6mDj6jNJT"
      },
      "execution_count": null,
      "outputs": []
    },
    {
      "cell_type": "code",
      "source": [
        "\"\"\" \n",
        "  Run the script. It will crop train images for future HAT training.\n",
        "  Modify extract_subimages.py script to provide path to images.\n",
        "  No need to create _sub folders for the output images. Script will do it.\n",
        "\"\"\"\n",
        "!python scripts/data_preparation/extract_subimages.py"
      ],
      "metadata": {
        "colab": {
          "base_uri": "https://localhost:8080/"
        },
        "id": "vO_kMIjtib4q",
        "outputId": "b0581303-e091-4937-90b4-a8c74a389e7d"
      },
      "execution_count": null,
      "outputs": [
        {
          "output_type": "stream",
          "name": "stdout",
          "text": [
            "/usr/local/lib/python3.10/dist-packages/torchvision/transforms/functional_tensor.py:5: UserWarning: The torchvision.transforms.functional_tensor module is deprecated in 0.15 and will be **removed in 0.17**. Please don't rely on it. You probably just need to use APIs in torchvision.transforms.functional or in torchvision.transforms.v2.functional.\n",
            "  warnings.warn(\n",
            "mkdir /content/drive/MyDrive/HAT/datasets/GTmod2/train_sub ...\n",
            "Extract: 100% 160/160 [01:07<00:00,  2.38image/s]\n",
            "All processes done.\n",
            "mkdir /content/drive/MyDrive/HAT/datasets/LRbicx2/train_sub ...\n",
            "Extract: 100% 160/160 [00:31<00:00,  5.05image/s]\n",
            "All processes done.\n"
          ]
        }
      ]
    },
    {
      "cell_type": "code",
      "source": [
        "import shutil\n",
        "\n",
        "folder_path = '/content/drive/MyDrive/HAT/datasets/LRbicx2/train_sub'\n",
        "shutil.rmtree(folder_path)\n"
      ],
      "metadata": {
        "id": "Cvf1o8egkSEz"
      },
      "execution_count": null,
      "outputs": []
    },
    {
      "cell_type": "code",
      "source": [
        "! python tests/test_data/test_paired_image_dataset.py"
      ],
      "metadata": {
        "id": "GbYo8lVhnkF9"
      },
      "execution_count": null,
      "outputs": []
    },
    {
      "cell_type": "code",
      "source": [
        "! python scripts/data_preparation/generate_meta_info.py"
      ],
      "metadata": {
        "id": "tMRJ6Dz9ptfY"
      },
      "execution_count": null,
      "outputs": []
    },
    {
      "cell_type": "markdown",
      "source": [
        "## Training command\n",
        "\n",
        "Since I am using Google Colab and have only one GPU available, I will need to modify the command to run the training provided by XPixelGroup team to a one that will work on a single GPU 🤞.\n",
        "\n",
        "\n",
        "Original XPixelGroup code for training\n",
        "\n",
        "\n",
        "```\n",
        "CUDA_VISIBLE_DEVICES=0,1,2,3,4,5,6,7 python -m torch.distributed.launch --nproc_per_node=8 --master_port=4321 hat/train.py -opt options/train/train_HAT_SRx2_from_scratch.yml --launcher pytorch\n",
        "```\n",
        "I removed the **CUDA_VISIBLE_DEVICES** part as it's not needed in Colab.\n",
        "\n",
        "Here's the modified command to run the training on a single GPU in Google Colab:\n",
        "\n",
        "\n",
        "```\n",
        "!python /content/drive/MyDrive/HAT/hat/train.py -opt /content/drive/MyDrive/HAT/options/train/train_HAT-L_SRx2_ImageNet_from_scratch.yml\n",
        "\n",
        "```\n",
        "\n"
      ],
      "metadata": {
        "id": "jAT9oCIJMUGd"
      }
    },
    {
      "cell_type": "code",
      "source": [
        "os.chdir('/content/drive/MyDrive/HAT')"
      ],
      "metadata": {
        "id": "A1OP8JNGxwA2"
      },
      "execution_count": null,
      "outputs": []
    },
    {
      "cell_type": "code",
      "source": [
        "!python /content/drive/MyDrive/HAT/hat/train.py -opt /content/drive/MyDrive/HAT/options/train/train_HAT-L_SRx2_ImageNet_from_scratch.yml\n"
      ],
      "metadata": {
        "id": "E8THO6eEE2hG"
      },
      "execution_count": null,
      "outputs": []
    },
    {
      "cell_type": "markdown",
      "source": [
        "###  Trying to fix issues occured while model was being trained, I accidentially found out that number of training samples in GT and LR folders are different 😕. See codes below "
      ],
      "metadata": {
        "id": "hxZoS0uVtJTF"
      }
    },
    {
      "cell_type": "code",
      "source": [
        "import os\n",
        "\n",
        "dataset_path = '/content/drive/MyDrive/HAT/datasets/GTmod2/train_sub'\n",
        "num_samples = len([f for f in os.listdir(dataset_path) if os.path.isfile(os.path.join(dataset_path, f))])\n",
        "\n",
        "print(f'Number of training samples: {num_samples}')\n"
      ],
      "metadata": {
        "colab": {
          "base_uri": "https://localhost:8080/"
        },
        "id": "81HThCnqr4Uq",
        "outputId": "2830eabf-98c7-475f-abaf-62520efad768"
      },
      "execution_count": null,
      "outputs": [
        {
          "output_type": "stream",
          "name": "stdout",
          "text": [
            "Number of training samples: 2518\n"
          ]
        }
      ]
    },
    {
      "cell_type": "code",
      "source": [
        "dataset_path = '/content/drive/MyDrive/HAT/datasets/LRbicx2/train_sub'\n",
        "num_samples = len([f for f in os.listdir(dataset_path) if os.path.isfile(os.path.join(dataset_path, f))])\n",
        "\n",
        "print(f'Number of training samples: {num_samples}')"
      ],
      "metadata": {
        "colab": {
          "base_uri": "https://localhost:8080/"
        },
        "id": "wN0icpDFsEZA",
        "outputId": "233b4a7c-0613-4fd1-c834-ef8af33ab1e5"
      },
      "execution_count": null,
      "outputs": [
        {
          "output_type": "stream",
          "name": "stdout",
          "text": [
            "Number of training samples: 2560\n"
          ]
        }
      ]
    },
    {
      "cell_type": "markdown",
      "source": [
        "### The following code will help to find out missing files in both folders and resolve the issue."
      ],
      "metadata": {
        "id": "Bifh5wCXuAgJ"
      }
    },
    {
      "cell_type": "code",
      "source": [
        "import os\n",
        "\n",
        "gt_dir = '/content/drive/MyDrive/HAT/datasets/GTmod2/train_sub'\n",
        "lr_dir = '/content/drive/MyDrive/HAT/datasets/LRbicx2/train_sub'\n",
        "\n",
        "gt_files = set(os.listdir(gt_dir))\n",
        "lr_files = set(os.listdir(lr_dir))\n",
        "\n",
        "missing_in_gt = lr_files - gt_files\n",
        "missing_in_lr = gt_files - lr_files\n",
        "\n",
        "print(f'Missing in GT: {missing_in_gt}')\n",
        "print(f'Missing in LR: {missing_in_lr}')\n"
      ],
      "metadata": {
        "colab": {
          "base_uri": "https://localhost:8080/"
        },
        "id": "8d_nydtTuMDI",
        "outputId": "9eef847f-90ad-4663-82e6-a7bdd8774c12"
      },
      "execution_count": null,
      "outputs": [
        {
          "output_type": "stream",
          "name": "stdout",
          "text": [
            "Missing in GT: {'aug_00015_s008.png', '00040_s016.png', '00052_s015.png', 'aug_00073_s009.png', 'aug_00044_s015.png', 'aug_00079_s015.png', 'aug_00016_s007.png', 'aug_00068_s008.png', 'aug_00057_s010.png', 'aug_00014_s003.png', '00079_s016.png', 'aug_00074_s014.png', 'aug_00080_s008.png', '00041_s015.png', '00067_s013.png', 'aug_00098_s007.png', 'aug_00043_s010.png', '00080_s014.png', 'aug_00084_s012.png', '00058_s015.png', '00078_s013.png', '00033_s014.png', 'aug_00040_s015.png', 'aug_00028_s009.png', 'aug_00010_s002.png', '00098_s014.png', 'aug_00041_s009.png', 'aug_00025_s003.png', 'aug_00033_s011.png', 'aug_00078_s009.png', 'aug_00052_s010.png', 'aug_00010_s016.png', 'aug_00009_s010.png', '00068_s014.png', '00041_s014.png', 'aug_00062_s015.png', '00057_s015.png', 'aug_00067_s005.png', '00074_s016.png', 'aug_00026_s016.png', 'aug_00053_s008.png', 'aug_00008_s011.png'}\n",
            "Missing in LR: set()\n"
          ]
        }
      ]
    },
    {
      "cell_type": "code",
      "source": [
        "# Remove mismatched files \n",
        "for file in missing_in_gt:\n",
        "    os.remove(os.path.join(lr_dir, file))"
      ],
      "metadata": {
        "id": "dTzcTiuEuihg"
      },
      "execution_count": null,
      "outputs": []
    },
    {
      "cell_type": "code",
      "source": [
        "dataset_path = '/content/drive/MyDrive/HAT/datasets/GTmod2/train_sub'\n",
        "num_samples = len([f for f in os.listdir(dataset_path) if os.path.isfile(os.path.join(dataset_path, f))])\n",
        "\n",
        "print(f'Number of training samples: {num_samples}')"
      ],
      "metadata": {
        "colab": {
          "base_uri": "https://localhost:8080/"
        },
        "id": "N6sbUOoVu5kK",
        "outputId": "b0e9f657-8131-435c-fd62-456139867efb"
      },
      "execution_count": null,
      "outputs": [
        {
          "output_type": "stream",
          "name": "stdout",
          "text": [
            "Number of training samples: 2518\n"
          ]
        }
      ]
    },
    {
      "cell_type": "code",
      "source": [
        "dataset_path = '/content/drive/MyDrive/HAT/datasets/LRbicx2/train_sub'\n",
        "num_samples = len([f for f in os.listdir(dataset_path) if os.path.isfile(os.path.join(dataset_path, f))])\n",
        "\n",
        "print(f'Number of training samples: {num_samples}')"
      ],
      "metadata": {
        "colab": {
          "base_uri": "https://localhost:8080/"
        },
        "id": "X-809T5Xu-Gx",
        "outputId": "73c4fd16-a954-4c34-ee8b-107105b33823"
      },
      "execution_count": null,
      "outputs": [
        {
          "output_type": "stream",
          "name": "stdout",
          "text": [
            "Number of training samples: 2518\n"
          ]
        }
      ]
    },
    {
      "cell_type": "markdown",
      "source": [
        "### Now number of files and their names are identical in both datasets. 🙌"
      ],
      "metadata": {
        "id": "Kq_x_QYTvGw7"
      }
    },
    {
      "cell_type": "markdown",
      "source": [
        "Since the **total_iter: 800000** parameter in the configuration file controls the total number of iterations, which is related to the number of epochs. \n",
        "\n",
        "I have been asked to downsize number of the epochs to 3. In order to do so,  I will convert the total number of iterations to epochs, using the following formula:\n",
        "\n",
        "number_of_epochs = total_iterations / (number_of_training_samples / batch_size)\n",
        "\n",
        "total_iter = 3 * (2518 / 2) = 3777\n",
        "\n",
        "\n",
        "\n",
        "Then, I can update the total_iter parameter in the configuration file."
      ],
      "metadata": {
        "id": "lGKc8m6zv3wr"
      }
    },
    {
      "cell_type": "code",
      "source": [],
      "metadata": {
        "id": "BJZlU17pytOr"
      },
      "execution_count": null,
      "outputs": []
    },
    {
      "cell_type": "code",
      "source": [
        "#before running the following command, make sure you run !python setup.py develop\n",
        "\n",
        "!python /content/drive/MyDrive/HAT/hat/train.py -opt /content/drive/MyDrive/HAT/options/train/train_HAT-L_SRx2_ImageNet_from_scratch.yml\n"
      ],
      "metadata": {
        "colab": {
          "base_uri": "https://localhost:8080/"
        },
        "outputId": "134ff886-2565-42b9-bde1-bdda363d6e0f",
        "id": "Q5l_cZ2VjfZw"
      },
      "execution_count": null,
      "outputs": [
        {
          "output_type": "stream",
          "name": "stdout",
          "text": [
            "Disable distributed.\n",
            "Path already exists. Rename it to /content/drive/MyDrive/HAT/experiments/train_HAT-L_SRx2_ImageNet_from_scratch_archived_20230505_014303\n",
            "Path already exists. Rename it to /content/drive/MyDrive/HAT/tb_logger/train_HAT-L_SRx2_ImageNet_from_scratch_archived_20230505_014303\n",
            "2023-05-05 01:43:03,992 INFO: \n",
            "                ____                _       _____  ____\n",
            "               / __ ) ____ _ _____ (_)_____/ ___/ / __ \\\n",
            "              / __  |/ __ `// ___// // ___/\\__ \\ / /_/ /\n",
            "             / /_/ // /_/ /(__  )/ // /__ ___/ // _, _/\n",
            "            /_____/ \\__,_//____//_/ \\___//____//_/ |_|\n",
            "     ______                   __   __                 __      __\n",
            "    / ____/____   ____   ____/ /  / /   __  __ _____ / /__   / /\n",
            "   / / __ / __ \\ / __ \\ / __  /  / /   / / / // ___// //_/  / /\n",
            "  / /_/ // /_/ // /_/ // /_/ /  / /___/ /_/ // /__ / /<    /_/\n",
            "  \\____/ \\____/ \\____/ \\____/  /_____/\\____/ \\___//_/|_|  (_)\n",
            "    \n",
            "Version Information: \n",
            "\tBasicSR: 1.3.4.9\n",
            "\tPyTorch: 2.0.0+cu118\n",
            "\tTorchVision: 0.15.1+cu118\n",
            "2023-05-05 01:43:03,993 INFO: \n",
            "  name: train_HAT-L_SRx2_ImageNet_from_scratch\n",
            "  model_type: HATModel\n",
            "  scale: 2\n",
            "  num_gpu: 1\n",
            "  manual_seed: 0\n",
            "  datasets:[\n",
            "    train:[\n",
            "      name: ImageNet\n",
            "      type: ImageNetPairedDataset\n",
            "      dataroot_gt: /content/drive/MyDrive/HAT/datasets/GTmod2/train_sub\n",
            "      meta_info_file: /content/drive/MyDrive/BasicSR/basicsr/data/meta_info/meta_info_train_sub_GT.txt\n",
            "      io_backend:[\n",
            "        type: disk\n",
            "      ]\n",
            "      gt_size: 128\n",
            "      use_hflip: True\n",
            "      use_rot: True\n",
            "      use_shuffle: True\n",
            "      num_worker_per_gpu: 6\n",
            "      batch_size_per_gpu: 2\n",
            "      dataset_enlarge_ratio: 1\n",
            "      prefetch_mode: None\n",
            "      phase: train\n",
            "      scale: 2\n",
            "    ]\n",
            "    val_1:[\n",
            "      name: Set5\n",
            "      type: PairedImageDataset\n",
            "      dataroot_gt: /content/drive/MyDrive/HAT/datasets/GTmod2/val\n",
            "      dataroot_lq: /content/drive/MyDrive/HAT/datasets/LRbicx2/val\n",
            "      io_backend:[\n",
            "        type: disk\n",
            "      ]\n",
            "      phase: val\n",
            "      scale: 2\n",
            "    ]\n",
            "  ]\n",
            "  network_g:[\n",
            "    type: HAT\n",
            "    upscale: 2\n",
            "    in_chans: 3\n",
            "    img_size: 64\n",
            "    window_size: 16\n",
            "    compress_ratio: 3\n",
            "    squeeze_factor: 30\n",
            "    conv_scale: 0.01\n",
            "    overlap_ratio: 0.5\n",
            "    img_range: 1.0\n",
            "    depths: [6, 6, 6, 6, 6, 6, 6, 6, 6, 6, 6, 6]\n",
            "    embed_dim: 180\n",
            "    num_heads: [6, 6, 6, 6, 6, 6, 6, 6, 6, 6, 6, 6]\n",
            "    mlp_ratio: 2\n",
            "    upsampler: pixelshuffle\n",
            "    resi_connection: 1conv\n",
            "  ]\n",
            "  path:[\n",
            "    pretrain_network_g: None\n",
            "    strict_load_g: True\n",
            "    resume_state: None\n",
            "    experiments_root: /content/drive/MyDrive/HAT/experiments/train_HAT-L_SRx2_ImageNet_from_scratch\n",
            "    models: /content/drive/MyDrive/HAT/experiments/train_HAT-L_SRx2_ImageNet_from_scratch/models\n",
            "    training_states: /content/drive/MyDrive/HAT/experiments/train_HAT-L_SRx2_ImageNet_from_scratch/training_states\n",
            "    log: /content/drive/MyDrive/HAT/experiments/train_HAT-L_SRx2_ImageNet_from_scratch\n",
            "    visualization: /content/drive/MyDrive/HAT/experiments/train_HAT-L_SRx2_ImageNet_from_scratch/visualization\n",
            "  ]\n",
            "  train:[\n",
            "    ema_decay: 0.999\n",
            "    optim_g:[\n",
            "      type: Adam\n",
            "      lr: 0.0002\n",
            "      weight_decay: 0\n",
            "      betas: [0.9, 0.99]\n",
            "    ]\n",
            "    scheduler:[\n",
            "      type: MultiStepLR\n",
            "      milestones: [300000, 500000, 650000, 700000, 750000]\n",
            "      gamma: 0.5\n",
            "    ]\n",
            "    total_iter: 3777\n",
            "    warmup_iter: -1\n",
            "    pixel_opt:[\n",
            "      type: L1Loss\n",
            "      loss_weight: 1.0\n",
            "      reduction: mean\n",
            "    ]\n",
            "  ]\n",
            "  val:[\n",
            "    val_freq: 10000.0\n",
            "    save_img: False\n",
            "    pbar: False\n",
            "    metrics:[\n",
            "      psnr:[\n",
            "        type: calculate_psnr\n",
            "        crop_border: 2\n",
            "        test_y_channel: True\n",
            "        better: higher\n",
            "      ]\n",
            "      ssim:[\n",
            "        type: calculate_ssim\n",
            "        crop_border: 2\n",
            "        test_y_channel: True\n",
            "        better: higher\n",
            "      ]\n",
            "    ]\n",
            "  ]\n",
            "  logger:[\n",
            "    print_freq: 100\n",
            "    save_checkpoint_freq: 10000.0\n",
            "    use_tb_logger: True\n",
            "    wandb:[\n",
            "      project: None\n",
            "      resume_id: None\n",
            "    ]\n",
            "  ]\n",
            "  dist_params:[\n",
            "    backend: nccl\n",
            "    port: 29500\n",
            "  ]\n",
            "  dist: False\n",
            "  rank: 0\n",
            "  world_size: 1\n",
            "  auto_resume: False\n",
            "  is_train: True\n",
            "  root_path: /content/drive/MyDrive/HAT\n",
            "\n",
            "2023-05-05 01:43:04.451860: I tensorflow/core/platform/cpu_feature_guard.cc:182] This TensorFlow binary is optimized to use available CPU instructions in performance-critical operations.\n",
            "To enable the following instructions: AVX2 FMA, in other operations, rebuild TensorFlow with the appropriate compiler flags.\n",
            "2023-05-05 01:43:05.848286: W tensorflow/compiler/tf2tensorrt/utils/py_utils.cc:38] TF-TRT Warning: Could not find TensorRT\n",
            "2023-05-05 01:43:07,617 INFO: Dataset [ImageNetPairedDataset] - ImageNet is built.\n",
            "/usr/local/lib/python3.10/dist-packages/torch/utils/data/dataloader.py:561: UserWarning: This DataLoader will create 6 worker processes in total. Our suggested max number of worker in current system is 2, which is smaller than what this DataLoader is going to create. Please be aware that excessive worker creation might get DataLoader running slow or even freeze, lower the worker number to avoid potential slowness/freeze if necessary.\n",
            "  warnings.warn(_create_warning_msg(\n",
            "2023-05-05 01:43:07,619 INFO: Training statistics:\n",
            "\tNumber of train images: 2518\n",
            "\tDataset enlarge ratio: 1\n",
            "\tBatch size per gpu: 2\n",
            "\tWorld size (gpu number): 1\n",
            "\tRequire iter number per epoch: 1259\n",
            "\tTotal epochs: 3; iters: 3777.\n",
            "2023-05-05 01:43:08,946 INFO: Dataset [PairedImageDataset] - Set5 is built.\n",
            "2023-05-05 01:43:08,947 INFO: Number of val images/folders in Set5: 10\n",
            "/usr/local/lib/python3.10/dist-packages/torch/functional.py:504: UserWarning: torch.meshgrid: in an upcoming release, it will be required to pass the indexing argument. (Triggered internally at ../aten/src/ATen/native/TensorShape.cpp:3483.)\n",
            "  return _VF.meshgrid(tensors, **kwargs)  # type: ignore[attr-defined]\n",
            "2023-05-05 01:43:09,741 INFO: Network [HAT] is created.\n",
            "2023-05-05 01:43:10,130 INFO: Network: HAT, with parameters: 40,698,863\n",
            "2023-05-05 01:43:10,131 INFO: HAT(\n",
            "  (conv_first): Conv2d(3, 180, kernel_size=(3, 3), stride=(1, 1), padding=(1, 1))\n",
            "  (patch_embed): PatchEmbed(\n",
            "    (norm): LayerNorm((180,), eps=1e-05, elementwise_affine=True)\n",
            "  )\n",
            "  (patch_unembed): PatchUnEmbed()\n",
            "  (pos_drop): Dropout(p=0.0, inplace=False)\n",
            "  (layers): ModuleList(\n",
            "    (0): RHAG(\n",
            "      (residual_group): AttenBlocks(\n",
            "        (blocks): ModuleList(\n",
            "          (0): HAB(\n",
            "            (norm1): LayerNorm((180,), eps=1e-05, elementwise_affine=True)\n",
            "            (attn): WindowAttention(\n",
            "              (qkv): Linear(in_features=180, out_features=540, bias=True)\n",
            "              (attn_drop): Dropout(p=0.0, inplace=False)\n",
            "              (proj): Linear(in_features=180, out_features=180, bias=True)\n",
            "              (proj_drop): Dropout(p=0.0, inplace=False)\n",
            "              (softmax): Softmax(dim=-1)\n",
            "            )\n",
            "            (conv_block): CAB(\n",
            "              (cab): Sequential(\n",
            "                (0): Conv2d(180, 60, kernel_size=(3, 3), stride=(1, 1), padding=(1, 1))\n",
            "                (1): GELU(approximate='none')\n",
            "                (2): Conv2d(60, 180, kernel_size=(3, 3), stride=(1, 1), padding=(1, 1))\n",
            "                (3): ChannelAttention(\n",
            "                  (attention): Sequential(\n",
            "                    (0): AdaptiveAvgPool2d(output_size=1)\n",
            "                    (1): Conv2d(180, 6, kernel_size=(1, 1), stride=(1, 1))\n",
            "                    (2): ReLU(inplace=True)\n",
            "                    (3): Conv2d(6, 180, kernel_size=(1, 1), stride=(1, 1))\n",
            "                    (4): Sigmoid()\n",
            "                  )\n",
            "                )\n",
            "              )\n",
            "            )\n",
            "            (drop_path): Identity()\n",
            "            (norm2): LayerNorm((180,), eps=1e-05, elementwise_affine=True)\n",
            "            (mlp): Mlp(\n",
            "              (fc1): Linear(in_features=180, out_features=360, bias=True)\n",
            "              (act): GELU(approximate='none')\n",
            "              (fc2): Linear(in_features=360, out_features=180, bias=True)\n",
            "              (drop): Dropout(p=0.0, inplace=False)\n",
            "            )\n",
            "          )\n",
            "          (1-5): 5 x HAB(\n",
            "            (norm1): LayerNorm((180,), eps=1e-05, elementwise_affine=True)\n",
            "            (attn): WindowAttention(\n",
            "              (qkv): Linear(in_features=180, out_features=540, bias=True)\n",
            "              (attn_drop): Dropout(p=0.0, inplace=False)\n",
            "              (proj): Linear(in_features=180, out_features=180, bias=True)\n",
            "              (proj_drop): Dropout(p=0.0, inplace=False)\n",
            "              (softmax): Softmax(dim=-1)\n",
            "            )\n",
            "            (conv_block): CAB(\n",
            "              (cab): Sequential(\n",
            "                (0): Conv2d(180, 60, kernel_size=(3, 3), stride=(1, 1), padding=(1, 1))\n",
            "                (1): GELU(approximate='none')\n",
            "                (2): Conv2d(60, 180, kernel_size=(3, 3), stride=(1, 1), padding=(1, 1))\n",
            "                (3): ChannelAttention(\n",
            "                  (attention): Sequential(\n",
            "                    (0): AdaptiveAvgPool2d(output_size=1)\n",
            "                    (1): Conv2d(180, 6, kernel_size=(1, 1), stride=(1, 1))\n",
            "                    (2): ReLU(inplace=True)\n",
            "                    (3): Conv2d(6, 180, kernel_size=(1, 1), stride=(1, 1))\n",
            "                    (4): Sigmoid()\n",
            "                  )\n",
            "                )\n",
            "              )\n",
            "            )\n",
            "            (drop_path): DropPath()\n",
            "            (norm2): LayerNorm((180,), eps=1e-05, elementwise_affine=True)\n",
            "            (mlp): Mlp(\n",
            "              (fc1): Linear(in_features=180, out_features=360, bias=True)\n",
            "              (act): GELU(approximate='none')\n",
            "              (fc2): Linear(in_features=360, out_features=180, bias=True)\n",
            "              (drop): Dropout(p=0.0, inplace=False)\n",
            "            )\n",
            "          )\n",
            "        )\n",
            "        (overlap_attn): OCAB(\n",
            "          (norm1): LayerNorm((180,), eps=1e-05, elementwise_affine=True)\n",
            "          (qkv): Linear(in_features=180, out_features=540, bias=True)\n",
            "          (unfold): Unfold(kernel_size=(24, 24), dilation=1, padding=4, stride=16)\n",
            "          (softmax): Softmax(dim=-1)\n",
            "          (proj): Linear(in_features=180, out_features=180, bias=True)\n",
            "          (norm2): LayerNorm((180,), eps=1e-05, elementwise_affine=True)\n",
            "          (mlp): Mlp(\n",
            "            (fc1): Linear(in_features=180, out_features=360, bias=True)\n",
            "            (act): GELU(approximate='none')\n",
            "            (fc2): Linear(in_features=360, out_features=180, bias=True)\n",
            "            (drop): Dropout(p=0.0, inplace=False)\n",
            "          )\n",
            "        )\n",
            "      )\n",
            "      (conv): Conv2d(180, 180, kernel_size=(3, 3), stride=(1, 1), padding=(1, 1))\n",
            "      (patch_embed): PatchEmbed()\n",
            "      (patch_unembed): PatchUnEmbed()\n",
            "    )\n",
            "    (1-11): 11 x RHAG(\n",
            "      (residual_group): AttenBlocks(\n",
            "        (blocks): ModuleList(\n",
            "          (0-5): 6 x HAB(\n",
            "            (norm1): LayerNorm((180,), eps=1e-05, elementwise_affine=True)\n",
            "            (attn): WindowAttention(\n",
            "              (qkv): Linear(in_features=180, out_features=540, bias=True)\n",
            "              (attn_drop): Dropout(p=0.0, inplace=False)\n",
            "              (proj): Linear(in_features=180, out_features=180, bias=True)\n",
            "              (proj_drop): Dropout(p=0.0, inplace=False)\n",
            "              (softmax): Softmax(dim=-1)\n",
            "            )\n",
            "            (conv_block): CAB(\n",
            "              (cab): Sequential(\n",
            "                (0): Conv2d(180, 60, kernel_size=(3, 3), stride=(1, 1), padding=(1, 1))\n",
            "                (1): GELU(approximate='none')\n",
            "                (2): Conv2d(60, 180, kernel_size=(3, 3), stride=(1, 1), padding=(1, 1))\n",
            "                (3): ChannelAttention(\n",
            "                  (attention): Sequential(\n",
            "                    (0): AdaptiveAvgPool2d(output_size=1)\n",
            "                    (1): Conv2d(180, 6, kernel_size=(1, 1), stride=(1, 1))\n",
            "                    (2): ReLU(inplace=True)\n",
            "                    (3): Conv2d(6, 180, kernel_size=(1, 1), stride=(1, 1))\n",
            "                    (4): Sigmoid()\n",
            "                  )\n",
            "                )\n",
            "              )\n",
            "            )\n",
            "            (drop_path): DropPath()\n",
            "            (norm2): LayerNorm((180,), eps=1e-05, elementwise_affine=True)\n",
            "            (mlp): Mlp(\n",
            "              (fc1): Linear(in_features=180, out_features=360, bias=True)\n",
            "              (act): GELU(approximate='none')\n",
            "              (fc2): Linear(in_features=360, out_features=180, bias=True)\n",
            "              (drop): Dropout(p=0.0, inplace=False)\n",
            "            )\n",
            "          )\n",
            "        )\n",
            "        (overlap_attn): OCAB(\n",
            "          (norm1): LayerNorm((180,), eps=1e-05, elementwise_affine=True)\n",
            "          (qkv): Linear(in_features=180, out_features=540, bias=True)\n",
            "          (unfold): Unfold(kernel_size=(24, 24), dilation=1, padding=4, stride=16)\n",
            "          (softmax): Softmax(dim=-1)\n",
            "          (proj): Linear(in_features=180, out_features=180, bias=True)\n",
            "          (norm2): LayerNorm((180,), eps=1e-05, elementwise_affine=True)\n",
            "          (mlp): Mlp(\n",
            "            (fc1): Linear(in_features=180, out_features=360, bias=True)\n",
            "            (act): GELU(approximate='none')\n",
            "            (fc2): Linear(in_features=360, out_features=180, bias=True)\n",
            "            (drop): Dropout(p=0.0, inplace=False)\n",
            "          )\n",
            "        )\n",
            "      )\n",
            "      (conv): Conv2d(180, 180, kernel_size=(3, 3), stride=(1, 1), padding=(1, 1))\n",
            "      (patch_embed): PatchEmbed()\n",
            "      (patch_unembed): PatchUnEmbed()\n",
            "    )\n",
            "  )\n",
            "  (norm): LayerNorm((180,), eps=1e-05, elementwise_affine=True)\n",
            "  (conv_after_body): Conv2d(180, 180, kernel_size=(3, 3), stride=(1, 1), padding=(1, 1))\n",
            "  (conv_before_upsample): Sequential(\n",
            "    (0): Conv2d(180, 64, kernel_size=(3, 3), stride=(1, 1), padding=(1, 1))\n",
            "    (1): LeakyReLU(negative_slope=0.01, inplace=True)\n",
            "  )\n",
            "  (upsample): Upsample(\n",
            "    (0): Conv2d(64, 256, kernel_size=(3, 3), stride=(1, 1), padding=(1, 1))\n",
            "    (1): PixelShuffle(upscale_factor=2)\n",
            "  )\n",
            "  (conv_last): Conv2d(64, 3, kernel_size=(3, 3), stride=(1, 1), padding=(1, 1))\n",
            ")\n",
            "2023-05-05 01:43:10,137 INFO: Use Exponential Moving Average with decay: 0.999\n",
            "2023-05-05 01:43:10,954 INFO: Network [HAT] is created.\n",
            "2023-05-05 01:43:11,158 INFO: Loss [L1Loss] is created.\n",
            "2023-05-05 01:43:11,165 INFO: Model [HATModel] is created.\n",
            "2023-05-05 01:43:11,263 INFO: Start training from epoch: 0, iter: 0\n",
            "2023-05-05 01:46:09,476 INFO: [train..][epoch:  0, iter:     100, lr:(2.000e-04,)] [eta: 1:38:50, time (data): 1.782 (0.104)] l_pix: 2.5064e-01 \n",
            "2023-05-05 01:49:00,419 INFO: [train..][epoch:  0, iter:     200, lr:(2.000e-04,)] [eta: 1:39:00, time (data): 1.746 (0.053)] l_pix: 2.4500e-01 \n",
            "2023-05-05 01:51:51,525 INFO: [train..][epoch:  0, iter:     300, lr:(2.000e-04,)] [eta: 1:37:11, time (data): 1.711 (0.003)] l_pix: 1.0936e-01 \n",
            "2023-05-05 01:54:42,335 INFO: [train..][epoch:  0, iter:     400, lr:(2.000e-04,)] [eta: 1:34:49, time (data): 1.710 (0.003)] l_pix: 1.6500e-01 \n",
            "2023-05-05 01:57:32,896 INFO: [train..][epoch:  0, iter:     500, lr:(2.000e-04,)] [eta: 1:32:14, time (data): 1.706 (0.002)] l_pix: 6.5682e-02 \n",
            "2023-05-05 02:00:23,592 INFO: [train..][epoch:  0, iter:     600, lr:(2.000e-04,)] [eta: 1:29:34, time (data): 1.706 (0.002)] l_pix: 1.3529e-01 \n",
            "2023-05-05 02:03:14,254 INFO: [train..][epoch:  0, iter:     700, lr:(2.000e-04,)] [eta: 1:26:51, time (data): 1.706 (0.003)] l_pix: 6.9178e-02 \n",
            "2023-05-05 02:06:06,842 INFO: [train..][epoch:  0, iter:     800, lr:(2.000e-04,)] [eta: 1:24:14, time (data): 1.716 (0.003)] l_pix: 2.1711e-02 \n",
            "2023-05-05 02:08:55,682 INFO: [train..][epoch:  0, iter:     900, lr:(2.000e-04,)] [eta: 1:21:21, time (data): 1.689 (0.003)] l_pix: 1.8083e-01 \n",
            "2023-05-05 02:11:44,715 INFO: [train..][epoch:  0, iter:   1,000, lr:(2.000e-04,)] [eta: 1:18:29, time (data): 1.690 (0.003)] l_pix: 1.3905e-01 \n",
            "2023-05-05 02:14:34,238 INFO: [train..][epoch:  0, iter:   1,100, lr:(2.000e-04,)] [eta: 1:15:39, time (data): 1.695 (0.003)] l_pix: 9.5625e-02 \n",
            "2023-05-05 02:17:22,089 INFO: [train..][epoch:  0, iter:   1,200, lr:(2.000e-04,)] [eta: 1:12:46, time (data): 1.687 (0.003)] l_pix: 1.0485e-01 \n",
            "2023-05-05 02:20:10,886 INFO: [train..][epoch:  1, iter:   1,300, lr:(2.000e-04,)] [eta: 1:09:55, time (data): 1.689 (0.011)] l_pix: 3.7752e-02 \n",
            "2023-05-05 02:22:59,116 INFO: [train..][epoch:  1, iter:   1,400, lr:(2.000e-04,)] [eta: 1:07:03, time (data): 1.685 (0.007)] l_pix: 3.8684e-02 \n",
            "2023-05-05 02:25:47,380 INFO: [train..][epoch:  1, iter:   1,500, lr:(2.000e-04,)] [eta: 1:04:12, time (data): 1.683 (0.004)] l_pix: 2.9876e-02 \n",
            "2023-05-05 02:28:36,000 INFO: [train..][epoch:  1, iter:   1,600, lr:(2.000e-04,)] [eta: 1:01:22, time (data): 1.685 (0.004)] l_pix: 1.0836e-01 \n",
            "2023-05-05 02:31:24,208 INFO: [train..][epoch:  1, iter:   1,700, lr:(2.000e-04,)] [eta: 0:58:32, time (data): 1.682 (0.004)] l_pix: 9.4463e-02 \n",
            "2023-05-05 02:34:12,424 INFO: [train..][epoch:  1, iter:   1,800, lr:(2.000e-04,)] [eta: 0:55:41, time (data): 1.682 (0.003)] l_pix: 1.1722e-01 \n",
            "2023-05-05 02:37:00,663 INFO: [train..][epoch:  1, iter:   1,900, lr:(2.000e-04,)] [eta: 0:52:51, time (data): 1.682 (0.003)] l_pix: 9.6053e-03 \n",
            "2023-05-05 02:39:49,396 INFO: [train..][epoch:  1, iter:   2,000, lr:(2.000e-04,)] [eta: 0:50:02, time (data): 1.685 (0.003)] l_pix: 1.9614e-01 \n",
            "2023-05-05 02:42:38,098 INFO: [train..][epoch:  1, iter:   2,100, lr:(2.000e-04,)] [eta: 0:47:13, time (data): 1.687 (0.003)] l_pix: 1.4972e-02 \n",
            "2023-05-05 02:45:28,088 INFO: [train..][epoch:  1, iter:   2,200, lr:(2.000e-04,)] [eta: 0:44:24, time (data): 1.694 (0.003)] l_pix: 1.6837e-01 \n",
            "2023-05-05 02:48:19,342 INFO: [train..][epoch:  1, iter:   2,300, lr:(2.000e-04,)] [eta: 0:41:37, time (data): 1.713 (0.003)] l_pix: 3.0128e-02 \n",
            "2023-05-05 02:51:10,860 INFO: [train..][epoch:  1, iter:   2,400, lr:(2.000e-04,)] [eta: 0:38:49, time (data): 1.714 (0.003)] l_pix: 2.2650e-02 \n",
            "2023-05-05 02:54:02,206 INFO: [train..][epoch:  1, iter:   2,500, lr:(2.000e-04,)] [eta: 0:36:01, time (data): 1.714 (0.003)] l_pix: 9.4973e-02 \n",
            "2023-05-05 02:56:54,881 INFO: [train..][epoch:  2, iter:   2,600, lr:(2.000e-04,)] [eta: 0:33:13, time (data): 1.721 (0.008)] l_pix: 3.9660e-03 \n",
            "2023-05-05 02:59:45,933 INFO: [train..][epoch:  2, iter:   2,700, lr:(2.000e-04,)] [eta: 0:30:24, time (data): 1.711 (0.003)] l_pix: 1.0006e-01 \n",
            "2023-05-05 03:02:37,215 INFO: [train..][epoch:  2, iter:   2,800, lr:(2.000e-04,)] [eta: 0:27:35, time (data): 1.712 (0.003)] l_pix: 8.0859e-02 \n",
            "2023-05-05 03:05:28,243 INFO: [train..][epoch:  2, iter:   2,900, lr:(2.000e-04,)] [eta: 0:24:46, time (data): 1.710 (0.003)] l_pix: 1.7680e-02 \n",
            "2023-05-05 03:08:17,914 INFO: [train..][epoch:  2, iter:   3,000, lr:(2.000e-04,)] [eta: 0:21:56, time (data): 1.703 (0.004)] l_pix: 5.1510e-02 \n",
            "2023-05-05 03:11:06,454 INFO: [train..][epoch:  2, iter:   3,100, lr:(2.000e-04,)] [eta: 0:19:06, time (data): 1.685 (0.003)] l_pix: 7.4716e-02 \n",
            "2023-05-05 03:13:55,122 INFO: [train..][epoch:  2, iter:   3,200, lr:(2.000e-04,)] [eta: 0:16:16, time (data): 1.686 (0.003)] l_pix: 1.9945e-01 \n",
            "2023-05-05 03:16:43,627 INFO: [train..][epoch:  2, iter:   3,300, lr:(2.000e-04,)] [eta: 0:13:27, time (data): 1.686 (0.003)] l_pix: 1.2652e-01 \n",
            "2023-05-05 03:19:31,989 INFO: [train..][epoch:  2, iter:   3,400, lr:(2.000e-04,)] [eta: 0:10:37, time (data): 1.685 (0.003)] l_pix: 9.1171e-02 \n",
            "2023-05-05 03:25:08,182 INFO: [train..][epoch:  2, iter:   3,600, lr:(2.000e-04,)] [eta: 0:04:58, time (data): 1.681 (0.003)] l_pix: 2.3648e-02 \n",
            "2023-05-05 03:27:56,813 INFO: [train..][epoch:  2, iter:   3,700, lr:(2.000e-04,)] [eta: 0:02:08, time (data): 1.687 (0.003)] l_pix: 1.0915e-01 \n",
            "2023-05-05 03:30:07,144 INFO: End of training. Time consumed: 1:46:55\n",
            "2023-05-05 03:30:07,147 INFO: Save the latest model.\n",
            "2023-05-05 03:34:11,898 INFO: Validation Set5\n",
            "\t # psnr: 28.0175\tBest: 28.0175 @ 3778 iter\n",
            "\t # ssim: 0.8435\tBest: 0.8435 @ 3778 iter\n",
            "\n"
          ]
        }
      ]
    },
    {
      "cell_type": "code",
      "source": [
        "cd GTmod2"
      ],
      "metadata": {
        "colab": {
          "base_uri": "https://localhost:8080/"
        },
        "id": "8LgT9sbgHcdp",
        "outputId": "4c9e9474-e1ca-4624-8106-0ad33b973787"
      },
      "execution_count": null,
      "outputs": [
        {
          "output_type": "stream",
          "name": "stdout",
          "text": [
            "/content/drive/MyDrive/HAT/datasets/GTmod2\n"
          ]
        }
      ]
    },
    {
      "cell_type": "code",
      "source": [
        "#create directories for testing\n",
        "os.makedirs('test1', exist_ok=True)"
      ],
      "metadata": {
        "id": "97onHCfNHK1R"
      },
      "execution_count": null,
      "outputs": []
    },
    {
      "cell_type": "code",
      "source": [
        "os.listdir()"
      ],
      "metadata": {
        "colab": {
          "base_uri": "https://localhost:8080/"
        },
        "id": "U8HeySDfH3db",
        "outputId": "906d9d6c-01d7-4020-8ef0-9784ca68bfa0"
      },
      "execution_count": null,
      "outputs": [
        {
          "output_type": "execute_result",
          "data": {
            "text/plain": [
              "['train', 'val', 'test', 'train_sub', 'test1']"
            ]
          },
          "metadata": {},
          "execution_count": 28
        }
      ]
    },
    {
      "cell_type": "code",
      "source": [
        "os.chdir('/content/drive/MyDrive/HAT/datasets/LRbicx2')"
      ],
      "metadata": {
        "id": "2UWgKmfXIA8D"
      },
      "execution_count": null,
      "outputs": []
    },
    {
      "cell_type": "code",
      "source": [
        "#create directories for testing\n",
        "os.makedirs('test1', exist_ok=True)"
      ],
      "metadata": {
        "id": "0bDcQmTOH-zP"
      },
      "execution_count": null,
      "outputs": []
    },
    {
      "cell_type": "code",
      "source": [
        "os.listdir()"
      ],
      "metadata": {
        "colab": {
          "base_uri": "https://localhost:8080/"
        },
        "id": "zd8UGUoXIUWB",
        "outputId": "06b98012-8550-408f-eb6f-7a3e815d5b3d"
      },
      "execution_count": null,
      "outputs": [
        {
          "output_type": "execute_result",
          "data": {
            "text/plain": [
              "['train', 'val', 'test', 'train_sub', 'test1']"
            ]
          },
          "metadata": {},
          "execution_count": 32
        }
      ]
    },
    {
      "cell_type": "code",
      "source": [
        "# go back to HAT\n",
        "os.chdir('/content/drive/MyDrive/HAT')"
      ],
      "metadata": {
        "id": "AGZ4prFhJC9o"
      },
      "execution_count": null,
      "outputs": []
    },
    {
      "cell_type": "code",
      "source": [
        "#copy GT & LR images into new directories\n",
        "\n",
        "src_img_GT= ('/content/drive/MyDrive/HAT/datasets/GTmod2/test/00007.png')\n",
        "new_dir_GT=('/content/drive/MyDrive/HAT/datasets/GTmod2/test1/')\n"
      ],
      "metadata": {
        "id": "F-QMjr-tIWe3"
      },
      "execution_count": null,
      "outputs": []
    },
    {
      "cell_type": "code",
      "source": [
        "#test\n",
        "\n",
        "!python /content/drive/MyDrive/HAT/hat/test.py -opt /content/drive/MyDrive/HAT/experiments/train_HAT-L_SRx2_ImageNet_from_scratch/train_HAT-L_SRx2_ImageNet_from_scratch.yml"
      ],
      "metadata": {
        "colab": {
          "base_uri": "https://localhost:8080/"
        },
        "id": "OxneeWN6BzNJ",
        "outputId": "7f0efb31-d00a-49fa-c3c5-05d88d2bcad6"
      },
      "execution_count": null,
      "outputs": [
        {
          "output_type": "stream",
          "name": "stdout",
          "text": [
            "Disable distributed.\n",
            "Path already exists. Rename it to /content/drive/MyDrive/HAT/results/train_HAT-L_SRx2_ImageNet_from_scratch_archived_20230505_040513\n",
            "2023-05-05 04:05:13,948 INFO: \n",
            "                ____                _       _____  ____\n",
            "               / __ ) ____ _ _____ (_)_____/ ___/ / __ \\\n",
            "              / __  |/ __ `// ___// // ___/\\__ \\ / /_/ /\n",
            "             / /_/ // /_/ /(__  )/ // /__ ___/ // _, _/\n",
            "            /_____/ \\__,_//____//_/ \\___//____//_/ |_|\n",
            "     ______                   __   __                 __      __\n",
            "    / ____/____   ____   ____/ /  / /   __  __ _____ / /__   / /\n",
            "   / / __ / __ \\ / __ \\ / __  /  / /   / / / // ___// //_/  / /\n",
            "  / /_/ // /_/ // /_/ // /_/ /  / /___/ /_/ // /__ / /<    /_/\n",
            "  \\____/ \\____/ \\____/ \\____/  /_____/\\____/ \\___//_/|_|  (_)\n",
            "    \n",
            "Version Information: \n",
            "\tBasicSR: 1.3.4.9\n",
            "\tPyTorch: 2.0.0+cu118\n",
            "\tTorchVision: 0.15.1+cu118\n",
            "2023-05-05 04:05:13,949 INFO: \n",
            "  name: train_HAT-L_SRx2_ImageNet_from_scratch\n",
            "  model_type: HATModel\n",
            "  scale: 2\n",
            "  num_gpu: 1\n",
            "  manual_seed: 0\n",
            "  datasets:[\n",
            "    train:[\n",
            "      name: ImageNet\n",
            "      type: ImageNetPairedDataset\n",
            "      dataroot_gt: /content/drive/MyDrive/HAT/datasets/GTmod2/train_sub\n",
            "      meta_info_file: /content/drive/MyDrive/BasicSR/basicsr/data/meta_info/meta_info_train_sub_GT.txt\n",
            "      io_backend:[\n",
            "        type: disk\n",
            "      ]\n",
            "      gt_size: 128\n",
            "      use_hflip: True\n",
            "      use_rot: True\n",
            "      use_shuffle: True\n",
            "      num_worker_per_gpu: 6\n",
            "      batch_size_per_gpu: 2\n",
            "      dataset_enlarge_ratio: 1\n",
            "      prefetch_mode: None\n",
            "      phase: train\n",
            "      scale: 2\n",
            "    ]\n",
            "    val_1:[\n",
            "      name: Set5\n",
            "      type: PairedImageDataset\n",
            "      dataroot_gt: /content/drive/MyDrive/HAT/datasets/GTmod2/test/00007.png\n",
            "      dataroot_lq: /content/drive/MyDrive/HAT/datasets/LRbicx2/test/00007.png\n",
            "      io_backend:[\n",
            "        type: disk\n",
            "      ]\n",
            "      phase: val\n",
            "      scale: 2\n",
            "    ]\n",
            "  ]\n",
            "  network_g:[\n",
            "    type: HAT\n",
            "    upscale: 2\n",
            "    in_chans: 3\n",
            "    img_size: 64\n",
            "    window_size: 16\n",
            "    compress_ratio: 3\n",
            "    squeeze_factor: 30\n",
            "    conv_scale: 0.01\n",
            "    overlap_ratio: 0.5\n",
            "    img_range: 1.0\n",
            "    depths: [6, 6, 6, 6, 6, 6, 6, 6, 6, 6, 6, 6]\n",
            "    embed_dim: 180\n",
            "    num_heads: [6, 6, 6, 6, 6, 6, 6, 6, 6, 6, 6, 6]\n",
            "    mlp_ratio: 2\n",
            "    upsampler: pixelshuffle\n",
            "    resi_connection: 1conv\n",
            "  ]\n",
            "  path:[\n",
            "    pretrain_network_g: None\n",
            "    strict_load_g: True\n",
            "    resume_state: None\n",
            "    results_root: /content/drive/MyDrive/HAT/results/train_HAT-L_SRx2_ImageNet_from_scratch\n",
            "    log: /content/drive/MyDrive/HAT/results/train_HAT-L_SRx2_ImageNet_from_scratch\n",
            "    visualization: /content/drive/MyDrive/HAT/results/train_HAT-L_SRx2_ImageNet_from_scratch/visualization\n",
            "  ]\n",
            "  train:[\n",
            "    ema_decay: 0.999\n",
            "    optim_g:[\n",
            "      type: Adam\n",
            "      lr: 0.0002\n",
            "      weight_decay: 0\n",
            "      betas: [0.9, 0.99]\n",
            "    ]\n",
            "    scheduler:[\n",
            "      type: MultiStepLR\n",
            "      milestones: [300000, 500000, 650000, 700000, 750000]\n",
            "      gamma: 0.5\n",
            "    ]\n",
            "    total_iter: 3777\n",
            "    warmup_iter: -1\n",
            "    pixel_opt:[\n",
            "      type: L1Loss\n",
            "      loss_weight: 1.0\n",
            "      reduction: mean\n",
            "    ]\n",
            "  ]\n",
            "  val:[\n",
            "    val_freq: 10000.0\n",
            "    save_img: False\n",
            "    pbar: False\n",
            "    metrics:[\n",
            "      psnr:[\n",
            "        type: calculate_psnr\n",
            "        crop_border: 2\n",
            "        test_y_channel: True\n",
            "        better: higher\n",
            "      ]\n",
            "      ssim:[\n",
            "        type: calculate_ssim\n",
            "        crop_border: 2\n",
            "        test_y_channel: True\n",
            "        better: higher\n",
            "      ]\n",
            "    ]\n",
            "  ]\n",
            "  logger:[\n",
            "    print_freq: 100\n",
            "    save_checkpoint_freq: 10000.0\n",
            "    use_tb_logger: True\n",
            "    wandb:[\n",
            "      project: None\n",
            "      resume_id: None\n",
            "    ]\n",
            "  ]\n",
            "  dist_params:[\n",
            "    backend: nccl\n",
            "    port: 29500\n",
            "  ]\n",
            "  dist: False\n",
            "  rank: 0\n",
            "  world_size: 1\n",
            "  auto_resume: False\n",
            "  is_train: False\n",
            "\n",
            "2023-05-05 04:05:13,955 INFO: Dataset [ImageNetPairedDataset] - ImageNet is built.\n",
            "/usr/local/lib/python3.10/dist-packages/torch/utils/data/dataloader.py:561: UserWarning: This DataLoader will create 6 worker processes in total. Our suggested max number of worker in current system is 2, which is smaller than what this DataLoader is going to create. Please be aware that excessive worker creation might get DataLoader running slow or even freeze, lower the worker number to avoid potential slowness/freeze if necessary.\n",
            "  warnings.warn(_create_warning_msg(\n",
            "2023-05-05 04:05:13,956 INFO: Number of test images in ImageNet: 2518\n",
            "Traceback (most recent call last):\n",
            "  File \"/content/drive/MyDrive/HAT/hat/test.py\", line 11, in <module>\n",
            "    test_pipeline(root_path)\n",
            "  File \"/usr/local/lib/python3.10/dist-packages/basicsr/test.py\", line 28, in test_pipeline\n",
            "    test_set = build_dataset(dataset_opt)\n",
            "  File \"/usr/local/lib/python3.10/dist-packages/basicsr/data/__init__.py\", line 34, in build_dataset\n",
            "    dataset = DATASET_REGISTRY.get(dataset_opt['type'])(dataset_opt)\n",
            "  File \"/usr/local/lib/python3.10/dist-packages/basicsr/data/paired_image_dataset.py\", line 64, in __init__\n",
            "    self.paths = paired_paths_from_folder([self.lq_folder, self.gt_folder], ['lq', 'gt'], self.filename_tmpl)\n",
            "  File \"/usr/local/lib/python3.10/dist-packages/basicsr/data/data_util.py\", line 219, in paired_paths_from_folder\n",
            "    input_paths = list(scandir(input_folder))\n",
            "  File \"/usr/local/lib/python3.10/dist-packages/basicsr/utils/misc.py\", line 74, in _scandir\n",
            "    for entry in os.scandir(dir_path):\n",
            "NotADirectoryError: [Errno 20] Not a directory: '/content/drive/MyDrive/HAT/datasets/LRbicx2/test/00007.png'\n"
          ]
        }
      ]
    },
    {
      "cell_type": "markdown",
      "source": [
        "## Models evaluation\n",
        "\n",
        "To evaluate the performance of a super-resolution (SR) model, several quantitative and qualitative metrics being used. Here are some common metrics used for evaluating SR models:\n",
        "\n",
        " * Peak Signal-to-Noise Ratio **(PSNR)**: **PSNR** is a widely used metric for image quality assessment. It measures the difference between the original high-resolution (HR) image and the super-resolved image in terms of the mean squared error (MSE). A higher PSNR value indicates better image quality.\n",
        "\n",
        " * Structural Similarity Index Measure (**SSIM**) :  **SSIM** is a perception-based metric that considers image degradation as perceived change in structural information. It measures the similarity between the original HR image and the super-resolved image, taking into account luminance, contrast, and structure. SSIM values range from -1 to 1, with higher values indicating better similarity.\n",
        "\n",
        " * Mean Squared Error (**MSE**): **MSE** measures the average squared difference between the pixel intensities of the original HR image and the super-resolved image. Lower MSE values indicate better performance.\n",
        "\n",
        " * Mean Absolute Error (**MAE**): **MAE** measures the average absolute difference between the pixel intensities of the original HR image and the super-resolved image. Lower MAE values indicate better performance.\n",
        "\n",
        " * Normalized Root Mean Squared Error (**NRMSE**): **NRMSE** is a variant of MSE that normalizes the squared error by dividing it by the range of possible pixel values. Lower NRMSE values indicate better performance.\n",
        "\n",
        "**Note** : Current leaderboard 📈 is evaluated on PSNR and SSIM"
      ],
      "metadata": {
        "id": "iw43eThnpumN"
      }
    },
    {
      "cell_type": "code",
      "source": [],
      "metadata": {
        "id": "SzWRqHwDp10C"
      },
      "execution_count": null,
      "outputs": []
    }
  ]
}